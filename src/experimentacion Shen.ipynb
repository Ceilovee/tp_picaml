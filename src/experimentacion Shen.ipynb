{
 "cells": [
  {
   "cell_type": "markdown",
   "metadata": {},
   "source": [
    "# Experimentación"
   ]
  },
  {
   "cell_type": "code",
   "execution_count": 2,
   "metadata": {},
   "outputs": [
    {
     "name": "stdout",
     "output_type": "stream",
     "text": [
      "2024-06-07 08:31:38,894 - julearn - INFO - ===== Lib Versions =====\n",
      "2024-06-07 08:31:38,896 - julearn - INFO - numpy: 1.26.4\n",
      "2024-06-07 08:31:38,897 - julearn - INFO - scipy: 1.11.4\n",
      "2024-06-07 08:31:38,898 - julearn - INFO - sklearn: 1.3.2\n",
      "2024-06-07 08:31:38,900 - julearn - INFO - pandas: 2.2.1\n",
      "2024-06-07 08:31:38,901 - julearn - INFO - julearn: 0.3.2\n",
      "2024-06-07 08:31:38,903 - julearn - INFO - ========================\n"
     ]
    }
   ],
   "source": [
    "import copy\n",
    "import numpy as np\n",
    "import pandas as pd\n",
    "from junifer.storage import HDF5FeatureStorage\n",
    "import julearn\n",
    "from julearn import run_cross_validation\n",
    "from julearn import PipelineCreator\n",
    "from julearn.utils import configure_logging\n",
    "\n",
    "from julearn.model_selection import RepeatedContinuousStratifiedKFold\n",
    "\n",
    "configure_logging(level=\"INFO\")"
   ]
  },
  {
   "cell_type": "code",
   "execution_count": 3,
   "metadata": {},
   "outputs": [],
   "source": [
    "storage = HDF5FeatureStorage(\"./features/ds003097_GMD/ds003097_GMD.hdf5\")"
   ]
  },
  {
   "cell_type": "code",
   "execution_count": 4,
   "metadata": {},
   "outputs": [
    {
     "data": {
      "text/plain": [
       "{'881ac4e46fc343c867f102ceb674fdff': {'datagrabber': {'class': 'PatternDataladDataGrabber',\n",
       "   'patterns': {'VBM_GM': {'pattern': 'derivatives/fmriprep/{subject}/anat/{subject}_space-MNI152NLin2009cAsym_label-GM_probseg.nii.gz',\n",
       "     'space': 'MNI152NLin2009cAsym'}},\n",
       "   'replacements': ['subject'],\n",
       "   'confounds_format': None,\n",
       "   'types': ['VBM_GM'],\n",
       "   'uri': 'https://github.com/OpenNeuroDatasets/ds003097.git',\n",
       "   'datalad_dirty': False,\n",
       "   'datalad_commit_id': '47f030747dbaf492acd9f9624528aef8d51d8bd9',\n",
       "   'datalad_id': 'aefe5438-e93b-11ea-ad4c-8e2245da6db7'},\n",
       "  'dependencies': {'nilearn': '0.10.2', 'numpy': '1.26.4'},\n",
       "  'datareader': {'class': 'DefaultDataReader'},\n",
       "  'type': 'VBM_GM',\n",
       "  'marker': {'class': 'ParcelAggregation',\n",
       "   'parcellation': ['Schaefer400x7'],\n",
       "   'method': 'mean',\n",
       "   'method_params': {},\n",
       "   'masks': None,\n",
       "   'name': 'Schaefer400x7_Mean',\n",
       "   'time_method': None,\n",
       "   'time_method_params': {}},\n",
       "  '_element_keys': ['subject'],\n",
       "  'name': 'VBM_GM_Schaefer400x7_Mean'},\n",
       " 'c4778da963fd2211a33669ed45fd5e89': {'datagrabber': {'class': 'PatternDataladDataGrabber',\n",
       "   'patterns': {'VBM_GM': {'pattern': 'derivatives/fmriprep/{subject}/anat/{subject}_space-MNI152NLin2009cAsym_label-GM_probseg.nii.gz',\n",
       "     'space': 'MNI152NLin2009cAsym'}},\n",
       "   'replacements': ['subject'],\n",
       "   'confounds_format': None,\n",
       "   'types': ['VBM_GM'],\n",
       "   'uri': 'https://github.com/OpenNeuroDatasets/ds003097.git',\n",
       "   'datalad_dirty': False,\n",
       "   'datalad_commit_id': '47f030747dbaf492acd9f9624528aef8d51d8bd9',\n",
       "   'datalad_id': 'aefe5438-e93b-11ea-ad4c-8e2245da6db7'},\n",
       "  'dependencies': {'numpy': '1.26.4', 'nilearn': '0.10.2'},\n",
       "  'datareader': {'class': 'DefaultDataReader'},\n",
       "  'type': 'VBM_GM',\n",
       "  'marker': {'class': 'ParcelAggregation',\n",
       "   'parcellation': ['Shen_2019_368'],\n",
       "   'method': 'mean',\n",
       "   'method_params': {},\n",
       "   'masks': None,\n",
       "   'name': 'Shen_2019_368_Mean',\n",
       "   'time_method': None,\n",
       "   'time_method_params': {}},\n",
       "  '_element_keys': ['subject'],\n",
       "  'name': 'VBM_GM_Shen_2019_368_Mean'}}"
      ]
     },
     "execution_count": 4,
     "metadata": {},
     "output_type": "execute_result"
    }
   ],
   "source": [
    "storage.list_features()"
   ]
  },
  {
   "cell_type": "code",
   "execution_count": 5,
   "metadata": {},
   "outputs": [],
   "source": [
    "# Cragando dataframe\n",
    "df =storage.read_df(\"VBM_GM_Shen_2019_368_Mean\")"
   ]
  },
  {
   "cell_type": "code",
   "execution_count": 6,
   "metadata": {},
   "outputs": [],
   "source": [
    "# Cambiando etiquetas de las columnas\n",
    "df_demografics = pd.read_csv(\"./data/participants.tsv\", sep=\"\\t\")\n",
    "df_demografics.rename(columns={\"participant_id\": \"subject\"}, inplace=True)"
   ]
  },
  {
   "cell_type": "code",
   "execution_count": 7,
   "metadata": {},
   "outputs": [],
   "source": [
    "# Limpiando dataset\n",
    "df.columns = df.columns.astype(\"str\")\n",
    "X = list(df.columns)\n",
    "df_full = df.merge(df_demografics, on=\"subject\")\n",
    "df_full.dropna(inplace=True, subset=['IST_fluid', 'IST_memory', 'IST_crystallised', 'IST_intelligence_total'])\n",
    "targets = [\"IST_fluid\", \"IST_crystallised\", \"IST_memory\"]"
   ]
  },
  {
   "cell_type": "markdown",
   "metadata": {},
   "source": [
    "Separamos 10% de los datos para validación antes de entrenar los modelos"
   ]
  },
  {
   "cell_type": "code",
   "execution_count": 8,
   "metadata": {},
   "outputs": [
    {
     "data": {
      "text/plain": [
       "(926, 399)"
      ]
     },
     "execution_count": 8,
     "metadata": {},
     "output_type": "execute_result"
    }
   ],
   "source": [
    "df_full.shape"
   ]
  },
  {
   "cell_type": "code",
   "execution_count": 9,
   "metadata": {},
   "outputs": [
    {
     "data": {
      "text/html": [
       "<div>\n",
       "<style scoped>\n",
       "    .dataframe tbody tr th:only-of-type {\n",
       "        vertical-align: middle;\n",
       "    }\n",
       "\n",
       "    .dataframe tbody tr th {\n",
       "        vertical-align: top;\n",
       "    }\n",
       "\n",
       "    .dataframe thead th {\n",
       "        text-align: right;\n",
       "    }\n",
       "</style>\n",
       "<table border=\"1\" class=\"dataframe\">\n",
       "  <thead>\n",
       "    <tr style=\"text-align: right;\">\n",
       "      <th></th>\n",
       "      <th>subject</th>\n",
       "      <th>1</th>\n",
       "      <th>2</th>\n",
       "      <th>3</th>\n",
       "      <th>4</th>\n",
       "      <th>5</th>\n",
       "      <th>6</th>\n",
       "      <th>7</th>\n",
       "      <th>8</th>\n",
       "      <th>9</th>\n",
       "      <th>...</th>\n",
       "      <th>sexual_attraction_M</th>\n",
       "      <th>sexual_attraction_F</th>\n",
       "      <th>gender_identity_M</th>\n",
       "      <th>gender_identity_F</th>\n",
       "      <th>religious_upbringing</th>\n",
       "      <th>religious_now</th>\n",
       "      <th>religious_importance</th>\n",
       "      <th>DWI_TR_run1</th>\n",
       "      <th>DWI_TR_run2</th>\n",
       "      <th>DWI_TR_run3</th>\n",
       "    </tr>\n",
       "  </thead>\n",
       "  <tbody>\n",
       "    <tr>\n",
       "      <th>323</th>\n",
       "      <td>sub-0635</td>\n",
       "      <td>0.514908</td>\n",
       "      <td>0.549903</td>\n",
       "      <td>0.541406</td>\n",
       "      <td>0.514765</td>\n",
       "      <td>0.511887</td>\n",
       "      <td>0.491396</td>\n",
       "      <td>0.350862</td>\n",
       "      <td>0.424827</td>\n",
       "      <td>0.382222</td>\n",
       "      <td>...</td>\n",
       "      <td>2.0</td>\n",
       "      <td>6.0</td>\n",
       "      <td>2.0</td>\n",
       "      <td>5.0</td>\n",
       "      <td>no</td>\n",
       "      <td>no</td>\n",
       "      <td>NaN</td>\n",
       "      <td>6.311</td>\n",
       "      <td>6.311</td>\n",
       "      <td>6.311</td>\n",
       "    </tr>\n",
       "    <tr>\n",
       "      <th>601</th>\n",
       "      <td>sub-0503</td>\n",
       "      <td>0.499974</td>\n",
       "      <td>0.517306</td>\n",
       "      <td>0.542209</td>\n",
       "      <td>0.448822</td>\n",
       "      <td>0.534981</td>\n",
       "      <td>0.555862</td>\n",
       "      <td>0.335824</td>\n",
       "      <td>0.477757</td>\n",
       "      <td>0.425338</td>\n",
       "      <td>...</td>\n",
       "      <td>NaN</td>\n",
       "      <td>NaN</td>\n",
       "      <td>NaN</td>\n",
       "      <td>NaN</td>\n",
       "      <td>no</td>\n",
       "      <td>no</td>\n",
       "      <td>NaN</td>\n",
       "      <td>6.374</td>\n",
       "      <td>6.374</td>\n",
       "      <td>6.374</td>\n",
       "    </tr>\n",
       "    <tr>\n",
       "      <th>30</th>\n",
       "      <td>sub-0345</td>\n",
       "      <td>0.471175</td>\n",
       "      <td>0.525356</td>\n",
       "      <td>0.554896</td>\n",
       "      <td>0.375051</td>\n",
       "      <td>0.439218</td>\n",
       "      <td>0.536979</td>\n",
       "      <td>0.408894</td>\n",
       "      <td>0.317275</td>\n",
       "      <td>0.409072</td>\n",
       "      <td>...</td>\n",
       "      <td>6.0</td>\n",
       "      <td>2.0</td>\n",
       "      <td>1.0</td>\n",
       "      <td>7.0</td>\n",
       "      <td>no</td>\n",
       "      <td>no</td>\n",
       "      <td>NaN</td>\n",
       "      <td>6.311</td>\n",
       "      <td>6.311</td>\n",
       "      <td>6.311</td>\n",
       "    </tr>\n",
       "    <tr>\n",
       "      <th>825</th>\n",
       "      <td>sub-0454</td>\n",
       "      <td>0.439163</td>\n",
       "      <td>0.518745</td>\n",
       "      <td>0.521907</td>\n",
       "      <td>0.395653</td>\n",
       "      <td>0.479172</td>\n",
       "      <td>0.579434</td>\n",
       "      <td>0.410290</td>\n",
       "      <td>0.376543</td>\n",
       "      <td>0.459646</td>\n",
       "      <td>...</td>\n",
       "      <td>NaN</td>\n",
       "      <td>NaN</td>\n",
       "      <td>NaN</td>\n",
       "      <td>NaN</td>\n",
       "      <td>yes</td>\n",
       "      <td>no</td>\n",
       "      <td>NaN</td>\n",
       "      <td>6.311</td>\n",
       "      <td>6.312</td>\n",
       "      <td>6.312</td>\n",
       "    </tr>\n",
       "    <tr>\n",
       "      <th>294</th>\n",
       "      <td>sub-0249</td>\n",
       "      <td>0.472178</td>\n",
       "      <td>0.506438</td>\n",
       "      <td>0.519168</td>\n",
       "      <td>0.394832</td>\n",
       "      <td>0.499193</td>\n",
       "      <td>0.560724</td>\n",
       "      <td>0.370891</td>\n",
       "      <td>0.387456</td>\n",
       "      <td>0.417400</td>\n",
       "      <td>...</td>\n",
       "      <td>NaN</td>\n",
       "      <td>NaN</td>\n",
       "      <td>NaN</td>\n",
       "      <td>NaN</td>\n",
       "      <td>yes</td>\n",
       "      <td>no</td>\n",
       "      <td>NaN</td>\n",
       "      <td>6.312</td>\n",
       "      <td>6.313</td>\n",
       "      <td>6.313</td>\n",
       "    </tr>\n",
       "    <tr>\n",
       "      <th>...</th>\n",
       "      <td>...</td>\n",
       "      <td>...</td>\n",
       "      <td>...</td>\n",
       "      <td>...</td>\n",
       "      <td>...</td>\n",
       "      <td>...</td>\n",
       "      <td>...</td>\n",
       "      <td>...</td>\n",
       "      <td>...</td>\n",
       "      <td>...</td>\n",
       "      <td>...</td>\n",
       "      <td>...</td>\n",
       "      <td>...</td>\n",
       "      <td>...</td>\n",
       "      <td>...</td>\n",
       "      <td>...</td>\n",
       "      <td>...</td>\n",
       "      <td>...</td>\n",
       "      <td>...</td>\n",
       "      <td>...</td>\n",
       "      <td>...</td>\n",
       "    </tr>\n",
       "    <tr>\n",
       "      <th>801</th>\n",
       "      <td>sub-0850</td>\n",
       "      <td>0.486701</td>\n",
       "      <td>0.535969</td>\n",
       "      <td>0.556655</td>\n",
       "      <td>0.462936</td>\n",
       "      <td>0.508814</td>\n",
       "      <td>0.489372</td>\n",
       "      <td>0.365765</td>\n",
       "      <td>0.435467</td>\n",
       "      <td>0.395467</td>\n",
       "      <td>...</td>\n",
       "      <td>7.0</td>\n",
       "      <td>2.0</td>\n",
       "      <td>1.0</td>\n",
       "      <td>7.0</td>\n",
       "      <td>no</td>\n",
       "      <td>no</td>\n",
       "      <td>NaN</td>\n",
       "      <td>6.311</td>\n",
       "      <td>6.311</td>\n",
       "      <td>6.311</td>\n",
       "    </tr>\n",
       "    <tr>\n",
       "      <th>60</th>\n",
       "      <td>sub-0404</td>\n",
       "      <td>0.524086</td>\n",
       "      <td>0.561566</td>\n",
       "      <td>0.661606</td>\n",
       "      <td>0.478921</td>\n",
       "      <td>0.557874</td>\n",
       "      <td>0.559515</td>\n",
       "      <td>0.413938</td>\n",
       "      <td>0.435262</td>\n",
       "      <td>0.482556</td>\n",
       "      <td>...</td>\n",
       "      <td>7.0</td>\n",
       "      <td>1.0</td>\n",
       "      <td>2.0</td>\n",
       "      <td>5.0</td>\n",
       "      <td>yes</td>\n",
       "      <td>no</td>\n",
       "      <td>NaN</td>\n",
       "      <td>6.374</td>\n",
       "      <td>6.374</td>\n",
       "      <td>6.374</td>\n",
       "    </tr>\n",
       "    <tr>\n",
       "      <th>803</th>\n",
       "      <td>sub-0222</td>\n",
       "      <td>0.372856</td>\n",
       "      <td>0.496878</td>\n",
       "      <td>0.523030</td>\n",
       "      <td>0.448043</td>\n",
       "      <td>0.455269</td>\n",
       "      <td>0.459995</td>\n",
       "      <td>0.351385</td>\n",
       "      <td>0.392032</td>\n",
       "      <td>0.408869</td>\n",
       "      <td>...</td>\n",
       "      <td>1.0</td>\n",
       "      <td>7.0</td>\n",
       "      <td>7.0</td>\n",
       "      <td>1.0</td>\n",
       "      <td>yes</td>\n",
       "      <td>no</td>\n",
       "      <td>NaN</td>\n",
       "      <td>6.311</td>\n",
       "      <td>6.311</td>\n",
       "      <td>6.311</td>\n",
       "    </tr>\n",
       "    <tr>\n",
       "      <th>660</th>\n",
       "      <td>sub-0709</td>\n",
       "      <td>0.564245</td>\n",
       "      <td>0.578342</td>\n",
       "      <td>0.601177</td>\n",
       "      <td>0.491050</td>\n",
       "      <td>0.482314</td>\n",
       "      <td>0.565333</td>\n",
       "      <td>0.416673</td>\n",
       "      <td>0.493292</td>\n",
       "      <td>0.427446</td>\n",
       "      <td>...</td>\n",
       "      <td>NaN</td>\n",
       "      <td>NaN</td>\n",
       "      <td>NaN</td>\n",
       "      <td>NaN</td>\n",
       "      <td>no</td>\n",
       "      <td>no</td>\n",
       "      <td>NaN</td>\n",
       "      <td>6.311</td>\n",
       "      <td>6.312</td>\n",
       "      <td>6.312</td>\n",
       "    </tr>\n",
       "    <tr>\n",
       "      <th>390</th>\n",
       "      <td>sub-0234</td>\n",
       "      <td>0.429377</td>\n",
       "      <td>0.487008</td>\n",
       "      <td>0.527155</td>\n",
       "      <td>0.341803</td>\n",
       "      <td>0.385798</td>\n",
       "      <td>0.513157</td>\n",
       "      <td>0.351639</td>\n",
       "      <td>0.289295</td>\n",
       "      <td>0.364805</td>\n",
       "      <td>...</td>\n",
       "      <td>1.0</td>\n",
       "      <td>7.0</td>\n",
       "      <td>6.0</td>\n",
       "      <td>1.0</td>\n",
       "      <td>no</td>\n",
       "      <td>no</td>\n",
       "      <td>NaN</td>\n",
       "      <td>6.522</td>\n",
       "      <td>6.522</td>\n",
       "      <td>6.522</td>\n",
       "    </tr>\n",
       "  </tbody>\n",
       "</table>\n",
       "<p>93 rows × 399 columns</p>\n",
       "</div>"
      ],
      "text/plain": [
       "      subject         1         2         3         4         5         6  \\\n",
       "323  sub-0635  0.514908  0.549903  0.541406  0.514765  0.511887  0.491396   \n",
       "601  sub-0503  0.499974  0.517306  0.542209  0.448822  0.534981  0.555862   \n",
       "30   sub-0345  0.471175  0.525356  0.554896  0.375051  0.439218  0.536979   \n",
       "825  sub-0454  0.439163  0.518745  0.521907  0.395653  0.479172  0.579434   \n",
       "294  sub-0249  0.472178  0.506438  0.519168  0.394832  0.499193  0.560724   \n",
       "..        ...       ...       ...       ...       ...       ...       ...   \n",
       "801  sub-0850  0.486701  0.535969  0.556655  0.462936  0.508814  0.489372   \n",
       "60   sub-0404  0.524086  0.561566  0.661606  0.478921  0.557874  0.559515   \n",
       "803  sub-0222  0.372856  0.496878  0.523030  0.448043  0.455269  0.459995   \n",
       "660  sub-0709  0.564245  0.578342  0.601177  0.491050  0.482314  0.565333   \n",
       "390  sub-0234  0.429377  0.487008  0.527155  0.341803  0.385798  0.513157   \n",
       "\n",
       "            7         8         9  ...  sexual_attraction_M  \\\n",
       "323  0.350862  0.424827  0.382222  ...                  2.0   \n",
       "601  0.335824  0.477757  0.425338  ...                  NaN   \n",
       "30   0.408894  0.317275  0.409072  ...                  6.0   \n",
       "825  0.410290  0.376543  0.459646  ...                  NaN   \n",
       "294  0.370891  0.387456  0.417400  ...                  NaN   \n",
       "..        ...       ...       ...  ...                  ...   \n",
       "801  0.365765  0.435467  0.395467  ...                  7.0   \n",
       "60   0.413938  0.435262  0.482556  ...                  7.0   \n",
       "803  0.351385  0.392032  0.408869  ...                  1.0   \n",
       "660  0.416673  0.493292  0.427446  ...                  NaN   \n",
       "390  0.351639  0.289295  0.364805  ...                  1.0   \n",
       "\n",
       "     sexual_attraction_F  gender_identity_M  gender_identity_F  \\\n",
       "323                  6.0                2.0                5.0   \n",
       "601                  NaN                NaN                NaN   \n",
       "30                   2.0                1.0                7.0   \n",
       "825                  NaN                NaN                NaN   \n",
       "294                  NaN                NaN                NaN   \n",
       "..                   ...                ...                ...   \n",
       "801                  2.0                1.0                7.0   \n",
       "60                   1.0                2.0                5.0   \n",
       "803                  7.0                7.0                1.0   \n",
       "660                  NaN                NaN                NaN   \n",
       "390                  7.0                6.0                1.0   \n",
       "\n",
       "     religious_upbringing  religious_now  religious_importance  DWI_TR_run1  \\\n",
       "323                    no             no                   NaN        6.311   \n",
       "601                    no             no                   NaN        6.374   \n",
       "30                     no             no                   NaN        6.311   \n",
       "825                   yes             no                   NaN        6.311   \n",
       "294                   yes             no                   NaN        6.312   \n",
       "..                    ...            ...                   ...          ...   \n",
       "801                    no             no                   NaN        6.311   \n",
       "60                    yes             no                   NaN        6.374   \n",
       "803                   yes             no                   NaN        6.311   \n",
       "660                    no             no                   NaN        6.311   \n",
       "390                    no             no                   NaN        6.522   \n",
       "\n",
       "     DWI_TR_run2  DWI_TR_run3  \n",
       "323        6.311        6.311  \n",
       "601        6.374        6.374  \n",
       "30         6.311        6.311  \n",
       "825        6.312        6.312  \n",
       "294        6.313        6.313  \n",
       "..           ...          ...  \n",
       "801        6.311        6.311  \n",
       "60         6.374        6.374  \n",
       "803        6.311        6.311  \n",
       "660        6.312        6.312  \n",
       "390        6.522        6.522  \n",
       "\n",
       "[93 rows x 399 columns]"
      ]
     },
     "execution_count": 9,
     "metadata": {},
     "output_type": "execute_result"
    }
   ],
   "source": [
    "df_holdout = df_full.sample(frac=0.1, random_state=42)\n",
    "df_holdout"
   ]
  },
  {
   "cell_type": "code",
   "execution_count": 10,
   "metadata": {},
   "outputs": [
    {
     "data": {
      "text/plain": [
       "(833, 399)"
      ]
     },
     "execution_count": 10,
     "metadata": {},
     "output_type": "execute_result"
    }
   ],
   "source": [
    "# Separando holdset de training set\n",
    "df_full.drop(df_holdout.index, inplace=True)\n",
    "df_full.shape"
   ]
  },
  {
   "cell_type": "markdown",
   "metadata": {},
   "source": [
    "### Correlación entre los targets"
   ]
  },
  {
   "cell_type": "code",
   "execution_count": 11,
   "metadata": {},
   "outputs": [
    {
     "data": {
      "text/plain": [
       "<Axes: >"
      ]
     },
     "execution_count": 11,
     "metadata": {},
     "output_type": "execute_result"
    },
    {
     "data": {
      "image/png": "[encoded data removed]",
      "text/plain": [
       "<Figure size 640x480 with 2 Axes>"
      ]
     },
     "metadata": {},
     "output_type": "display_data"
    }
   ],
   "source": [
    "#correlation map of the 3 features to predict. IST_fluid, IST_crystallised, IST_memory\n",
    "import seaborn as sns\n",
    "import matplotlib.pyplot as plt\n",
    "\n",
    "sns.heatmap(df_full[targets].corr(), annot=True)"
   ]
  },
  {
   "cell_type": "code",
   "execution_count": 12,
   "metadata": {},
   "outputs": [
    {
     "data": {
      "text/plain": [
       "<seaborn.axisgrid.PairGrid at 0x7f09c83f6090>"
      ]
     },
     "execution_count": 12,
     "metadata": {},
     "output_type": "execute_result"
    },
    {
     "data": {
      "image/png": "[encoded data removed]",
      "text/plain": [
       "<Figure size 750x750 with 12 Axes>"
      ]
     },
     "metadata": {},
     "output_type": "display_data"
    }
   ],
   "source": [
    "# Pairplot of the 3 features to predict. Correlation and distribution of the targets and the total\n",
    "\n",
    "sns.pairplot(df_full[[\"IST_fluid\", \"IST_crystallised\", \"IST_memory\"]])"
   ]
  },
  {
   "cell_type": "markdown",
   "metadata": {},
   "source": [
    "### Entrenamiento"
   ]
  },
  {
   "cell_type": "code",
   "execution_count": 13,
   "metadata": {},
   "outputs": [],
   "source": [
    "cv = RepeatedContinuousStratifiedKFold(3, n_splits=3, n_repeats=10, random_state=42)"
   ]
  },
  {
   "cell_type": "code",
   "execution_count": 14,
   "metadata": {},
   "outputs": [
    {
     "name": "stdout",
     "output_type": "stream",
     "text": [
      "2024-06-07 08:31:40,745 - julearn - INFO - Adding step zscore that applies to ColumnTypes<types={'continuous'}; pattern=(?:__:type:__continuous)>\n",
      "2024-06-07 08:31:40,748 - julearn - INFO - Step added\n",
      "2024-06-07 08:31:40,751 - julearn - INFO - Adding step svm that applies to ColumnTypes<types={'continuous'}; pattern=(?:__:type:__continuous)>\n",
      "2024-06-07 08:31:40,752 - julearn - INFO - Setting hyperparameter kernel = linear\n",
      "2024-06-07 08:31:40,754 - julearn - INFO - Tuning hyperparameter C = (1e-06, 1, 'log-uniform')\n",
      "2024-06-07 08:31:40,756 - julearn - INFO - Tuning hyperparameter epsilon = (0.01, 3, 'log-uniform')\n",
      "2024-06-07 08:31:40,758 - julearn - INFO - Step added\n",
      "2024-06-07 08:31:40,760 - julearn - INFO - Adding step zscore that applies to ColumnTypes<types={'continuous'}; pattern=(?:__:type:__continuous)>\n",
      "2024-06-07 08:31:40,761 - julearn - INFO - Step added\n",
      "2024-06-07 08:31:40,762 - julearn - INFO - Adding step svm that applies to ColumnTypes<types={'continuous'}; pattern=(?:__:type:__continuous)>\n",
      "2024-06-07 08:31:40,764 - julearn - INFO - Tuning hyperparameter kernel = ['rbf', 'sigmoid']\n",
      "2024-06-07 08:31:40,765 - julearn - INFO - Tuning hyperparameter C = (1e-06, 1, 'log-uniform')\n",
      "2024-06-07 08:31:40,767 - julearn - INFO - Tuning hyperparameter gamma = [1e-05, 0.0001, 0.001, 0.01, 'scale', 'auto']\n",
      "2024-06-07 08:31:40,768 - julearn - INFO - Tuning hyperparameter epsilon = (0.01, 3, 'log-uniform')\n",
      "2024-06-07 08:31:40,770 - julearn - INFO - Step added\n",
      "2024-06-07 08:31:40,771 - julearn - INFO - Adding step zscore that applies to ColumnTypes<types={'continuous'}; pattern=(?:__:type:__continuous)>\n",
      "2024-06-07 08:31:40,773 - julearn - INFO - Step added\n",
      "2024-06-07 08:31:40,774 - julearn - INFO - Adding step rf that applies to ColumnTypes<types={'continuous'}; pattern=(?:__:type:__continuous)>\n",
      "2024-06-07 08:31:40,775 - julearn - INFO - Tuning hyperparameter n_estimators = [25, 50, 100]\n",
      "2024-06-07 08:31:40,777 - julearn - INFO - Tuning hyperparameter max_depth = [5, 10, 20]\n",
      "2024-06-07 08:31:40,779 - julearn - INFO - Step added\n",
      "2024-06-07 08:31:40,781 - julearn - INFO - Adding step zscore that applies to ColumnTypes<types={'continuous'}; pattern=(?:__:type:__continuous)>\n",
      "2024-06-07 08:31:40,783 - julearn - INFO - Step added\n",
      "2024-06-07 08:31:40,785 - julearn - INFO - Adding step gradientboost that applies to ColumnTypes<types={'continuous'}; pattern=(?:__:type:__continuous)>\n",
      "2024-06-07 08:31:40,786 - julearn - INFO - Tuning hyperparameter n_estimators = [25, 50, 100]\n",
      "2024-06-07 08:31:40,788 - julearn - INFO - Tuning hyperparameter max_depth = [3, 5, 10]\n",
      "2024-06-07 08:31:40,789 - julearn - INFO - Setting hyperparameter random_state = 42\n",
      "2024-06-07 08:31:40,791 - julearn - INFO - Step added\n",
      "2024-06-07 08:31:40,793 - julearn - INFO - Adding step zscore that applies to ColumnTypes<types={'continuous'}; pattern=(?:__:type:__continuous)>\n",
      "2024-06-07 08:31:40,794 - julearn - INFO - Step added\n",
      "2024-06-07 08:31:40,796 - julearn - INFO - Adding step dummy that applies to ColumnTypes<types={'continuous'}; pattern=(?:__:type:__continuous)>\n",
      "2024-06-07 08:31:40,798 - julearn - INFO - Step added\n"
     ]
    },
    {
     "data": {
      "text/plain": [
       "<julearn.pipeline.pipeline_creator.PipelineCreator at 0x7f09c87ca250>"
      ]
     },
     "execution_count": 14,
     "metadata": {},
     "output_type": "execute_result"
    }
   ],
   "source": [
    "search_params = {\n",
    "    \"kind\": \"bayes\",\n",
    "    \"n_iter\": 50,\n",
    "}\n",
    "\n",
    "# Model 1 (SVM)\n",
    "creator1 = PipelineCreator(problem_type=\"regression\")\n",
    "creator1.add(\"zscore\")\n",
    "creator1.add(\"svm\",\n",
    "             kernel=\"linear\",\n",
    "             C=(1e-6, 1, \"log-uniform\"),\n",
    "             epsilon=(0.01, 3, \"log-uniform\")\n",
    "            )\n",
    "\n",
    "creator2 = PipelineCreator(problem_type=\"regression\")\n",
    "creator2.add(\"zscore\")\n",
    "creator2.add(\"svm\", \n",
    "             kernel=[\"rbf\", \"sigmoid\"],\n",
    "             C=(1e-6, 1, \"log-uniform\"),\n",
    "             gamma=[1e-5, 1e-4, 1e-3, 1e-2, \"scale\", \"auto\"],\n",
    "             epsilon=(0.01, 3, \"log-uniform\")\n",
    "            )\n",
    "\n",
    "# Model 2 (Random Forest)\n",
    "creator3 = PipelineCreator(problem_type=\"regression\")\n",
    "creator3.add(\"zscore\")\n",
    "creator3.add(\"rf\", n_estimators=[25, 50, 100], max_depth=[5, 10, 20])\n",
    "\n",
    "# Model 3 (Gradient Boosting)\n",
    "creatorXG = PipelineCreator(problem_type=\"regression\")\n",
    "creatorXG.add(\"zscore\")\n",
    "creatorXG.add(\"gradientboost\", n_estimators=[25, 50, 100], max_depth=[3, 5, 10], random_state=42)\n",
    "\n",
    "# Model 4 (Dummy)\n",
    "dummy_creator = PipelineCreator(problem_type=\"regression\")\n",
    "dummy_creator.add(\"zscore\")\n",
    "dummy_creator.add(\"dummy\")"
   ]
  },
  {
   "cell_type": "code",
   "execution_count": 15,
   "metadata": {},
   "outputs": [],
   "source": [
    "scores_dict = {t: {} for t in targets}\n",
    "model_dict = {t: {} for t in targets}\n",
    "inspector_dict = {t: {} for t in targets}\n",
    "\n",
    "models = {'SVM': [creator1, creator2], 'RF': creator3, 'XGBoost': creatorXG, 'Dummy': dummy_creator}"
   ]
  },
  {
   "cell_type": "markdown",
   "metadata": {},
   "source": [
    "### Visualización"
   ]
  },
  {
   "cell_type": "code",
   "execution_count": 16,
   "metadata": {},
   "outputs": [],
   "source": [
    "from julearn.viz import plot_scores"
   ]
  },
  {
   "cell_type": "code",
   "execution_count": 17,
   "metadata": {},
   "outputs": [
    {
     "name": "stdout",
     "output_type": "stream",
     "text": [
      "2024-06-07 08:31:41,975 - julearn - INFO - Inspector requested: setting return_estimator='all'\n",
      "2024-06-07 08:31:41,976 - julearn - INFO - ==== Input Data ====\n",
      "2024-06-07 08:31:41,977 - julearn - INFO - Using dataframe as input\n",
      "2024-06-07 08:31:41,980 - julearn - INFO - \tFeatures: ['1', '2', '3', '4', '5', '6', '7', '8', '9', '10', '11', '12', '13', '14', '15', '16', '17', '18', '19', '20', '21', '22', '23', '24', '25', '26', '27', '28', '29', '30', '31', '32', '33', '34', '35', '36', '37', '38', '39', '40', '41', '42', '43', '44', '45', '46', '47', '48', '49', '50', '51', '52', '53', '54', '55', '56', '57', '58', '59', '60', '61', '62', '63', '64', '65', '66', '67', '68', '69', '70', '71', '72', '73', '74', '75', '76', '77', '78', '79', '80', '81', '82', '83', '84', '85', '86', '87', '88', '89', '90', '91', '92', '93', '94', '95', '96', '97', '98', '99', '100', '101', '102', '103', '104', '105', '106', '107', '108', '109', '110', '111', '112', '113', '114', '115', '116', '117', '118', '119', '120', '121', '122', '123', '124', '125', '126', '127', '128', '129', '130', '131', '132', '133', '134', '135', '136', '137', '138', '139', '140', '141', '142', '143', '144', '145', '146', '147', '148', '149', '150', '151', '152', '153', '154', '155', '156', '157', '158', '159', '160', '161', '162', '163', '164', '165', '166', '167', '168', '169', '170', '171', '172', '173', '174', '175', '176', '177', '178', '179', '180', '181', '182', '183', '184', '185', '186', '187', '188', '189', '190', '191', '192', '193', '194', '195', '196', '197', '198', '199', '200', '201', '202', '203', '204', '205', '206', '207', '208', '209', '210', '211', '212', '213', '214', '215', '216', '217', '218', '219', '220', '221', '222', '223', '224', '225', '226', '227', '228', '229', '230', '231', '232', '233', '234', '235', '236', '237', '238', '239', '240', '241', '242', '243', '244', '245', '246', '247', '248', '249', '250', '251', '252', '253', '254', '255', '256', '257', '258', '259', '260', '261', '262', '263', '264', '265', '266', '267', '268', '269', '270', '271', '272', '273', '274', '275', '276', '277', '278', '279', '280', '281', '282', '283', '284', '285', '286', '287', '288', '289', '290', '291', '292', '293', '294', '295', '296', '297', '298', '299', '300', '301', '302', '303', '304', '305', '306', '307', '308', '309', '310', '311', '312', '313', '314', '315', '316', '317', '318', '319', '320', '321', '322', '323', '324', '325', '326', '327', '328', '329', '330', '331', '332', '333', '334', '335', '336', '337', '338', '339', '340', '341', '342', '343', '344', '345', '346', '347', '348', '349', '350', '351', '352', '353', '354', '355', '356', '357', '358', '359', '360', '361', '362', '363', '364', '365', '366', '367', '368']\n",
      "2024-06-07 08:31:41,981 - julearn - INFO - \tTarget: IST_fluid\n",
      "2024-06-07 08:31:42,027 - julearn - INFO - \tExpanded features: ['1', '2', '3', '4', '5', '6', '7', '8', '9', '10', '11', '12', '13', '14', '15', '16', '17', '18', '19', '20', '21', '22', '23', '24', '25', '26', '27', '28', '29', '30', '31', '32', '33', '34', '35', '36', '37', '38', '39', '40', '41', '42', '43', '44', '45', '46', '47', '48', '49', '50', '51', '52', '53', '54', '55', '56', '57', '58', '59', '60', '61', '62', '63', '64', '65', '66', '67', '68', '69', '70', '71', '72', '73', '74', '75', '76', '77', '78', '79', '80', '81', '82', '83', '84', '85', '86', '87', '88', '89', '90', '91', '92', '93', '94', '95', '96', '97', '98', '99', '100', '101', '102', '103', '104', '105', '106', '107', '108', '109', '110', '111', '112', '113', '114', '115', '116', '117', '118', '119', '120', '121', '122', '123', '124', '125', '126', '127', '128', '129', '130', '131', '132', '133', '134', '135', '136', '137', '138', '139', '140', '141', '142', '143', '144', '145', '146', '147', '148', '149', '150', '151', '152', '153', '154', '155', '156', '157', '158', '159', '160', '161', '162', '163', '164', '165', '166', '167', '168', '169', '170', '171', '172', '173', '174', '175', '176', '177', '178', '179', '180', '181', '182', '183', '184', '185', '186', '187', '188', '189', '190', '191', '192', '193', '194', '195', '196', '197', '198', '199', '200', '201', '202', '203', '204', '205', '206', '207', '208', '209', '210', '211', '212', '213', '214', '215', '216', '217', '218', '219', '220', '221', '222', '223', '224', '225', '226', '227', '228', '229', '230', '231', '232', '233', '234', '235', '236', '237', '238', '239', '240', '241', '242', '243', '244', '245', '246', '247', '248', '249', '250', '251', '252', '253', '254', '255', '256', '257', '258', '259', '260', '261', '262', '263', '264', '265', '266', '267', '268', '269', '270', '271', '272', '273', '274', '275', '276', '277', '278', '279', '280', '281', '282', '283', '284', '285', '286', '287', '288', '289', '290', '291', '292', '293', '294', '295', '296', '297', '298', '299', '300', '301', '302', '303', '304', '305', '306', '307', '308', '309', '310', '311', '312', '313', '314', '315', '316', '317', '318', '319', '320', '321', '322', '323', '324', '325', '326', '327', '328', '329', '330', '331', '332', '333', '334', '335', '336', '337', '338', '339', '340', '341', '342', '343', '344', '345', '346', '347', '348', '349', '350', '351', '352', '353', '354', '355', '356', '357', '358', '359', '360', '361', '362', '363', '364', '365', '366', '367', '368']\n",
      "2024-06-07 08:31:42,029 - julearn - INFO - \tX_types:{}\n",
      "2024-06-07 08:31:42,030 - julearn - WARNING - The following columns are not defined in X_types: ['1', '2', '3', '4', '5', '6', '7', '8', '9', '10', '11', '12', '13', '14', '15', '16', '17', '18', '19', '20', '21', '22', '23', '24', '25', '26', '27', '28', '29', '30', '31', '32', '33', '34', '35', '36', '37', '38', '39', '40', '41', '42', '43', '44', '45', '46', '47', '48', '49', '50', '51', '52', '53', '54', '55', '56', '57', '58', '59', '60', '61', '62', '63', '64', '65', '66', '67', '68', '69', '70', '71', '72', '73', '74', '75', '76', '77', '78', '79', '80', '81', '82', '83', '84', '85', '86', '87', '88', '89', '90', '91', '92', '93', '94', '95', '96', '97', '98', '99', '100', '101', '102', '103', '104', '105', '106', '107', '108', '109', '110', '111', '112', '113', '114', '115', '116', '117', '118', '119', '120', '121', '122', '123', '124', '125', '126', '127', '128', '129', '130', '131', '132', '133', '134', '135', '136', '137', '138', '139', '140', '141', '142', '143', '144', '145', '146', '147', '148', '149', '150', '151', '152', '153', '154', '155', '156', '157', '158', '159', '160', '161', '162', '163', '164', '165', '166', '167', '168', '169', '170', '171', '172', '173', '174', '175', '176', '177', '178', '179', '180', '181', '182', '183', '184', '185', '186', '187', '188', '189', '190', '191', '192', '193', '194', '195', '196', '197', '198', '199', '200', '201', '202', '203', '204', '205', '206', '207', '208', '209', '210', '211', '212', '213', '214', '215', '216', '217', '218', '219', '220', '221', '222', '223', '224', '225', '226', '227', '228', '229', '230', '231', '232', '233', '234', '235', '236', '237', '238', '239', '240', '241', '242', '243', '244', '245', '246', '247', '248', '249', '250', '251', '252', '253', '254', '255', '256', '257', '258', '259', '260', '261', '262', '263', '264', '265', '266', '267', '268', '269', '270', '271', '272', '273', '274', '275', '276', '277', '278', '279', '280', '281', '282', '283', '284', '285', '286', '287', '288', '289', '290', '291', '292', '293', '294', '295', '296', '297', '298', '299', '300', '301', '302', '303', '304', '305', '306', '307', '308', '309', '310', '311', '312', '313', '314', '315', '316', '317', '318', '319', '320', '321', '322', '323', '324', '325', '326', '327', '328', '329', '330', '331', '332', '333', '334', '335', '336', '337', '338', '339', '340', '341', '342', '343', '344', '345', '346', '347', '348', '349', '350', '351', '352', '353', '354', '355', '356', '357', '358', '359', '360', '361', '362', '363', '364', '365', '366', '367', '368']. They will be treated as continuous.\n"
     ]
    },
    {
     "name": "stderr",
     "output_type": "stream",
     "text": [
      "/home/lucas/miniconda3/envs/neurodc/lib/python3.11/site-packages/julearn/prepare.py:505: RuntimeWarning: The following columns are not defined in X_types: ['1', '2', '3', '4', '5', '6', '7', '8', '9', '10', '11', '12', '13', '14', '15', '16', '17', '18', '19', '20', '21', '22', '23', '24', '25', '26', '27', '28', '29', '30', '31', '32', '33', '34', '35', '36', '37', '38', '39', '40', '41', '42', '43', '44', '45', '46', '47', '48', '49', '50', '51', '52', '53', '54', '55', '56', '57', '58', '59', '60', '61', '62', '63', '64', '65', '66', '67', '68', '69', '70', '71', '72', '73', '74', '75', '76', '77', '78', '79', '80', '81', '82', '83', '84', '85', '86', '87', '88', '89', '90', '91', '92', '93', '94', '95', '96', '97', '98', '99', '100', '101', '102', '103', '104', '105', '106', '107', '108', '109', '110', '111', '112', '113', '114', '115', '116', '117', '118', '119', '120', '121', '122', '123', '124', '125', '126', '127', '128', '129', '130', '131', '132', '133', '134', '135', '136', '137', '138', '139', '140', '141', '142', '143', '144', '145', '146', '147', '148', '149', '150', '151', '152', '153', '154', '155', '156', '157', '158', '159', '160', '161', '162', '163', '164', '165', '166', '167', '168', '169', '170', '171', '172', '173', '174', '175', '176', '177', '178', '179', '180', '181', '182', '183', '184', '185', '186', '187', '188', '189', '190', '191', '192', '193', '194', '195', '196', '197', '198', '199', '200', '201', '202', '203', '204', '205', '206', '207', '208', '209', '210', '211', '212', '213', '214', '215', '216', '217', '218', '219', '220', '221', '222', '223', '224', '225', '226', '227', '228', '229', '230', '231', '232', '233', '234', '235', '236', '237', '238', '239', '240', '241', '242', '243', '244', '245', '246', '247', '248', '249', '250', '251', '252', '253', '254', '255', '256', '257', '258', '259', '260', '261', '262', '263', '264', '265', '266', '267', '268', '269', '270', '271', '272', '273', '274', '275', '276', '277', '278', '279', '280', '281', '282', '283', '284', '285', '286', '287', '288', '289', '290', '291', '292', '293', '294', '295', '296', '297', '298', '299', '300', '301', '302', '303', '304', '305', '306', '307', '308', '309', '310', '311', '312', '313', '314', '315', '316', '317', '318', '319', '320', '321', '322', '323', '324', '325', '326', '327', '328', '329', '330', '331', '332', '333', '334', '335', '336', '337', '338', '339', '340', '341', '342', '343', '344', '345', '346', '347', '348', '349', '350', '351', '352', '353', '354', '355', '356', '357', '358', '359', '360', '361', '362', '363', '364', '365', '366', '367', '368']. They will be treated as continuous.\n",
      "  warn_with_log(\n"
     ]
    },
    {
     "name": "stdout",
     "output_type": "stream",
     "text": [
      "2024-06-07 08:31:42,034 - julearn - INFO - ====================\n",
      "2024-06-07 08:31:42,035 - julearn - INFO - \n",
      "2024-06-07 08:31:42,039 - julearn - INFO - = Model Parameters =\n",
      "2024-06-07 08:31:42,041 - julearn - INFO - Tuning hyperparameters using bayes\n",
      "2024-06-07 08:31:42,042 - julearn - INFO - Hyperparameters:\n",
      "2024-06-07 08:31:42,043 - julearn - INFO - \tsvm__C: (1e-06, 1, 'log-uniform')\n",
      "2024-06-07 08:31:42,045 - julearn - INFO - \tsvm__epsilon: (0.01, 3, 'log-uniform')\n",
      "2024-06-07 08:31:42,046 - julearn - INFO - Hyperparameter svm__C as is (1e-06, 1, 'log-uniform')\n",
      "2024-06-07 08:31:42,048 - julearn - INFO - Hyperparameter svm__epsilon as is (0.01, 3, 'log-uniform')\n",
      "2024-06-07 08:31:42,049 - julearn - INFO - Using inner CV scheme KFold(n_splits=5, random_state=None, shuffle=False)\n",
      "2024-06-07 08:31:42,051 - julearn - INFO - Search Parameters:\n",
      "2024-06-07 08:31:42,052 - julearn - INFO - \tn_iter: 50\n",
      "2024-06-07 08:31:42,053 - julearn - INFO - \tcv: KFold(n_splits=5, random_state=None, shuffle=False)\n",
      "2024-06-07 08:31:42,057 - julearn - INFO - ====================\n",
      "2024-06-07 08:31:42,058 - julearn - INFO - \n",
      "2024-06-07 08:31:42,060 - julearn - INFO - = Model Parameters =\n",
      "2024-06-07 08:31:42,061 - julearn - INFO - Tuning hyperparameters using bayes\n",
      "2024-06-07 08:31:42,063 - julearn - INFO - Hyperparameters:\n",
      "2024-06-07 08:31:42,064 - julearn - INFO - \tsvm__kernel: ['rbf', 'sigmoid']\n",
      "2024-06-07 08:31:42,065 - julearn - INFO - \tsvm__C: (1e-06, 1, 'log-uniform')\n",
      "2024-06-07 08:31:42,067 - julearn - INFO - \tsvm__gamma: [1e-05, 0.0001, 0.001, 0.01, 'scale', 'auto']\n",
      "2024-06-07 08:31:42,068 - julearn - INFO - \tsvm__epsilon: (0.01, 3, 'log-uniform')\n",
      "2024-06-07 08:31:42,069 - julearn - INFO - Hyperparameter svm__kernel as is ['rbf', 'sigmoid']\n",
      "2024-06-07 08:31:42,071 - julearn - INFO - Hyperparameter svm__C as is (1e-06, 1, 'log-uniform')\n",
      "2024-06-07 08:31:42,072 - julearn - INFO - Hyperparameter svm__gamma as is [1e-05, 0.0001, 0.001, 0.01, 'scale', 'auto']\n",
      "2024-06-07 08:31:42,074 - julearn - INFO - Hyperparameter svm__epsilon as is (0.01, 3, 'log-uniform')\n",
      "2024-06-07 08:31:42,076 - julearn - INFO - Using inner CV scheme KFold(n_splits=5, random_state=None, shuffle=False)\n",
      "2024-06-07 08:31:42,077 - julearn - INFO - Search Parameters:\n",
      "2024-06-07 08:31:42,078 - julearn - INFO - \tn_iter: 50\n",
      "2024-06-07 08:31:42,079 - julearn - INFO - \tcv: KFold(n_splits=5, random_state=None, shuffle=False)\n",
      "2024-06-07 08:31:42,086 - julearn - INFO - ====================\n",
      "2024-06-07 08:31:42,087 - julearn - INFO - \n",
      "2024-06-07 08:31:42,089 - julearn - INFO - = Model Parameters =\n",
      "2024-06-07 08:31:42,090 - julearn - INFO - Tuning hyperparameters using bayes\n",
      "2024-06-07 08:31:42,091 - julearn - INFO - Hyperparameters list:\n",
      "2024-06-07 08:31:42,092 - julearn - INFO - \tSet 0\n",
      "2024-06-07 08:31:42,094 - julearn - INFO - \t\tsvm__C: (1e-06, 1, 'log-uniform')\n",
      "2024-06-07 08:31:42,095 - julearn - INFO - \t\tsvm__epsilon: (0.01, 3, 'log-uniform')\n",
      "2024-06-07 08:31:42,097 - julearn - INFO - \t\tset_column_types: [SetColumnTypes(X_types={})]\n",
      "2024-06-07 08:31:42,098 - julearn - INFO - \t\tzscore: [StandardScaler()]\n",
      "2024-06-07 08:31:42,099 - julearn - INFO - \t\tsvm: [SVR(kernel='linear')]\n",
      "2024-06-07 08:31:42,100 - julearn - INFO - \tSet 1\n",
      "2024-06-07 08:31:42,102 - julearn - INFO - \t\tsvm__kernel: ['rbf', 'sigmoid']\n",
      "2024-06-07 08:31:42,103 - julearn - INFO - \t\tsvm__C: (1e-06, 1, 'log-uniform')\n",
      "2024-06-07 08:31:42,105 - julearn - INFO - \t\tsvm__gamma: [1e-05, 0.0001, 0.001, 0.01, 'scale', 'auto']\n",
      "2024-06-07 08:31:42,106 - julearn - INFO - \t\tsvm__epsilon: (0.01, 3, 'log-uniform')\n",
      "2024-06-07 08:31:42,108 - julearn - INFO - \t\tset_column_types: [SetColumnTypes(X_types={})]\n",
      "2024-06-07 08:31:42,109 - julearn - INFO - \t\tzscore: [StandardScaler()]\n",
      "2024-06-07 08:31:42,110 - julearn - INFO - \t\tsvm: [SVR()]\n",
      "2024-06-07 08:31:42,112 - julearn - INFO - Hyperparameter svm__C as is (1e-06, 1, 'log-uniform')\n",
      "2024-06-07 08:31:42,113 - julearn - INFO - Hyperparameter svm__epsilon as is (0.01, 3, 'log-uniform')\n",
      "2024-06-07 08:31:42,115 - julearn - INFO - Hyperparameter set_column_types as is [SetColumnTypes(X_types={})]\n",
      "2024-06-07 08:31:42,116 - julearn - INFO - Hyperparameter zscore as is [StandardScaler()]\n",
      "2024-06-07 08:31:42,118 - julearn - INFO - Hyperparameter svm as is [SVR(kernel='linear')]\n",
      "2024-06-07 08:31:42,119 - julearn - INFO - Hyperparameter svm__kernel as is ['rbf', 'sigmoid']\n",
      "2024-06-07 08:31:42,120 - julearn - INFO - Hyperparameter svm__C as is (1e-06, 1, 'log-uniform')\n",
      "2024-06-07 08:31:42,122 - julearn - INFO - Hyperparameter svm__gamma as is [1e-05, 0.0001, 0.001, 0.01, 'scale', 'auto']\n",
      "2024-06-07 08:31:42,123 - julearn - INFO - Hyperparameter svm__epsilon as is (0.01, 3, 'log-uniform')\n",
      "2024-06-07 08:31:42,125 - julearn - INFO - Hyperparameter set_column_types as is [SetColumnTypes(X_types={})]\n",
      "2024-06-07 08:31:42,127 - julearn - INFO - Hyperparameter zscore as is [StandardScaler()]\n",
      "2024-06-07 08:31:42,128 - julearn - INFO - Hyperparameter svm as is [SVR()]\n",
      "2024-06-07 08:31:42,129 - julearn - INFO - Using inner CV scheme KFold(n_splits=5, random_state=None, shuffle=False)\n",
      "2024-06-07 08:31:42,131 - julearn - INFO - Search Parameters:\n",
      "2024-06-07 08:31:42,132 - julearn - INFO - \tn_iter: 50\n",
      "2024-06-07 08:31:42,134 - julearn - INFO - \tcv: KFold(n_splits=5, random_state=None, shuffle=False)\n",
      "2024-06-07 08:31:42,151 - julearn - INFO - ====================\n",
      "2024-06-07 08:31:42,152 - julearn - INFO - \n",
      "2024-06-07 08:31:42,153 - julearn - INFO - = Data Information =\n",
      "2024-06-07 08:31:42,155 - julearn - INFO - \tProblem type: regression\n",
      "2024-06-07 08:31:42,156 - julearn - INFO - \tNumber of samples: 833\n",
      "2024-06-07 08:31:42,157 - julearn - INFO - \tNumber of features: 368\n",
      "2024-06-07 08:31:42,158 - julearn - INFO - ====================\n",
      "2024-06-07 08:31:42,159 - julearn - INFO - \n",
      "2024-06-07 08:31:42,161 - julearn - INFO - \tTarget type: float64\n",
      "2024-06-07 08:31:42,162 - julearn - INFO - Using outer CV scheme RepeatedContinuousStratifiedKFold(method='binning', n_bins=3, n_repeats=10,\n",
      "                 n_splits=3, random_state=42)\n",
      "2024-06-07 09:42:33,696 - julearn - INFO - Fitting final model\n",
      "2024-06-07 09:44:44,392 - julearn - INFO - Inspector requested: setting return_estimator='all'\n",
      "2024-06-07 09:44:44,393 - julearn - INFO - ==== Input Data ====\n",
      "2024-06-07 09:44:44,394 - julearn - INFO - Using dataframe as input\n",
      "2024-06-07 09:44:44,395 - julearn - INFO - \tFeatures: ['1', '2', '3', '4', '5', '6', '7', '8', '9', '10', '11', '12', '13', '14', '15', '16', '17', '18', '19', '20', '21', '22', '23', '24', '25', '26', '27', '28', '29', '30', '31', '32', '33', '34', '35', '36', '37', '38', '39', '40', '41', '42', '43', '44', '45', '46', '47', '48', '49', '50', '51', '52', '53', '54', '55', '56', '57', '58', '59', '60', '61', '62', '63', '64', '65', '66', '67', '68', '69', '70', '71', '72', '73', '74', '75', '76', '77', '78', '79', '80', '81', '82', '83', '84', '85', '86', '87', '88', '89', '90', '91', '92', '93', '94', '95', '96', '97', '98', '99', '100', '101', '102', '103', '104', '105', '106', '107', '108', '109', '110', '111', '112', '113', '114', '115', '116', '117', '118', '119', '120', '121', '122', '123', '124', '125', '126', '127', '128', '129', '130', '131', '132', '133', '134', '135', '136', '137', '138', '139', '140', '141', '142', '143', '144', '145', '146', '147', '148', '149', '150', '151', '152', '153', '154', '155', '156', '157', '158', '159', '160', '161', '162', '163', '164', '165', '166', '167', '168', '169', '170', '171', '172', '173', '174', '175', '176', '177', '178', '179', '180', '181', '182', '183', '184', '185', '186', '187', '188', '189', '190', '191', '192', '193', '194', '195', '196', '197', '198', '199', '200', '201', '202', '203', '204', '205', '206', '207', '208', '209', '210', '211', '212', '213', '214', '215', '216', '217', '218', '219', '220', '221', '222', '223', '224', '225', '226', '227', '228', '229', '230', '231', '232', '233', '234', '235', '236', '237', '238', '239', '240', '241', '242', '243', '244', '245', '246', '247', '248', '249', '250', '251', '252', '253', '254', '255', '256', '257', '258', '259', '260', '261', '262', '263', '264', '265', '266', '267', '268', '269', '270', '271', '272', '273', '274', '275', '276', '277', '278', '279', '280', '281', '282', '283', '284', '285', '286', '287', '288', '289', '290', '291', '292', '293', '294', '295', '296', '297', '298', '299', '300', '301', '302', '303', '304', '305', '306', '307', '308', '309', '310', '311', '312', '313', '314', '315', '316', '317', '318', '319', '320', '321', '322', '323', '324', '325', '326', '327', '328', '329', '330', '331', '332', '333', '334', '335', '336', '337', '338', '339', '340', '341', '342', '343', '344', '345', '346', '347', '348', '349', '350', '351', '352', '353', '354', '355', '356', '357', '358', '359', '360', '361', '362', '363', '364', '365', '366', '367', '368']\n",
      "2024-06-07 09:44:44,395 - julearn - INFO - \tTarget: IST_fluid\n",
      "2024-06-07 09:44:44,421 - julearn - INFO - \tExpanded features: ['1', '2', '3', '4', '5', '6', '7', '8', '9', '10', '11', '12', '13', '14', '15', '16', '17', '18', '19', '20', '21', '22', '23', '24', '25', '26', '27', '28', '29', '30', '31', '32', '33', '34', '35', '36', '37', '38', '39', '40', '41', '42', '43', '44', '45', '46', '47', '48', '49', '50', '51', '52', '53', '54', '55', '56', '57', '58', '59', '60', '61', '62', '63', '64', '65', '66', '67', '68', '69', '70', '71', '72', '73', '74', '75', '76', '77', '78', '79', '80', '81', '82', '83', '84', '85', '86', '87', '88', '89', '90', '91', '92', '93', '94', '95', '96', '97', '98', '99', '100', '101', '102', '103', '104', '105', '106', '107', '108', '109', '110', '111', '112', '113', '114', '115', '116', '117', '118', '119', '120', '121', '122', '123', '124', '125', '126', '127', '128', '129', '130', '131', '132', '133', '134', '135', '136', '137', '138', '139', '140', '141', '142', '143', '144', '145', '146', '147', '148', '149', '150', '151', '152', '153', '154', '155', '156', '157', '158', '159', '160', '161', '162', '163', '164', '165', '166', '167', '168', '169', '170', '171', '172', '173', '174', '175', '176', '177', '178', '179', '180', '181', '182', '183', '184', '185', '186', '187', '188', '189', '190', '191', '192', '193', '194', '195', '196', '197', '198', '199', '200', '201', '202', '203', '204', '205', '206', '207', '208', '209', '210', '211', '212', '213', '214', '215', '216', '217', '218', '219', '220', '221', '222', '223', '224', '225', '226', '227', '228', '229', '230', '231', '232', '233', '234', '235', '236', '237', '238', '239', '240', '241', '242', '243', '244', '245', '246', '247', '248', '249', '250', '251', '252', '253', '254', '255', '256', '257', '258', '259', '260', '261', '262', '263', '264', '265', '266', '267', '268', '269', '270', '271', '272', '273', '274', '275', '276', '277', '278', '279', '280', '281', '282', '283', '284', '285', '286', '287', '288', '289', '290', '291', '292', '293', '294', '295', '296', '297', '298', '299', '300', '301', '302', '303', '304', '305', '306', '307', '308', '309', '310', '311', '312', '313', '314', '315', '316', '317', '318', '319', '320', '321', '322', '323', '324', '325', '326', '327', '328', '329', '330', '331', '332', '333', '334', '335', '336', '337', '338', '339', '340', '341', '342', '343', '344', '345', '346', '347', '348', '349', '350', '351', '352', '353', '354', '355', '356', '357', '358', '359', '360', '361', '362', '363', '364', '365', '366', '367', '368']\n",
      "2024-06-07 09:44:44,423 - julearn - INFO - \tX_types:{}\n",
      "2024-06-07 09:44:44,424 - julearn - WARNING - The following columns are not defined in X_types: ['1', '2', '3', '4', '5', '6', '7', '8', '9', '10', '11', '12', '13', '14', '15', '16', '17', '18', '19', '20', '21', '22', '23', '24', '25', '26', '27', '28', '29', '30', '31', '32', '33', '34', '35', '36', '37', '38', '39', '40', '41', '42', '43', '44', '45', '46', '47', '48', '49', '50', '51', '52', '53', '54', '55', '56', '57', '58', '59', '60', '61', '62', '63', '64', '65', '66', '67', '68', '69', '70', '71', '72', '73', '74', '75', '76', '77', '78', '79', '80', '81', '82', '83', '84', '85', '86', '87', '88', '89', '90', '91', '92', '93', '94', '95', '96', '97', '98', '99', '100', '101', '102', '103', '104', '105', '106', '107', '108', '109', '110', '111', '112', '113', '114', '115', '116', '117', '118', '119', '120', '121', '122', '123', '124', '125', '126', '127', '128', '129', '130', '131', '132', '133', '134', '135', '136', '137', '138', '139', '140', '141', '142', '143', '144', '145', '146', '147', '148', '149', '150', '151', '152', '153', '154', '155', '156', '157', '158', '159', '160', '161', '162', '163', '164', '165', '166', '167', '168', '169', '170', '171', '172', '173', '174', '175', '176', '177', '178', '179', '180', '181', '182', '183', '184', '185', '186', '187', '188', '189', '190', '191', '192', '193', '194', '195', '196', '197', '198', '199', '200', '201', '202', '203', '204', '205', '206', '207', '208', '209', '210', '211', '212', '213', '214', '215', '216', '217', '218', '219', '220', '221', '222', '223', '224', '225', '226', '227', '228', '229', '230', '231', '232', '233', '234', '235', '236', '237', '238', '239', '240', '241', '242', '243', '244', '245', '246', '247', '248', '249', '250', '251', '252', '253', '254', '255', '256', '257', '258', '259', '260', '261', '262', '263', '264', '265', '266', '267', '268', '269', '270', '271', '272', '273', '274', '275', '276', '277', '278', '279', '280', '281', '282', '283', '284', '285', '286', '287', '288', '289', '290', '291', '292', '293', '294', '295', '296', '297', '298', '299', '300', '301', '302', '303', '304', '305', '306', '307', '308', '309', '310', '311', '312', '313', '314', '315', '316', '317', '318', '319', '320', '321', '322', '323', '324', '325', '326', '327', '328', '329', '330', '331', '332', '333', '334', '335', '336', '337', '338', '339', '340', '341', '342', '343', '344', '345', '346', '347', '348', '349', '350', '351', '352', '353', '354', '355', '356', '357', '358', '359', '360', '361', '362', '363', '364', '365', '366', '367', '368']. They will be treated as continuous.\n"
     ]
    },
    {
     "name": "stderr",
     "output_type": "stream",
     "text": [
      "/home/lucas/miniconda3/envs/neurodc/lib/python3.11/site-packages/julearn/prepare.py:505: RuntimeWarning: The following columns are not defined in X_types: ['1', '2', '3', '4', '5', '6', '7', '8', '9', '10', '11', '12', '13', '14', '15', '16', '17', '18', '19', '20', '21', '22', '23', '24', '25', '26', '27', '28', '29', '30', '31', '32', '33', '34', '35', '36', '37', '38', '39', '40', '41', '42', '43', '44', '45', '46', '47', '48', '49', '50', '51', '52', '53', '54', '55', '56', '57', '58', '59', '60', '61', '62', '63', '64', '65', '66', '67', '68', '69', '70', '71', '72', '73', '74', '75', '76', '77', '78', '79', '80', '81', '82', '83', '84', '85', '86', '87', '88', '89', '90', '91', '92', '93', '94', '95', '96', '97', '98', '99', '100', '101', '102', '103', '104', '105', '106', '107', '108', '109', '110', '111', '112', '113', '114', '115', '116', '117', '118', '119', '120', '121', '122', '123', '124', '125', '126', '127', '128', '129', '130', '131', '132', '133', '134', '135', '136', '137', '138', '139', '140', '141', '142', '143', '144', '145', '146', '147', '148', '149', '150', '151', '152', '153', '154', '155', '156', '157', '158', '159', '160', '161', '162', '163', '164', '165', '166', '167', '168', '169', '170', '171', '172', '173', '174', '175', '176', '177', '178', '179', '180', '181', '182', '183', '184', '185', '186', '187', '188', '189', '190', '191', '192', '193', '194', '195', '196', '197', '198', '199', '200', '201', '202', '203', '204', '205', '206', '207', '208', '209', '210', '211', '212', '213', '214', '215', '216', '217', '218', '219', '220', '221', '222', '223', '224', '225', '226', '227', '228', '229', '230', '231', '232', '233', '234', '235', '236', '237', '238', '239', '240', '241', '242', '243', '244', '245', '246', '247', '248', '249', '250', '251', '252', '253', '254', '255', '256', '257', '258', '259', '260', '261', '262', '263', '264', '265', '266', '267', '268', '269', '270', '271', '272', '273', '274', '275', '276', '277', '278', '279', '280', '281', '282', '283', '284', '285', '286', '287', '288', '289', '290', '291', '292', '293', '294', '295', '296', '297', '298', '299', '300', '301', '302', '303', '304', '305', '306', '307', '308', '309', '310', '311', '312', '313', '314', '315', '316', '317', '318', '319', '320', '321', '322', '323', '324', '325', '326', '327', '328', '329', '330', '331', '332', '333', '334', '335', '336', '337', '338', '339', '340', '341', '342', '343', '344', '345', '346', '347', '348', '349', '350', '351', '352', '353', '354', '355', '356', '357', '358', '359', '360', '361', '362', '363', '364', '365', '366', '367', '368']. They will be treated as continuous.\n",
      "  warn_with_log(\n"
     ]
    },
    {
     "name": "stdout",
     "output_type": "stream",
     "text": [
      "2024-06-07 09:44:44,427 - julearn - INFO - ====================\n",
      "2024-06-07 09:44:44,428 - julearn - INFO - \n",
      "2024-06-07 09:44:44,429 - julearn - INFO - = Model Parameters =\n",
      "2024-06-07 09:44:44,430 - julearn - INFO - Tuning hyperparameters using grid\n",
      "2024-06-07 09:44:44,431 - julearn - INFO - Hyperparameters:\n",
      "2024-06-07 09:44:44,432 - julearn - INFO - \trf__n_estimators: [25, 50, 100]\n",
      "2024-06-07 09:44:44,433 - julearn - INFO - \trf__max_depth: [5, 10, 20]\n",
      "2024-06-07 09:44:44,433 - julearn - INFO - Using inner CV scheme KFold(n_splits=5, random_state=None, shuffle=False)\n",
      "2024-06-07 09:44:44,434 - julearn - INFO - Search Parameters:\n",
      "2024-06-07 09:44:44,435 - julearn - INFO - \tcv: KFold(n_splits=5, random_state=None, shuffle=False)\n",
      "2024-06-07 09:44:44,436 - julearn - INFO - ====================\n",
      "2024-06-07 09:44:44,437 - julearn - INFO - \n",
      "2024-06-07 09:44:44,438 - julearn - INFO - = Data Information =\n",
      "2024-06-07 09:44:44,439 - julearn - INFO - \tProblem type: regression\n",
      "2024-06-07 09:44:44,440 - julearn - INFO - \tNumber of samples: 833\n",
      "2024-06-07 09:44:44,441 - julearn - INFO - \tNumber of features: 368\n",
      "2024-06-07 09:44:44,442 - julearn - INFO - ====================\n",
      "2024-06-07 09:44:44,443 - julearn - INFO - \n",
      "2024-06-07 09:44:44,444 - julearn - INFO - \tTarget type: float64\n",
      "2024-06-07 09:44:44,445 - julearn - INFO - Using outer CV scheme RepeatedContinuousStratifiedKFold(method='binning', n_bins=3, n_repeats=10,\n",
      "                 n_splits=3, random_state=42)\n",
      "2024-06-07 11:02:39,106 - julearn - INFO - Fitting final model\n",
      "2024-06-07 11:06:47,801 - julearn - INFO - Inspector requested: setting return_estimator='all'\n",
      "2024-06-07 11:06:47,802 - julearn - INFO - ==== Input Data ====\n",
      "2024-06-07 11:06:47,803 - julearn - INFO - Using dataframe as input\n",
      "2024-06-07 11:06:47,804 - julearn - INFO - \tFeatures: ['1', '2', '3', '4', '5', '6', '7', '8', '9', '10', '11', '12', '13', '14', '15', '16', '17', '18', '19', '20', '21', '22', '23', '24', '25', '26', '27', '28', '29', '30', '31', '32', '33', '34', '35', '36', '37', '38', '39', '40', '41', '42', '43', '44', '45', '46', '47', '48', '49', '50', '51', '52', '53', '54', '55', '56', '57', '58', '59', '60', '61', '62', '63', '64', '65', '66', '67', '68', '69', '70', '71', '72', '73', '74', '75', '76', '77', '78', '79', '80', '81', '82', '83', '84', '85', '86', '87', '88', '89', '90', '91', '92', '93', '94', '95', '96', '97', '98', '99', '100', '101', '102', '103', '104', '105', '106', '107', '108', '109', '110', '111', '112', '113', '114', '115', '116', '117', '118', '119', '120', '121', '122', '123', '124', '125', '126', '127', '128', '129', '130', '131', '132', '133', '134', '135', '136', '137', '138', '139', '140', '141', '142', '143', '144', '145', '146', '147', '148', '149', '150', '151', '152', '153', '154', '155', '156', '157', '158', '159', '160', '161', '162', '163', '164', '165', '166', '167', '168', '169', '170', '171', '172', '173', '174', '175', '176', '177', '178', '179', '180', '181', '182', '183', '184', '185', '186', '187', '188', '189', '190', '191', '192', '193', '194', '195', '196', '197', '198', '199', '200', '201', '202', '203', '204', '205', '206', '207', '208', '209', '210', '211', '212', '213', '214', '215', '216', '217', '218', '219', '220', '221', '222', '223', '224', '225', '226', '227', '228', '229', '230', '231', '232', '233', '234', '235', '236', '237', '238', '239', '240', '241', '242', '243', '244', '245', '246', '247', '248', '249', '250', '251', '252', '253', '254', '255', '256', '257', '258', '259', '260', '261', '262', '263', '264', '265', '266', '267', '268', '269', '270', '271', '272', '273', '274', '275', '276', '277', '278', '279', '280', '281', '282', '283', '284', '285', '286', '287', '288', '289', '290', '291', '292', '293', '294', '295', '296', '297', '298', '299', '300', '301', '302', '303', '304', '305', '306', '307', '308', '309', '310', '311', '312', '313', '314', '315', '316', '317', '318', '319', '320', '321', '322', '323', '324', '325', '326', '327', '328', '329', '330', '331', '332', '333', '334', '335', '336', '337', '338', '339', '340', '341', '342', '343', '344', '345', '346', '347', '348', '349', '350', '351', '352', '353', '354', '355', '356', '357', '358', '359', '360', '361', '362', '363', '364', '365', '366', '367', '368']\n",
      "2024-06-07 11:06:47,804 - julearn - INFO - \tTarget: IST_fluid\n",
      "2024-06-07 11:06:47,831 - julearn - INFO - \tExpanded features: ['1', '2', '3', '4', '5', '6', '7', '8', '9', '10', '11', '12', '13', '14', '15', '16', '17', '18', '19', '20', '21', '22', '23', '24', '25', '26', '27', '28', '29', '30', '31', '32', '33', '34', '35', '36', '37', '38', '39', '40', '41', '42', '43', '44', '45', '46', '47', '48', '49', '50', '51', '52', '53', '54', '55', '56', '57', '58', '59', '60', '61', '62', '63', '64', '65', '66', '67', '68', '69', '70', '71', '72', '73', '74', '75', '76', '77', '78', '79', '80', '81', '82', '83', '84', '85', '86', '87', '88', '89', '90', '91', '92', '93', '94', '95', '96', '97', '98', '99', '100', '101', '102', '103', '104', '105', '106', '107', '108', '109', '110', '111', '112', '113', '114', '115', '116', '117', '118', '119', '120', '121', '122', '123', '124', '125', '126', '127', '128', '129', '130', '131', '132', '133', '134', '135', '136', '137', '138', '139', '140', '141', '142', '143', '144', '145', '146', '147', '148', '149', '150', '151', '152', '153', '154', '155', '156', '157', '158', '159', '160', '161', '162', '163', '164', '165', '166', '167', '168', '169', '170', '171', '172', '173', '174', '175', '176', '177', '178', '179', '180', '181', '182', '183', '184', '185', '186', '187', '188', '189', '190', '191', '192', '193', '194', '195', '196', '197', '198', '199', '200', '201', '202', '203', '204', '205', '206', '207', '208', '209', '210', '211', '212', '213', '214', '215', '216', '217', '218', '219', '220', '221', '222', '223', '224', '225', '226', '227', '228', '229', '230', '231', '232', '233', '234', '235', '236', '237', '238', '239', '240', '241', '242', '243', '244', '245', '246', '247', '248', '249', '250', '251', '252', '253', '254', '255', '256', '257', '258', '259', '260', '261', '262', '263', '264', '265', '266', '267', '268', '269', '270', '271', '272', '273', '274', '275', '276', '277', '278', '279', '280', '281', '282', '283', '284', '285', '286', '287', '288', '289', '290', '291', '292', '293', '294', '295', '296', '297', '298', '299', '300', '301', '302', '303', '304', '305', '306', '307', '308', '309', '310', '311', '312', '313', '314', '315', '316', '317', '318', '319', '320', '321', '322', '323', '324', '325', '326', '327', '328', '329', '330', '331', '332', '333', '334', '335', '336', '337', '338', '339', '340', '341', '342', '343', '344', '345', '346', '347', '348', '349', '350', '351', '352', '353', '354', '355', '356', '357', '358', '359', '360', '361', '362', '363', '364', '365', '366', '367', '368']\n",
      "2024-06-07 11:06:47,832 - julearn - INFO - \tX_types:{}\n",
      "2024-06-07 11:06:47,833 - julearn - WARNING - The following columns are not defined in X_types: ['1', '2', '3', '4', '5', '6', '7', '8', '9', '10', '11', '12', '13', '14', '15', '16', '17', '18', '19', '20', '21', '22', '23', '24', '25', '26', '27', '28', '29', '30', '31', '32', '33', '34', '35', '36', '37', '38', '39', '40', '41', '42', '43', '44', '45', '46', '47', '48', '49', '50', '51', '52', '53', '54', '55', '56', '57', '58', '59', '60', '61', '62', '63', '64', '65', '66', '67', '68', '69', '70', '71', '72', '73', '74', '75', '76', '77', '78', '79', '80', '81', '82', '83', '84', '85', '86', '87', '88', '89', '90', '91', '92', '93', '94', '95', '96', '97', '98', '99', '100', '101', '102', '103', '104', '105', '106', '107', '108', '109', '110', '111', '112', '113', '114', '115', '116', '117', '118', '119', '120', '121', '122', '123', '124', '125', '126', '127', '128', '129', '130', '131', '132', '133', '134', '135', '136', '137', '138', '139', '140', '141', '142', '143', '144', '145', '146', '147', '148', '149', '150', '151', '152', '153', '154', '155', '156', '157', '158', '159', '160', '161', '162', '163', '164', '165', '166', '167', '168', '169', '170', '171', '172', '173', '174', '175', '176', '177', '178', '179', '180', '181', '182', '183', '184', '185', '186', '187', '188', '189', '190', '191', '192', '193', '194', '195', '196', '197', '198', '199', '200', '201', '202', '203', '204', '205', '206', '207', '208', '209', '210', '211', '212', '213', '214', '215', '216', '217', '218', '219', '220', '221', '222', '223', '224', '225', '226', '227', '228', '229', '230', '231', '232', '233', '234', '235', '236', '237', '238', '239', '240', '241', '242', '243', '244', '245', '246', '247', '248', '249', '250', '251', '252', '253', '254', '255', '256', '257', '258', '259', '260', '261', '262', '263', '264', '265', '266', '267', '268', '269', '270', '271', '272', '273', '274', '275', '276', '277', '278', '279', '280', '281', '282', '283', '284', '285', '286', '287', '288', '289', '290', '291', '292', '293', '294', '295', '296', '297', '298', '299', '300', '301', '302', '303', '304', '305', '306', '307', '308', '309', '310', '311', '312', '313', '314', '315', '316', '317', '318', '319', '320', '321', '322', '323', '324', '325', '326', '327', '328', '329', '330', '331', '332', '333', '334', '335', '336', '337', '338', '339', '340', '341', '342', '343', '344', '345', '346', '347', '348', '349', '350', '351', '352', '353', '354', '355', '356', '357', '358', '359', '360', '361', '362', '363', '364', '365', '366', '367', '368']. They will be treated as continuous.\n"
     ]
    },
    {
     "name": "stderr",
     "output_type": "stream",
     "text": [
      "/home/lucas/miniconda3/envs/neurodc/lib/python3.11/site-packages/julearn/prepare.py:505: RuntimeWarning: The following columns are not defined in X_types: ['1', '2', '3', '4', '5', '6', '7', '8', '9', '10', '11', '12', '13', '14', '15', '16', '17', '18', '19', '20', '21', '22', '23', '24', '25', '26', '27', '28', '29', '30', '31', '32', '33', '34', '35', '36', '37', '38', '39', '40', '41', '42', '43', '44', '45', '46', '47', '48', '49', '50', '51', '52', '53', '54', '55', '56', '57', '58', '59', '60', '61', '62', '63', '64', '65', '66', '67', '68', '69', '70', '71', '72', '73', '74', '75', '76', '77', '78', '79', '80', '81', '82', '83', '84', '85', '86', '87', '88', '89', '90', '91', '92', '93', '94', '95', '96', '97', '98', '99', '100', '101', '102', '103', '104', '105', '106', '107', '108', '109', '110', '111', '112', '113', '114', '115', '116', '117', '118', '119', '120', '121', '122', '123', '124', '125', '126', '127', '128', '129', '130', '131', '132', '133', '134', '135', '136', '137', '138', '139', '140', '141', '142', '143', '144', '145', '146', '147', '148', '149', '150', '151', '152', '153', '154', '155', '156', '157', '158', '159', '160', '161', '162', '163', '164', '165', '166', '167', '168', '169', '170', '171', '172', '173', '174', '175', '176', '177', '178', '179', '180', '181', '182', '183', '184', '185', '186', '187', '188', '189', '190', '191', '192', '193', '194', '195', '196', '197', '198', '199', '200', '201', '202', '203', '204', '205', '206', '207', '208', '209', '210', '211', '212', '213', '214', '215', '216', '217', '218', '219', '220', '221', '222', '223', '224', '225', '226', '227', '228', '229', '230', '231', '232', '233', '234', '235', '236', '237', '238', '239', '240', '241', '242', '243', '244', '245', '246', '247', '248', '249', '250', '251', '252', '253', '254', '255', '256', '257', '258', '259', '260', '261', '262', '263', '264', '265', '266', '267', '268', '269', '270', '271', '272', '273', '274', '275', '276', '277', '278', '279', '280', '281', '282', '283', '284', '285', '286', '287', '288', '289', '290', '291', '292', '293', '294', '295', '296', '297', '298', '299', '300', '301', '302', '303', '304', '305', '306', '307', '308', '309', '310', '311', '312', '313', '314', '315', '316', '317', '318', '319', '320', '321', '322', '323', '324', '325', '326', '327', '328', '329', '330', '331', '332', '333', '334', '335', '336', '337', '338', '339', '340', '341', '342', '343', '344', '345', '346', '347', '348', '349', '350', '351', '352', '353', '354', '355', '356', '357', '358', '359', '360', '361', '362', '363', '364', '365', '366', '367', '368']. They will be treated as continuous.\n",
      "  warn_with_log(\n"
     ]
    },
    {
     "name": "stdout",
     "output_type": "stream",
     "text": [
      "2024-06-07 11:06:47,835 - julearn - INFO - ====================\n",
      "2024-06-07 11:06:47,836 - julearn - INFO - \n",
      "2024-06-07 11:06:47,837 - julearn - INFO - = Model Parameters =\n",
      "2024-06-07 11:06:47,838 - julearn - INFO - Tuning hyperparameters using grid\n",
      "2024-06-07 11:06:47,839 - julearn - INFO - Hyperparameters:\n",
      "2024-06-07 11:06:47,840 - julearn - INFO - \tgradientboost__n_estimators: [25, 50, 100]\n",
      "2024-06-07 11:06:47,841 - julearn - INFO - \tgradientboost__max_depth: [3, 5, 10]\n",
      "2024-06-07 11:06:47,842 - julearn - INFO - Using inner CV scheme KFold(n_splits=5, random_state=None, shuffle=False)\n",
      "2024-06-07 11:06:47,842 - julearn - INFO - Search Parameters:\n",
      "2024-06-07 11:06:47,843 - julearn - INFO - \tcv: KFold(n_splits=5, random_state=None, shuffle=False)\n",
      "2024-06-07 11:06:47,844 - julearn - INFO - ====================\n",
      "2024-06-07 11:06:47,845 - julearn - INFO - \n",
      "2024-06-07 11:06:47,846 - julearn - INFO - = Data Information =\n",
      "2024-06-07 11:06:47,847 - julearn - INFO - \tProblem type: regression\n",
      "2024-06-07 11:06:47,848 - julearn - INFO - \tNumber of samples: 833\n",
      "2024-06-07 11:06:47,848 - julearn - INFO - \tNumber of features: 368\n",
      "2024-06-07 11:06:47,849 - julearn - INFO - ====================\n",
      "2024-06-07 11:06:47,850 - julearn - INFO - \n",
      "2024-06-07 11:06:47,851 - julearn - INFO - \tTarget type: float64\n",
      "2024-06-07 11:06:47,852 - julearn - INFO - Using outer CV scheme RepeatedContinuousStratifiedKFold(method='binning', n_bins=3, n_repeats=10,\n",
      "                 n_splits=3, random_state=42)\n",
      "2024-06-07 12:34:11,047 - julearn - INFO - Fitting final model\n",
      "2024-06-07 12:38:46,650 - julearn - INFO - Inspector requested: setting return_estimator='all'\n",
      "2024-06-07 12:38:46,651 - julearn - INFO - ==== Input Data ====\n",
      "2024-06-07 12:38:46,651 - julearn - INFO - Using dataframe as input\n",
      "2024-06-07 12:38:46,652 - julearn - INFO - \tFeatures: ['1', '2', '3', '4', '5', '6', '7', '8', '9', '10', '11', '12', '13', '14', '15', '16', '17', '18', '19', '20', '21', '22', '23', '24', '25', '26', '27', '28', '29', '30', '31', '32', '33', '34', '35', '36', '37', '38', '39', '40', '41', '42', '43', '44', '45', '46', '47', '48', '49', '50', '51', '52', '53', '54', '55', '56', '57', '58', '59', '60', '61', '62', '63', '64', '65', '66', '67', '68', '69', '70', '71', '72', '73', '74', '75', '76', '77', '78', '79', '80', '81', '82', '83', '84', '85', '86', '87', '88', '89', '90', '91', '92', '93', '94', '95', '96', '97', '98', '99', '100', '101', '102', '103', '104', '105', '106', '107', '108', '109', '110', '111', '112', '113', '114', '115', '116', '117', '118', '119', '120', '121', '122', '123', '124', '125', '126', '127', '128', '129', '130', '131', '132', '133', '134', '135', '136', '137', '138', '139', '140', '141', '142', '143', '144', '145', '146', '147', '148', '149', '150', '151', '152', '153', '154', '155', '156', '157', '158', '159', '160', '161', '162', '163', '164', '165', '166', '167', '168', '169', '170', '171', '172', '173', '174', '175', '176', '177', '178', '179', '180', '181', '182', '183', '184', '185', '186', '187', '188', '189', '190', '191', '192', '193', '194', '195', '196', '197', '198', '199', '200', '201', '202', '203', '204', '205', '206', '207', '208', '209', '210', '211', '212', '213', '214', '215', '216', '217', '218', '219', '220', '221', '222', '223', '224', '225', '226', '227', '228', '229', '230', '231', '232', '233', '234', '235', '236', '237', '238', '239', '240', '241', '242', '243', '244', '245', '246', '247', '248', '249', '250', '251', '252', '253', '254', '255', '256', '257', '258', '259', '260', '261', '262', '263', '264', '265', '266', '267', '268', '269', '270', '271', '272', '273', '274', '275', '276', '277', '278', '279', '280', '281', '282', '283', '284', '285', '286', '287', '288', '289', '290', '291', '292', '293', '294', '295', '296', '297', '298', '299', '300', '301', '302', '303', '304', '305', '306', '307', '308', '309', '310', '311', '312', '313', '314', '315', '316', '317', '318', '319', '320', '321', '322', '323', '324', '325', '326', '327', '328', '329', '330', '331', '332', '333', '334', '335', '336', '337', '338', '339', '340', '341', '342', '343', '344', '345', '346', '347', '348', '349', '350', '351', '352', '353', '354', '355', '356', '357', '358', '359', '360', '361', '362', '363', '364', '365', '366', '367', '368']\n",
      "2024-06-07 12:38:46,653 - julearn - INFO - \tTarget: IST_fluid\n",
      "2024-06-07 12:38:46,680 - julearn - INFO - \tExpanded features: ['1', '2', '3', '4', '5', '6', '7', '8', '9', '10', '11', '12', '13', '14', '15', '16', '17', '18', '19', '20', '21', '22', '23', '24', '25', '26', '27', '28', '29', '30', '31', '32', '33', '34', '35', '36', '37', '38', '39', '40', '41', '42', '43', '44', '45', '46', '47', '48', '49', '50', '51', '52', '53', '54', '55', '56', '57', '58', '59', '60', '61', '62', '63', '64', '65', '66', '67', '68', '69', '70', '71', '72', '73', '74', '75', '76', '77', '78', '79', '80', '81', '82', '83', '84', '85', '86', '87', '88', '89', '90', '91', '92', '93', '94', '95', '96', '97', '98', '99', '100', '101', '102', '103', '104', '105', '106', '107', '108', '109', '110', '111', '112', '113', '114', '115', '116', '117', '118', '119', '120', '121', '122', '123', '124', '125', '126', '127', '128', '129', '130', '131', '132', '133', '134', '135', '136', '137', '138', '139', '140', '141', '142', '143', '144', '145', '146', '147', '148', '149', '150', '151', '152', '153', '154', '155', '156', '157', '158', '159', '160', '161', '162', '163', '164', '165', '166', '167', '168', '169', '170', '171', '172', '173', '174', '175', '176', '177', '178', '179', '180', '181', '182', '183', '184', '185', '186', '187', '188', '189', '190', '191', '192', '193', '194', '195', '196', '197', '198', '199', '200', '201', '202', '203', '204', '205', '206', '207', '208', '209', '210', '211', '212', '213', '214', '215', '216', '217', '218', '219', '220', '221', '222', '223', '224', '225', '226', '227', '228', '229', '230', '231', '232', '233', '234', '235', '236', '237', '238', '239', '240', '241', '242', '243', '244', '245', '246', '247', '248', '249', '250', '251', '252', '253', '254', '255', '256', '257', '258', '259', '260', '261', '262', '263', '264', '265', '266', '267', '268', '269', '270', '271', '272', '273', '274', '275', '276', '277', '278', '279', '280', '281', '282', '283', '284', '285', '286', '287', '288', '289', '290', '291', '292', '293', '294', '295', '296', '297', '298', '299', '300', '301', '302', '303', '304', '305', '306', '307', '308', '309', '310', '311', '312', '313', '314', '315', '316', '317', '318', '319', '320', '321', '322', '323', '324', '325', '326', '327', '328', '329', '330', '331', '332', '333', '334', '335', '336', '337', '338', '339', '340', '341', '342', '343', '344', '345', '346', '347', '348', '349', '350', '351', '352', '353', '354', '355', '356', '357', '358', '359', '360', '361', '362', '363', '364', '365', '366', '367', '368']\n",
      "2024-06-07 12:38:46,682 - julearn - INFO - \tX_types:{}\n",
      "2024-06-07 12:38:46,683 - julearn - WARNING - The following columns are not defined in X_types: ['1', '2', '3', '4', '5', '6', '7', '8', '9', '10', '11', '12', '13', '14', '15', '16', '17', '18', '19', '20', '21', '22', '23', '24', '25', '26', '27', '28', '29', '30', '31', '32', '33', '34', '35', '36', '37', '38', '39', '40', '41', '42', '43', '44', '45', '46', '47', '48', '49', '50', '51', '52', '53', '54', '55', '56', '57', '58', '59', '60', '61', '62', '63', '64', '65', '66', '67', '68', '69', '70', '71', '72', '73', '74', '75', '76', '77', '78', '79', '80', '81', '82', '83', '84', '85', '86', '87', '88', '89', '90', '91', '92', '93', '94', '95', '96', '97', '98', '99', '100', '101', '102', '103', '104', '105', '106', '107', '108', '109', '110', '111', '112', '113', '114', '115', '116', '117', '118', '119', '120', '121', '122', '123', '124', '125', '126', '127', '128', '129', '130', '131', '132', '133', '134', '135', '136', '137', '138', '139', '140', '141', '142', '143', '144', '145', '146', '147', '148', '149', '150', '151', '152', '153', '154', '155', '156', '157', '158', '159', '160', '161', '162', '163', '164', '165', '166', '167', '168', '169', '170', '171', '172', '173', '174', '175', '176', '177', '178', '179', '180', '181', '182', '183', '184', '185', '186', '187', '188', '189', '190', '191', '192', '193', '194', '195', '196', '197', '198', '199', '200', '201', '202', '203', '204', '205', '206', '207', '208', '209', '210', '211', '212', '213', '214', '215', '216', '217', '218', '219', '220', '221', '222', '223', '224', '225', '226', '227', '228', '229', '230', '231', '232', '233', '234', '235', '236', '237', '238', '239', '240', '241', '242', '243', '244', '245', '246', '247', '248', '249', '250', '251', '252', '253', '254', '255', '256', '257', '258', '259', '260', '261', '262', '263', '264', '265', '266', '267', '268', '269', '270', '271', '272', '273', '274', '275', '276', '277', '278', '279', '280', '281', '282', '283', '284', '285', '286', '287', '288', '289', '290', '291', '292', '293', '294', '295', '296', '297', '298', '299', '300', '301', '302', '303', '304', '305', '306', '307', '308', '309', '310', '311', '312', '313', '314', '315', '316', '317', '318', '319', '320', '321', '322', '323', '324', '325', '326', '327', '328', '329', '330', '331', '332', '333', '334', '335', '336', '337', '338', '339', '340', '341', '342', '343', '344', '345', '346', '347', '348', '349', '350', '351', '352', '353', '354', '355', '356', '357', '358', '359', '360', '361', '362', '363', '364', '365', '366', '367', '368']. They will be treated as continuous.\n"
     ]
    },
    {
     "name": "stderr",
     "output_type": "stream",
     "text": [
      "/home/lucas/miniconda3/envs/neurodc/lib/python3.11/site-packages/julearn/prepare.py:505: RuntimeWarning: The following columns are not defined in X_types: ['1', '2', '3', '4', '5', '6', '7', '8', '9', '10', '11', '12', '13', '14', '15', '16', '17', '18', '19', '20', '21', '22', '23', '24', '25', '26', '27', '28', '29', '30', '31', '32', '33', '34', '35', '36', '37', '38', '39', '40', '41', '42', '43', '44', '45', '46', '47', '48', '49', '50', '51', '52', '53', '54', '55', '56', '57', '58', '59', '60', '61', '62', '63', '64', '65', '66', '67', '68', '69', '70', '71', '72', '73', '74', '75', '76', '77', '78', '79', '80', '81', '82', '83', '84', '85', '86', '87', '88', '89', '90', '91', '92', '93', '94', '95', '96', '97', '98', '99', '100', '101', '102', '103', '104', '105', '106', '107', '108', '109', '110', '111', '112', '113', '114', '115', '116', '117', '118', '119', '120', '121', '122', '123', '124', '125', '126', '127', '128', '129', '130', '131', '132', '133', '134', '135', '136', '137', '138', '139', '140', '141', '142', '143', '144', '145', '146', '147', '148', '149', '150', '151', '152', '153', '154', '155', '156', '157', '158', '159', '160', '161', '162', '163', '164', '165', '166', '167', '168', '169', '170', '171', '172', '173', '174', '175', '176', '177', '178', '179', '180', '181', '182', '183', '184', '185', '186', '187', '188', '189', '190', '191', '192', '193', '194', '195', '196', '197', '198', '199', '200', '201', '202', '203', '204', '205', '206', '207', '208', '209', '210', '211', '212', '213', '214', '215', '216', '217', '218', '219', '220', '221', '222', '223', '224', '225', '226', '227', '228', '229', '230', '231', '232', '233', '234', '235', '236', '237', '238', '239', '240', '241', '242', '243', '244', '245', '246', '247', '248', '249', '250', '251', '252', '253', '254', '255', '256', '257', '258', '259', '260', '261', '262', '263', '264', '265', '266', '267', '268', '269', '270', '271', '272', '273', '274', '275', '276', '277', '278', '279', '280', '281', '282', '283', '284', '285', '286', '287', '288', '289', '290', '291', '292', '293', '294', '295', '296', '297', '298', '299', '300', '301', '302', '303', '304', '305', '306', '307', '308', '309', '310', '311', '312', '313', '314', '315', '316', '317', '318', '319', '320', '321', '322', '323', '324', '325', '326', '327', '328', '329', '330', '331', '332', '333', '334', '335', '336', '337', '338', '339', '340', '341', '342', '343', '344', '345', '346', '347', '348', '349', '350', '351', '352', '353', '354', '355', '356', '357', '358', '359', '360', '361', '362', '363', '364', '365', '366', '367', '368']. They will be treated as continuous.\n",
      "  warn_with_log(\n"
     ]
    },
    {
     "name": "stdout",
     "output_type": "stream",
     "text": [
      "2024-06-07 12:38:46,685 - julearn - INFO - ====================\n",
      "2024-06-07 12:38:46,686 - julearn - INFO - \n",
      "2024-06-07 12:38:46,688 - julearn - INFO - = Model Parameters =\n",
      "2024-06-07 12:38:46,688 - julearn - INFO - ====================\n",
      "2024-06-07 12:38:46,689 - julearn - INFO - \n",
      "2024-06-07 12:38:46,690 - julearn - INFO - = Data Information =\n",
      "2024-06-07 12:38:46,691 - julearn - INFO - \tProblem type: regression\n",
      "2024-06-07 12:38:46,692 - julearn - INFO - \tNumber of samples: 833\n",
      "2024-06-07 12:38:46,693 - julearn - INFO - \tNumber of features: 368\n",
      "2024-06-07 12:38:46,694 - julearn - INFO - ====================\n",
      "2024-06-07 12:38:46,695 - julearn - INFO - \n",
      "2024-06-07 12:38:46,696 - julearn - INFO - \tTarget type: float64\n",
      "2024-06-07 12:38:46,697 - julearn - INFO - Using outer CV scheme RepeatedContinuousStratifiedKFold(method='binning', n_bins=3, n_repeats=10,\n",
      "                 n_splits=3, random_state=42)\n",
      "2024-06-07 12:38:47,084 - julearn - INFO - Fitting final model\n",
      "2024-06-07 12:38:47,093 - julearn - INFO - Inspector requested: setting return_estimator='all'\n",
      "2024-06-07 12:38:47,094 - julearn - INFO - ==== Input Data ====\n",
      "2024-06-07 12:38:47,094 - julearn - INFO - Using dataframe as input\n",
      "2024-06-07 12:38:47,095 - julearn - INFO - \tFeatures: ['1', '2', '3', '4', '5', '6', '7', '8', '9', '10', '11', '12', '13', '14', '15', '16', '17', '18', '19', '20', '21', '22', '23', '24', '25', '26', '27', '28', '29', '30', '31', '32', '33', '34', '35', '36', '37', '38', '39', '40', '41', '42', '43', '44', '45', '46', '47', '48', '49', '50', '51', '52', '53', '54', '55', '56', '57', '58', '59', '60', '61', '62', '63', '64', '65', '66', '67', '68', '69', '70', '71', '72', '73', '74', '75', '76', '77', '78', '79', '80', '81', '82', '83', '84', '85', '86', '87', '88', '89', '90', '91', '92', '93', '94', '95', '96', '97', '98', '99', '100', '101', '102', '103', '104', '105', '106', '107', '108', '109', '110', '111', '112', '113', '114', '115', '116', '117', '118', '119', '120', '121', '122', '123', '124', '125', '126', '127', '128', '129', '130', '131', '132', '133', '134', '135', '136', '137', '138', '139', '140', '141', '142', '143', '144', '145', '146', '147', '148', '149', '150', '151', '152', '153', '154', '155', '156', '157', '158', '159', '160', '161', '162', '163', '164', '165', '166', '167', '168', '169', '170', '171', '172', '173', '174', '175', '176', '177', '178', '179', '180', '181', '182', '183', '184', '185', '186', '187', '188', '189', '190', '191', '192', '193', '194', '195', '196', '197', '198', '199', '200', '201', '202', '203', '204', '205', '206', '207', '208', '209', '210', '211', '212', '213', '214', '215', '216', '217', '218', '219', '220', '221', '222', '223', '224', '225', '226', '227', '228', '229', '230', '231', '232', '233', '234', '235', '236', '237', '238', '239', '240', '241', '242', '243', '244', '245', '246', '247', '248', '249', '250', '251', '252', '253', '254', '255', '256', '257', '258', '259', '260', '261', '262', '263', '264', '265', '266', '267', '268', '269', '270', '271', '272', '273', '274', '275', '276', '277', '278', '279', '280', '281', '282', '283', '284', '285', '286', '287', '288', '289', '290', '291', '292', '293', '294', '295', '296', '297', '298', '299', '300', '301', '302', '303', '304', '305', '306', '307', '308', '309', '310', '311', '312', '313', '314', '315', '316', '317', '318', '319', '320', '321', '322', '323', '324', '325', '326', '327', '328', '329', '330', '331', '332', '333', '334', '335', '336', '337', '338', '339', '340', '341', '342', '343', '344', '345', '346', '347', '348', '349', '350', '351', '352', '353', '354', '355', '356', '357', '358', '359', '360', '361', '362', '363', '364', '365', '366', '367', '368']\n",
      "2024-06-07 12:38:47,096 - julearn - INFO - \tTarget: IST_crystallised\n",
      "2024-06-07 12:38:47,122 - julearn - INFO - \tExpanded features: ['1', '2', '3', '4', '5', '6', '7', '8', '9', '10', '11', '12', '13', '14', '15', '16', '17', '18', '19', '20', '21', '22', '23', '24', '25', '26', '27', '28', '29', '30', '31', '32', '33', '34', '35', '36', '37', '38', '39', '40', '41', '42', '43', '44', '45', '46', '47', '48', '49', '50', '51', '52', '53', '54', '55', '56', '57', '58', '59', '60', '61', '62', '63', '64', '65', '66', '67', '68', '69', '70', '71', '72', '73', '74', '75', '76', '77', '78', '79', '80', '81', '82', '83', '84', '85', '86', '87', '88', '89', '90', '91', '92', '93', '94', '95', '96', '97', '98', '99', '100', '101', '102', '103', '104', '105', '106', '107', '108', '109', '110', '111', '112', '113', '114', '115', '116', '117', '118', '119', '120', '121', '122', '123', '124', '125', '126', '127', '128', '129', '130', '131', '132', '133', '134', '135', '136', '137', '138', '139', '140', '141', '142', '143', '144', '145', '146', '147', '148', '149', '150', '151', '152', '153', '154', '155', '156', '157', '158', '159', '160', '161', '162', '163', '164', '165', '166', '167', '168', '169', '170', '171', '172', '173', '174', '175', '176', '177', '178', '179', '180', '181', '182', '183', '184', '185', '186', '187', '188', '189', '190', '191', '192', '193', '194', '195', '196', '197', '198', '199', '200', '201', '202', '203', '204', '205', '206', '207', '208', '209', '210', '211', '212', '213', '214', '215', '216', '217', '218', '219', '220', '221', '222', '223', '224', '225', '226', '227', '228', '229', '230', '231', '232', '233', '234', '235', '236', '237', '238', '239', '240', '241', '242', '243', '244', '245', '246', '247', '248', '249', '250', '251', '252', '253', '254', '255', '256', '257', '258', '259', '260', '261', '262', '263', '264', '265', '266', '267', '268', '269', '270', '271', '272', '273', '274', '275', '276', '277', '278', '279', '280', '281', '282', '283', '284', '285', '286', '287', '288', '289', '290', '291', '292', '293', '294', '295', '296', '297', '298', '299', '300', '301', '302', '303', '304', '305', '306', '307', '308', '309', '310', '311', '312', '313', '314', '315', '316', '317', '318', '319', '320', '321', '322', '323', '324', '325', '326', '327', '328', '329', '330', '331', '332', '333', '334', '335', '336', '337', '338', '339', '340', '341', '342', '343', '344', '345', '346', '347', '348', '349', '350', '351', '352', '353', '354', '355', '356', '357', '358', '359', '360', '361', '362', '363', '364', '365', '366', '367', '368']\n",
      "2024-06-07 12:38:47,123 - julearn - INFO - \tX_types:{}\n",
      "2024-06-07 12:38:47,124 - julearn - WARNING - The following columns are not defined in X_types: ['1', '2', '3', '4', '5', '6', '7', '8', '9', '10', '11', '12', '13', '14', '15', '16', '17', '18', '19', '20', '21', '22', '23', '24', '25', '26', '27', '28', '29', '30', '31', '32', '33', '34', '35', '36', '37', '38', '39', '40', '41', '42', '43', '44', '45', '46', '47', '48', '49', '50', '51', '52', '53', '54', '55', '56', '57', '58', '59', '60', '61', '62', '63', '64', '65', '66', '67', '68', '69', '70', '71', '72', '73', '74', '75', '76', '77', '78', '79', '80', '81', '82', '83', '84', '85', '86', '87', '88', '89', '90', '91', '92', '93', '94', '95', '96', '97', '98', '99', '100', '101', '102', '103', '104', '105', '106', '107', '108', '109', '110', '111', '112', '113', '114', '115', '116', '117', '118', '119', '120', '121', '122', '123', '124', '125', '126', '127', '128', '129', '130', '131', '132', '133', '134', '135', '136', '137', '138', '139', '140', '141', '142', '143', '144', '145', '146', '147', '148', '149', '150', '151', '152', '153', '154', '155', '156', '157', '158', '159', '160', '161', '162', '163', '164', '165', '166', '167', '168', '169', '170', '171', '172', '173', '174', '175', '176', '177', '178', '179', '180', '181', '182', '183', '184', '185', '186', '187', '188', '189', '190', '191', '192', '193', '194', '195', '196', '197', '198', '199', '200', '201', '202', '203', '204', '205', '206', '207', '208', '209', '210', '211', '212', '213', '214', '215', '216', '217', '218', '219', '220', '221', '222', '223', '224', '225', '226', '227', '228', '229', '230', '231', '232', '233', '234', '235', '236', '237', '238', '239', '240', '241', '242', '243', '244', '245', '246', '247', '248', '249', '250', '251', '252', '253', '254', '255', '256', '257', '258', '259', '260', '261', '262', '263', '264', '265', '266', '267', '268', '269', '270', '271', '272', '273', '274', '275', '276', '277', '278', '279', '280', '281', '282', '283', '284', '285', '286', '287', '288', '289', '290', '291', '292', '293', '294', '295', '296', '297', '298', '299', '300', '301', '302', '303', '304', '305', '306', '307', '308', '309', '310', '311', '312', '313', '314', '315', '316', '317', '318', '319', '320', '321', '322', '323', '324', '325', '326', '327', '328', '329', '330', '331', '332', '333', '334', '335', '336', '337', '338', '339', '340', '341', '342', '343', '344', '345', '346', '347', '348', '349', '350', '351', '352', '353', '354', '355', '356', '357', '358', '359', '360', '361', '362', '363', '364', '365', '366', '367', '368']. They will be treated as continuous.\n"
     ]
    },
    {
     "name": "stderr",
     "output_type": "stream",
     "text": [
      "/home/lucas/miniconda3/envs/neurodc/lib/python3.11/site-packages/julearn/prepare.py:505: RuntimeWarning: The following columns are not defined in X_types: ['1', '2', '3', '4', '5', '6', '7', '8', '9', '10', '11', '12', '13', '14', '15', '16', '17', '18', '19', '20', '21', '22', '23', '24', '25', '26', '27', '28', '29', '30', '31', '32', '33', '34', '35', '36', '37', '38', '39', '40', '41', '42', '43', '44', '45', '46', '47', '48', '49', '50', '51', '52', '53', '54', '55', '56', '57', '58', '59', '60', '61', '62', '63', '64', '65', '66', '67', '68', '69', '70', '71', '72', '73', '74', '75', '76', '77', '78', '79', '80', '81', '82', '83', '84', '85', '86', '87', '88', '89', '90', '91', '92', '93', '94', '95', '96', '97', '98', '99', '100', '101', '102', '103', '104', '105', '106', '107', '108', '109', '110', '111', '112', '113', '114', '115', '116', '117', '118', '119', '120', '121', '122', '123', '124', '125', '126', '127', '128', '129', '130', '131', '132', '133', '134', '135', '136', '137', '138', '139', '140', '141', '142', '143', '144', '145', '146', '147', '148', '149', '150', '151', '152', '153', '154', '155', '156', '157', '158', '159', '160', '161', '162', '163', '164', '165', '166', '167', '168', '169', '170', '171', '172', '173', '174', '175', '176', '177', '178', '179', '180', '181', '182', '183', '184', '185', '186', '187', '188', '189', '190', '191', '192', '193', '194', '195', '196', '197', '198', '199', '200', '201', '202', '203', '204', '205', '206', '207', '208', '209', '210', '211', '212', '213', '214', '215', '216', '217', '218', '219', '220', '221', '222', '223', '224', '225', '226', '227', '228', '229', '230', '231', '232', '233', '234', '235', '236', '237', '238', '239', '240', '241', '242', '243', '244', '245', '246', '247', '248', '249', '250', '251', '252', '253', '254', '255', '256', '257', '258', '259', '260', '261', '262', '263', '264', '265', '266', '267', '268', '269', '270', '271', '272', '273', '274', '275', '276', '277', '278', '279', '280', '281', '282', '283', '284', '285', '286', '287', '288', '289', '290', '291', '292', '293', '294', '295', '296', '297', '298', '299', '300', '301', '302', '303', '304', '305', '306', '307', '308', '309', '310', '311', '312', '313', '314', '315', '316', '317', '318', '319', '320', '321', '322', '323', '324', '325', '326', '327', '328', '329', '330', '331', '332', '333', '334', '335', '336', '337', '338', '339', '340', '341', '342', '343', '344', '345', '346', '347', '348', '349', '350', '351', '352', '353', '354', '355', '356', '357', '358', '359', '360', '361', '362', '363', '364', '365', '366', '367', '368']. They will be treated as continuous.\n",
      "  warn_with_log(\n"
     ]
    },
    {
     "name": "stdout",
     "output_type": "stream",
     "text": [
      "2024-06-07 12:38:47,126 - julearn - INFO - ====================\n",
      "2024-06-07 12:38:47,127 - julearn - INFO - \n",
      "2024-06-07 12:38:47,128 - julearn - INFO - = Model Parameters =\n",
      "2024-06-07 12:38:47,129 - julearn - INFO - Tuning hyperparameters using bayes\n",
      "2024-06-07 12:38:47,130 - julearn - INFO - Hyperparameters:\n",
      "2024-06-07 12:38:47,131 - julearn - INFO - \tsvm__C: (1e-06, 1, 'log-uniform')\n",
      "2024-06-07 12:38:47,132 - julearn - INFO - \tsvm__epsilon: (0.01, 3, 'log-uniform')\n",
      "2024-06-07 12:38:47,133 - julearn - INFO - Hyperparameter svm__C as is (1e-06, 1, 'log-uniform')\n",
      "2024-06-07 12:38:47,133 - julearn - INFO - Hyperparameter svm__epsilon as is (0.01, 3, 'log-uniform')\n",
      "2024-06-07 12:38:47,134 - julearn - INFO - Using inner CV scheme KFold(n_splits=5, random_state=None, shuffle=False)\n",
      "2024-06-07 12:38:47,135 - julearn - INFO - Search Parameters:\n",
      "2024-06-07 12:38:47,136 - julearn - INFO - \tn_iter: 50\n",
      "2024-06-07 12:38:47,137 - julearn - INFO - \tcv: KFold(n_splits=5, random_state=None, shuffle=False)\n",
      "2024-06-07 12:38:47,140 - julearn - INFO - ====================\n",
      "2024-06-07 12:38:47,141 - julearn - INFO - \n",
      "2024-06-07 12:38:47,142 - julearn - INFO - = Model Parameters =\n",
      "2024-06-07 12:38:47,143 - julearn - INFO - Tuning hyperparameters using bayes\n",
      "2024-06-07 12:38:47,144 - julearn - INFO - Hyperparameters:\n",
      "2024-06-07 12:38:47,145 - julearn - INFO - \tsvm__kernel: ['rbf', 'sigmoid']\n",
      "2024-06-07 12:38:47,146 - julearn - INFO - \tsvm__C: (1e-06, 1, 'log-uniform')\n",
      "2024-06-07 12:38:47,146 - julearn - INFO - \tsvm__gamma: [1e-05, 0.0001, 0.001, 0.01, 'scale', 'auto']\n",
      "2024-06-07 12:38:47,147 - julearn - INFO - \tsvm__epsilon: (0.01, 3, 'log-uniform')\n",
      "2024-06-07 12:38:47,148 - julearn - INFO - Hyperparameter svm__kernel as is ['rbf', 'sigmoid']\n",
      "2024-06-07 12:38:47,149 - julearn - INFO - Hyperparameter svm__C as is (1e-06, 1, 'log-uniform')\n",
      "2024-06-07 12:38:47,150 - julearn - INFO - Hyperparameter svm__gamma as is [1e-05, 0.0001, 0.001, 0.01, 'scale', 'auto']\n",
      "2024-06-07 12:38:47,151 - julearn - INFO - Hyperparameter svm__epsilon as is (0.01, 3, 'log-uniform')\n",
      "2024-06-07 12:38:47,152 - julearn - INFO - Using inner CV scheme KFold(n_splits=5, random_state=None, shuffle=False)\n",
      "2024-06-07 12:38:47,153 - julearn - INFO - Search Parameters:\n",
      "2024-06-07 12:38:47,154 - julearn - INFO - \tn_iter: 50\n",
      "2024-06-07 12:38:47,155 - julearn - INFO - \tcv: KFold(n_splits=5, random_state=None, shuffle=False)\n",
      "2024-06-07 12:38:47,160 - julearn - INFO - ====================\n",
      "2024-06-07 12:38:47,161 - julearn - INFO - \n",
      "2024-06-07 12:38:47,162 - julearn - INFO - = Model Parameters =\n",
      "2024-06-07 12:38:47,163 - julearn - INFO - Tuning hyperparameters using bayes\n",
      "2024-06-07 12:38:47,164 - julearn - INFO - Hyperparameters list:\n",
      "2024-06-07 12:38:47,164 - julearn - INFO - \tSet 0\n",
      "2024-06-07 12:38:47,165 - julearn - INFO - \t\tsvm__C: (1e-06, 1, 'log-uniform')\n",
      "2024-06-07 12:38:47,166 - julearn - INFO - \t\tsvm__epsilon: (0.01, 3, 'log-uniform')\n",
      "2024-06-07 12:38:47,167 - julearn - INFO - \t\tset_column_types: [SetColumnTypes(X_types={})]\n",
      "2024-06-07 12:38:47,168 - julearn - INFO - \t\tzscore: [StandardScaler()]\n",
      "2024-06-07 12:38:47,169 - julearn - INFO - \t\tsvm: [SVR(kernel='linear')]\n",
      "2024-06-07 12:38:47,170 - julearn - INFO - \tSet 1\n",
      "2024-06-07 12:38:47,171 - julearn - INFO - \t\tsvm__kernel: ['rbf', 'sigmoid']\n",
      "2024-06-07 12:38:47,172 - julearn - INFO - \t\tsvm__C: (1e-06, 1, 'log-uniform')\n",
      "2024-06-07 12:38:47,173 - julearn - INFO - \t\tsvm__gamma: [1e-05, 0.0001, 0.001, 0.01, 'scale', 'auto']\n",
      "2024-06-07 12:38:47,173 - julearn - INFO - \t\tsvm__epsilon: (0.01, 3, 'log-uniform')\n",
      "2024-06-07 12:38:47,174 - julearn - INFO - \t\tset_column_types: [SetColumnTypes(X_types={})]\n",
      "2024-06-07 12:38:47,175 - julearn - INFO - \t\tzscore: [StandardScaler()]\n",
      "2024-06-07 12:38:47,176 - julearn - INFO - \t\tsvm: [SVR()]\n",
      "2024-06-07 12:38:47,177 - julearn - INFO - Hyperparameter svm__C as is (1e-06, 1, 'log-uniform')\n",
      "2024-06-07 12:38:47,178 - julearn - INFO - Hyperparameter svm__epsilon as is (0.01, 3, 'log-uniform')\n",
      "2024-06-07 12:38:47,179 - julearn - INFO - Hyperparameter set_column_types as is [SetColumnTypes(X_types={})]\n",
      "2024-06-07 12:38:47,180 - julearn - INFO - Hyperparameter zscore as is [StandardScaler()]\n",
      "2024-06-07 12:38:47,181 - julearn - INFO - Hyperparameter svm as is [SVR(kernel='linear')]\n",
      "2024-06-07 12:38:47,182 - julearn - INFO - Hyperparameter svm__kernel as is ['rbf', 'sigmoid']\n",
      "2024-06-07 12:38:47,183 - julearn - INFO - Hyperparameter svm__C as is (1e-06, 1, 'log-uniform')\n",
      "2024-06-07 12:38:47,183 - julearn - INFO - Hyperparameter svm__gamma as is [1e-05, 0.0001, 0.001, 0.01, 'scale', 'auto']\n",
      "2024-06-07 12:38:47,184 - julearn - INFO - Hyperparameter svm__epsilon as is (0.01, 3, 'log-uniform')\n",
      "2024-06-07 12:38:47,185 - julearn - INFO - Hyperparameter set_column_types as is [SetColumnTypes(X_types={})]\n",
      "2024-06-07 12:38:47,186 - julearn - INFO - Hyperparameter zscore as is [StandardScaler()]\n",
      "2024-06-07 12:38:47,187 - julearn - INFO - Hyperparameter svm as is [SVR()]\n",
      "2024-06-07 12:38:47,188 - julearn - INFO - Using inner CV scheme KFold(n_splits=5, random_state=None, shuffle=False)\n",
      "2024-06-07 12:38:47,189 - julearn - INFO - Search Parameters:\n",
      "2024-06-07 12:38:47,190 - julearn - INFO - \tn_iter: 50\n",
      "2024-06-07 12:38:47,191 - julearn - INFO - \tcv: KFold(n_splits=5, random_state=None, shuffle=False)\n",
      "2024-06-07 12:38:47,204 - julearn - INFO - ====================\n",
      "2024-06-07 12:38:47,205 - julearn - INFO - \n",
      "2024-06-07 12:38:47,206 - julearn - INFO - = Data Information =\n",
      "2024-06-07 12:38:47,207 - julearn - INFO - \tProblem type: regression\n",
      "2024-06-07 12:38:47,208 - julearn - INFO - \tNumber of samples: 833\n",
      "2024-06-07 12:38:47,208 - julearn - INFO - \tNumber of features: 368\n",
      "2024-06-07 12:38:47,209 - julearn - INFO - ====================\n",
      "2024-06-07 12:38:47,210 - julearn - INFO - \n",
      "2024-06-07 12:38:47,211 - julearn - INFO - \tTarget type: float64\n",
      "2024-06-07 12:38:47,212 - julearn - INFO - Using outer CV scheme RepeatedContinuousStratifiedKFold(method='binning', n_bins=3, n_repeats=10,\n",
      "                 n_splits=3, random_state=42)\n"
     ]
    },
    {
     "name": "stderr",
     "output_type": "stream",
     "text": [
      "/home/lucas/miniconda3/envs/neurodc/lib/python3.11/site-packages/skopt/optimizer/optimizer.py:517: UserWarning: The objective has been evaluated at point [SetColumnTypes(X_types={}), SVR(), 1.0, 0.01, 0.001, 'sigmoid', StandardScaler()] before, using random point [SetColumnTypes(X_types={}), SVR(), 1.029847409937783e-06, 0.030040496667089685, 1e-05, 'rbf', StandardScaler()]\n",
      "  warnings.warn(\n",
      "/home/lucas/miniconda3/envs/neurodc/lib/python3.11/site-packages/skopt/optimizer/optimizer.py:517: UserWarning: The objective has been evaluated at point [SetColumnTypes(X_types={}), SVR(), 1.0, 0.01, 0.001, 'sigmoid', StandardScaler()] before, using random point [SetColumnTypes(X_types={}), SVR(), 4.2097030112229855e-05, 0.01235027317230818, 'scale', 'sigmoid', StandardScaler()]\n",
      "  warnings.warn(\n",
      "/home/lucas/miniconda3/envs/neurodc/lib/python3.11/site-packages/skopt/optimizer/optimizer.py:517: UserWarning: The objective has been evaluated at point [SetColumnTypes(X_types={}), SVR(), 1.0, 0.01, 1e-05, 'sigmoid', StandardScaler()] before, using random point [SetColumnTypes(X_types={}), SVR(), 3.6900519350926504e-05, 0.019759508758531722, 0.0001, 'sigmoid', StandardScaler()]\n",
      "  warnings.warn(\n",
      "/home/lucas/miniconda3/envs/neurodc/lib/python3.11/site-packages/skopt/optimizer/optimizer.py:517: UserWarning: The objective has been evaluated at point [SetColumnTypes(X_types={}), SVR(), 1.0, 3.0, 0.001, 'sigmoid', StandardScaler()] before, using random point [SetColumnTypes(X_types={}), SVR(), 0.00019728710010524244, 0.017524789668692933, 1e-05, 'sigmoid', StandardScaler()]\n",
      "  warnings.warn(\n",
      "/home/lucas/miniconda3/envs/neurodc/lib/python3.11/site-packages/skopt/optimizer/optimizer.py:517: UserWarning: The objective has been evaluated at point [SetColumnTypes(X_types={}), SVR(), 1.0, 3.0, 0.001, 'sigmoid', StandardScaler()] before, using random point [SetColumnTypes(X_types={}), SVR(), 0.0022229787855431943, 0.2100294942956535, 0.001, 'rbf', StandardScaler()]\n",
      "  warnings.warn(\n",
      "/home/lucas/miniconda3/envs/neurodc/lib/python3.11/site-packages/skopt/optimizer/optimizer.py:517: UserWarning: The objective has been evaluated at point [SetColumnTypes(X_types={}), SVR(), 1.0, 3.0, 0.001, 'sigmoid', StandardScaler()] before, using random point [SetColumnTypes(X_types={}), SVR(), 0.0005180951635244778, 0.492871440688736, 'auto', 'sigmoid', StandardScaler()]\n",
      "  warnings.warn(\n",
      "/home/lucas/miniconda3/envs/neurodc/lib/python3.11/site-packages/skopt/optimizer/optimizer.py:517: UserWarning: The objective has been evaluated at point [SetColumnTypes(X_types={}), SVR(), 1.0, 0.01, 0.001, 'sigmoid', StandardScaler()] before, using random point [SetColumnTypes(X_types={}), SVR(), 2.1166760033399557e-06, 0.5388901608068957, 0.001, 'sigmoid', StandardScaler()]\n",
      "  warnings.warn(\n",
      "/home/lucas/miniconda3/envs/neurodc/lib/python3.11/site-packages/skopt/optimizer/optimizer.py:517: UserWarning: The objective has been evaluated at point [SetColumnTypes(X_types={}), SVR(), 1.0, 0.01, 0.001, 'sigmoid', StandardScaler()] before, using random point [SetColumnTypes(X_types={}), SVR(), 0.007498929243801872, 2.4389967879968095, 1e-05, 'sigmoid', StandardScaler()]\n",
      "  warnings.warn(\n",
      "/home/lucas/miniconda3/envs/neurodc/lib/python3.11/site-packages/skopt/optimizer/optimizer.py:517: UserWarning: The objective has been evaluated at point [SetColumnTypes(X_types={}), SVR(), 1.0, 0.01, 0.001, 'sigmoid', StandardScaler()] before, using random point [SetColumnTypes(X_types={}), SVR(), 0.0006335437592327565, 0.011329214794689377, 0.01, 'rbf', StandardScaler()]\n",
      "  warnings.warn(\n",
      "/home/lucas/miniconda3/envs/neurodc/lib/python3.11/site-packages/skopt/optimizer/optimizer.py:517: UserWarning: The objective has been evaluated at point [SetColumnTypes(X_types={}), SVR(), 1.0, 0.01, 0.0001, 'rbf', StandardScaler()] before, using random point [SetColumnTypes(X_types={}), SVR(), 1.579382826111516e-06, 0.15743510768785196, 'auto', 'sigmoid', StandardScaler()]\n",
      "  warnings.warn(\n",
      "/home/lucas/miniconda3/envs/neurodc/lib/python3.11/site-packages/skopt/optimizer/optimizer.py:517: UserWarning: The objective has been evaluated at point [SetColumnTypes(X_types={}), SVR(), 1.0, 0.01, 0.001, 'rbf', StandardScaler()] before, using random point [SetColumnTypes(X_types={}), SVR(), 1.1808521575939573e-06, 0.01581914245353539, 0.0001, 'sigmoid', StandardScaler()]\n",
      "  warnings.warn(\n",
      "/home/lucas/miniconda3/envs/neurodc/lib/python3.11/site-packages/skopt/optimizer/optimizer.py:517: UserWarning: The objective has been evaluated at point [SetColumnTypes(X_types={}), SVR(), 1.0, 3.0, 0.001, 'sigmoid', StandardScaler()] before, using random point [SetColumnTypes(X_types={}), SVR(), 0.005971845779665561, 0.043238271024283, 0.001, 'rbf', StandardScaler()]\n",
      "  warnings.warn(\n",
      "/home/lucas/miniconda3/envs/neurodc/lib/python3.11/site-packages/skopt/optimizer/optimizer.py:517: UserWarning: The objective has been evaluated at point [SetColumnTypes(X_types={}), SVR(), 1.0, 3.0, 0.001, 'sigmoid', StandardScaler()] before, using random point [SetColumnTypes(X_types={}), SVR(), 0.2193287670385363, 0.014987703845045393, 0.001, 'rbf', StandardScaler()]\n",
      "  warnings.warn(\n",
      "/home/lucas/miniconda3/envs/neurodc/lib/python3.11/site-packages/skopt/optimizer/optimizer.py:517: UserWarning: The objective has been evaluated at point [SetColumnTypes(X_types={}), SVR(), 1.0, 3.0, 0.001, 'sigmoid', StandardScaler()] before, using random point [SetColumnTypes(X_types={}), SVR(), 4.086760503734973e-06, 0.07028823743890124, 1e-05, 'sigmoid', StandardScaler()]\n",
      "  warnings.warn(\n",
      "/home/lucas/miniconda3/envs/neurodc/lib/python3.11/site-packages/skopt/optimizer/optimizer.py:517: UserWarning: The objective has been evaluated at point [SetColumnTypes(X_types={}), SVR(), 1.0, 3.0, 0.001, 'sigmoid', StandardScaler()] before, using random point [SetColumnTypes(X_types={}), SVR(), 0.018002553534701305, 0.010609162731396948, 0.01, 'rbf', StandardScaler()]\n",
      "  warnings.warn(\n",
      "/home/lucas/miniconda3/envs/neurodc/lib/python3.11/site-packages/skopt/optimizer/optimizer.py:517: UserWarning: The objective has been evaluated at point [SetColumnTypes(X_types={}), SVR(), 1.0, 3.0, 0.001, 'sigmoid', StandardScaler()] before, using random point [SetColumnTypes(X_types={}), SVR(), 0.0008480062365554827, 0.01093308383258225, 1e-05, 'sigmoid', StandardScaler()]\n",
      "  warnings.warn(\n",
      "/home/lucas/miniconda3/envs/neurodc/lib/python3.11/site-packages/skopt/optimizer/optimizer.py:517: UserWarning: The objective has been evaluated at point [SetColumnTypes(X_types={}), SVR(), 1.0, 3.0, 1e-05, 'sigmoid', StandardScaler()] before, using random point [SetColumnTypes(X_types={}), SVR(), 0.0006437200666035475, 2.0176141932643064, 0.0001, 'sigmoid', StandardScaler()]\n",
      "  warnings.warn(\n",
      "/home/lucas/miniconda3/envs/neurodc/lib/python3.11/site-packages/skopt/optimizer/optimizer.py:517: UserWarning: The objective has been evaluated at point [SetColumnTypes(X_types={}), SVR(), 1.0, 3.0, 1e-05, 'sigmoid', StandardScaler()] before, using random point [SetColumnTypes(X_types={}), SVR(), 0.0026792312431955655, 0.6490150563439675, 0.0001, 'sigmoid', StandardScaler()]\n",
      "  warnings.warn(\n",
      "/home/lucas/miniconda3/envs/neurodc/lib/python3.11/site-packages/skopt/optimizer/optimizer.py:517: UserWarning: The objective has been evaluated at point [SetColumnTypes(X_types={}), SVR(), 1.0, 3.0, 1e-05, 'sigmoid', StandardScaler()] before, using random point [SetColumnTypes(X_types={}), SVR(), 0.0007715463332382543, 0.17055254598094008, 'scale', 'sigmoid', StandardScaler()]\n",
      "  warnings.warn(\n",
      "/home/lucas/miniconda3/envs/neurodc/lib/python3.11/site-packages/skopt/optimizer/optimizer.py:517: UserWarning: The objective has been evaluated at point [SetColumnTypes(X_types={}), SVR(), 1.0, 3.0, 1e-05, 'sigmoid', StandardScaler()] before, using random point [SetColumnTypes(X_types={}), SVR(), 0.12043183191358253, 0.014261110692296937, 0.001, 'rbf', StandardScaler()]\n",
      "  warnings.warn(\n",
      "/home/lucas/miniconda3/envs/neurodc/lib/python3.11/site-packages/skopt/optimizer/optimizer.py:517: UserWarning: The objective has been evaluated at point [SetColumnTypes(X_types={}), SVR(), 1.0, 3.0, 1e-05, 'sigmoid', StandardScaler()] before, using random point [SetColumnTypes(X_types={}), SVR(), 0.0004429469355174724, 1.8062406022214021, 0.01, 'rbf', StandardScaler()]\n",
      "  warnings.warn(\n",
      "/home/lucas/miniconda3/envs/neurodc/lib/python3.11/site-packages/skopt/optimizer/optimizer.py:517: UserWarning: The objective has been evaluated at point [SetColumnTypes(X_types={}), SVR(), 1.0, 3.0, 1e-05, 'sigmoid', StandardScaler()] before, using random point [SetColumnTypes(X_types={}), SVR(), 0.0023198486219154, 0.033869524846072877, 0.01, 'sigmoid', StandardScaler()]\n",
      "  warnings.warn(\n"
     ]
    },
    {
     "name": "stdout",
     "output_type": "stream",
     "text": [
      "2024-06-07 13:39:21,313 - julearn - INFO - Fitting final model\n",
      "2024-06-07 13:41:45,711 - julearn - INFO - Inspector requested: setting return_estimator='all'\n",
      "2024-06-07 13:41:45,712 - julearn - INFO - ==== Input Data ====\n",
      "2024-06-07 13:41:45,712 - julearn - INFO - Using dataframe as input\n",
      "2024-06-07 13:41:45,713 - julearn - INFO - \tFeatures: ['1', '2', '3', '4', '5', '6', '7', '8', '9', '10', '11', '12', '13', '14', '15', '16', '17', '18', '19', '20', '21', '22', '23', '24', '25', '26', '27', '28', '29', '30', '31', '32', '33', '34', '35', '36', '37', '38', '39', '40', '41', '42', '43', '44', '45', '46', '47', '48', '49', '50', '51', '52', '53', '54', '55', '56', '57', '58', '59', '60', '61', '62', '63', '64', '65', '66', '67', '68', '69', '70', '71', '72', '73', '74', '75', '76', '77', '78', '79', '80', '81', '82', '83', '84', '85', '86', '87', '88', '89', '90', '91', '92', '93', '94', '95', '96', '97', '98', '99', '100', '101', '102', '103', '104', '105', '106', '107', '108', '109', '110', '111', '112', '113', '114', '115', '116', '117', '118', '119', '120', '121', '122', '123', '124', '125', '126', '127', '128', '129', '130', '131', '132', '133', '134', '135', '136', '137', '138', '139', '140', '141', '142', '143', '144', '145', '146', '147', '148', '149', '150', '151', '152', '153', '154', '155', '156', '157', '158', '159', '160', '161', '162', '163', '164', '165', '166', '167', '168', '169', '170', '171', '172', '173', '174', '175', '176', '177', '178', '179', '180', '181', '182', '183', '184', '185', '186', '187', '188', '189', '190', '191', '192', '193', '194', '195', '196', '197', '198', '199', '200', '201', '202', '203', '204', '205', '206', '207', '208', '209', '210', '211', '212', '213', '214', '215', '216', '217', '218', '219', '220', '221', '222', '223', '224', '225', '226', '227', '228', '229', '230', '231', '232', '233', '234', '235', '236', '237', '238', '239', '240', '241', '242', '243', '244', '245', '246', '247', '248', '249', '250', '251', '252', '253', '254', '255', '256', '257', '258', '259', '260', '261', '262', '263', '264', '265', '266', '267', '268', '269', '270', '271', '272', '273', '274', '275', '276', '277', '278', '279', '280', '281', '282', '283', '284', '285', '286', '287', '288', '289', '290', '291', '292', '293', '294', '295', '296', '297', '298', '299', '300', '301', '302', '303', '304', '305', '306', '307', '308', '309', '310', '311', '312', '313', '314', '315', '316', '317', '318', '319', '320', '321', '322', '323', '324', '325', '326', '327', '328', '329', '330', '331', '332', '333', '334', '335', '336', '337', '338', '339', '340', '341', '342', '343', '344', '345', '346', '347', '348', '349', '350', '351', '352', '353', '354', '355', '356', '357', '358', '359', '360', '361', '362', '363', '364', '365', '366', '367', '368']\n",
      "2024-06-07 13:41:45,714 - julearn - INFO - \tTarget: IST_crystallised\n",
      "2024-06-07 13:41:45,741 - julearn - INFO - \tExpanded features: ['1', '2', '3', '4', '5', '6', '7', '8', '9', '10', '11', '12', '13', '14', '15', '16', '17', '18', '19', '20', '21', '22', '23', '24', '25', '26', '27', '28', '29', '30', '31', '32', '33', '34', '35', '36', '37', '38', '39', '40', '41', '42', '43', '44', '45', '46', '47', '48', '49', '50', '51', '52', '53', '54', '55', '56', '57', '58', '59', '60', '61', '62', '63', '64', '65', '66', '67', '68', '69', '70', '71', '72', '73', '74', '75', '76', '77', '78', '79', '80', '81', '82', '83', '84', '85', '86', '87', '88', '89', '90', '91', '92', '93', '94', '95', '96', '97', '98', '99', '100', '101', '102', '103', '104', '105', '106', '107', '108', '109', '110', '111', '112', '113', '114', '115', '116', '117', '118', '119', '120', '121', '122', '123', '124', '125', '126', '127', '128', '129', '130', '131', '132', '133', '134', '135', '136', '137', '138', '139', '140', '141', '142', '143', '144', '145', '146', '147', '148', '149', '150', '151', '152', '153', '154', '155', '156', '157', '158', '159', '160', '161', '162', '163', '164', '165', '166', '167', '168', '169', '170', '171', '172', '173', '174', '175', '176', '177', '178', '179', '180', '181', '182', '183', '184', '185', '186', '187', '188', '189', '190', '191', '192', '193', '194', '195', '196', '197', '198', '199', '200', '201', '202', '203', '204', '205', '206', '207', '208', '209', '210', '211', '212', '213', '214', '215', '216', '217', '218', '219', '220', '221', '222', '223', '224', '225', '226', '227', '228', '229', '230', '231', '232', '233', '234', '235', '236', '237', '238', '239', '240', '241', '242', '243', '244', '245', '246', '247', '248', '249', '250', '251', '252', '253', '254', '255', '256', '257', '258', '259', '260', '261', '262', '263', '264', '265', '266', '267', '268', '269', '270', '271', '272', '273', '274', '275', '276', '277', '278', '279', '280', '281', '282', '283', '284', '285', '286', '287', '288', '289', '290', '291', '292', '293', '294', '295', '296', '297', '298', '299', '300', '301', '302', '303', '304', '305', '306', '307', '308', '309', '310', '311', '312', '313', '314', '315', '316', '317', '318', '319', '320', '321', '322', '323', '324', '325', '326', '327', '328', '329', '330', '331', '332', '333', '334', '335', '336', '337', '338', '339', '340', '341', '342', '343', '344', '345', '346', '347', '348', '349', '350', '351', '352', '353', '354', '355', '356', '357', '358', '359', '360', '361', '362', '363', '364', '365', '366', '367', '368']\n",
      "2024-06-07 13:41:45,742 - julearn - INFO - \tX_types:{}\n",
      "2024-06-07 13:41:45,743 - julearn - WARNING - The following columns are not defined in X_types: ['1', '2', '3', '4', '5', '6', '7', '8', '9', '10', '11', '12', '13', '14', '15', '16', '17', '18', '19', '20', '21', '22', '23', '24', '25', '26', '27', '28', '29', '30', '31', '32', '33', '34', '35', '36', '37', '38', '39', '40', '41', '42', '43', '44', '45', '46', '47', '48', '49', '50', '51', '52', '53', '54', '55', '56', '57', '58', '59', '60', '61', '62', '63', '64', '65', '66', '67', '68', '69', '70', '71', '72', '73', '74', '75', '76', '77', '78', '79', '80', '81', '82', '83', '84', '85', '86', '87', '88', '89', '90', '91', '92', '93', '94', '95', '96', '97', '98', '99', '100', '101', '102', '103', '104', '105', '106', '107', '108', '109', '110', '111', '112', '113', '114', '115', '116', '117', '118', '119', '120', '121', '122', '123', '124', '125', '126', '127', '128', '129', '130', '131', '132', '133', '134', '135', '136', '137', '138', '139', '140', '141', '142', '143', '144', '145', '146', '147', '148', '149', '150', '151', '152', '153', '154', '155', '156', '157', '158', '159', '160', '161', '162', '163', '164', '165', '166', '167', '168', '169', '170', '171', '172', '173', '174', '175', '176', '177', '178', '179', '180', '181', '182', '183', '184', '185', '186', '187', '188', '189', '190', '191', '192', '193', '194', '195', '196', '197', '198', '199', '200', '201', '202', '203', '204', '205', '206', '207', '208', '209', '210', '211', '212', '213', '214', '215', '216', '217', '218', '219', '220', '221', '222', '223', '224', '225', '226', '227', '228', '229', '230', '231', '232', '233', '234', '235', '236', '237', '238', '239', '240', '241', '242', '243', '244', '245', '246', '247', '248', '249', '250', '251', '252', '253', '254', '255', '256', '257', '258', '259', '260', '261', '262', '263', '264', '265', '266', '267', '268', '269', '270', '271', '272', '273', '274', '275', '276', '277', '278', '279', '280', '281', '282', '283', '284', '285', '286', '287', '288', '289', '290', '291', '292', '293', '294', '295', '296', '297', '298', '299', '300', '301', '302', '303', '304', '305', '306', '307', '308', '309', '310', '311', '312', '313', '314', '315', '316', '317', '318', '319', '320', '321', '322', '323', '324', '325', '326', '327', '328', '329', '330', '331', '332', '333', '334', '335', '336', '337', '338', '339', '340', '341', '342', '343', '344', '345', '346', '347', '348', '349', '350', '351', '352', '353', '354', '355', '356', '357', '358', '359', '360', '361', '362', '363', '364', '365', '366', '367', '368']. They will be treated as continuous.\n"
     ]
    },
    {
     "name": "stderr",
     "output_type": "stream",
     "text": [
      "/home/lucas/miniconda3/envs/neurodc/lib/python3.11/site-packages/julearn/prepare.py:505: RuntimeWarning: The following columns are not defined in X_types: ['1', '2', '3', '4', '5', '6', '7', '8', '9', '10', '11', '12', '13', '14', '15', '16', '17', '18', '19', '20', '21', '22', '23', '24', '25', '26', '27', '28', '29', '30', '31', '32', '33', '34', '35', '36', '37', '38', '39', '40', '41', '42', '43', '44', '45', '46', '47', '48', '49', '50', '51', '52', '53', '54', '55', '56', '57', '58', '59', '60', '61', '62', '63', '64', '65', '66', '67', '68', '69', '70', '71', '72', '73', '74', '75', '76', '77', '78', '79', '80', '81', '82', '83', '84', '85', '86', '87', '88', '89', '90', '91', '92', '93', '94', '95', '96', '97', '98', '99', '100', '101', '102', '103', '104', '105', '106', '107', '108', '109', '110', '111', '112', '113', '114', '115', '116', '117', '118', '119', '120', '121', '122', '123', '124', '125', '126', '127', '128', '129', '130', '131', '132', '133', '134', '135', '136', '137', '138', '139', '140', '141', '142', '143', '144', '145', '146', '147', '148', '149', '150', '151', '152', '153', '154', '155', '156', '157', '158', '159', '160', '161', '162', '163', '164', '165', '166', '167', '168', '169', '170', '171', '172', '173', '174', '175', '176', '177', '178', '179', '180', '181', '182', '183', '184', '185', '186', '187', '188', '189', '190', '191', '192', '193', '194', '195', '196', '197', '198', '199', '200', '201', '202', '203', '204', '205', '206', '207', '208', '209', '210', '211', '212', '213', '214', '215', '216', '217', '218', '219', '220', '221', '222', '223', '224', '225', '226', '227', '228', '229', '230', '231', '232', '233', '234', '235', '236', '237', '238', '239', '240', '241', '242', '243', '244', '245', '246', '247', '248', '249', '250', '251', '252', '253', '254', '255', '256', '257', '258', '259', '260', '261', '262', '263', '264', '265', '266', '267', '268', '269', '270', '271', '272', '273', '274', '275', '276', '277', '278', '279', '280', '281', '282', '283', '284', '285', '286', '287', '288', '289', '290', '291', '292', '293', '294', '295', '296', '297', '298', '299', '300', '301', '302', '303', '304', '305', '306', '307', '308', '309', '310', '311', '312', '313', '314', '315', '316', '317', '318', '319', '320', '321', '322', '323', '324', '325', '326', '327', '328', '329', '330', '331', '332', '333', '334', '335', '336', '337', '338', '339', '340', '341', '342', '343', '344', '345', '346', '347', '348', '349', '350', '351', '352', '353', '354', '355', '356', '357', '358', '359', '360', '361', '362', '363', '364', '365', '366', '367', '368']. They will be treated as continuous.\n",
      "  warn_with_log(\n"
     ]
    },
    {
     "name": "stdout",
     "output_type": "stream",
     "text": [
      "2024-06-07 13:41:45,746 - julearn - INFO - ====================\n",
      "2024-06-07 13:41:45,747 - julearn - INFO - \n",
      "2024-06-07 13:41:45,748 - julearn - INFO - = Model Parameters =\n",
      "2024-06-07 13:41:45,749 - julearn - INFO - Tuning hyperparameters using grid\n",
      "2024-06-07 13:41:45,750 - julearn - INFO - Hyperparameters:\n",
      "2024-06-07 13:41:45,751 - julearn - INFO - \trf__n_estimators: [25, 50, 100]\n",
      "2024-06-07 13:41:45,752 - julearn - INFO - \trf__max_depth: [5, 10, 20]\n",
      "2024-06-07 13:41:45,752 - julearn - INFO - Using inner CV scheme KFold(n_splits=5, random_state=None, shuffle=False)\n",
      "2024-06-07 13:41:45,753 - julearn - INFO - Search Parameters:\n",
      "2024-06-07 13:41:45,754 - julearn - INFO - \tcv: KFold(n_splits=5, random_state=None, shuffle=False)\n",
      "2024-06-07 13:41:45,755 - julearn - INFO - ====================\n",
      "2024-06-07 13:41:45,756 - julearn - INFO - \n",
      "2024-06-07 13:41:45,757 - julearn - INFO - = Data Information =\n",
      "2024-06-07 13:41:45,758 - julearn - INFO - \tProblem type: regression\n",
      "2024-06-07 13:41:45,759 - julearn - INFO - \tNumber of samples: 833\n",
      "2024-06-07 13:41:45,760 - julearn - INFO - \tNumber of features: 368\n",
      "2024-06-07 13:41:45,761 - julearn - INFO - ====================\n",
      "2024-06-07 13:41:45,762 - julearn - INFO - \n",
      "2024-06-07 13:41:45,763 - julearn - INFO - \tTarget type: float64\n",
      "2024-06-07 13:41:45,764 - julearn - INFO - Using outer CV scheme RepeatedContinuousStratifiedKFold(method='binning', n_bins=3, n_repeats=10,\n",
      "                 n_splits=3, random_state=42)\n",
      "2024-06-07 14:56:49,278 - julearn - INFO - Fitting final model\n",
      "2024-06-07 15:00:50,500 - julearn - INFO - Inspector requested: setting return_estimator='all'\n",
      "2024-06-07 15:00:50,501 - julearn - INFO - ==== Input Data ====\n",
      "2024-06-07 15:00:50,502 - julearn - INFO - Using dataframe as input\n",
      "2024-06-07 15:00:50,503 - julearn - INFO - \tFeatures: ['1', '2', '3', '4', '5', '6', '7', '8', '9', '10', '11', '12', '13', '14', '15', '16', '17', '18', '19', '20', '21', '22', '23', '24', '25', '26', '27', '28', '29', '30', '31', '32', '33', '34', '35', '36', '37', '38', '39', '40', '41', '42', '43', '44', '45', '46', '47', '48', '49', '50', '51', '52', '53', '54', '55', '56', '57', '58', '59', '60', '61', '62', '63', '64', '65', '66', '67', '68', '69', '70', '71', '72', '73', '74', '75', '76', '77', '78', '79', '80', '81', '82', '83', '84', '85', '86', '87', '88', '89', '90', '91', '92', '93', '94', '95', '96', '97', '98', '99', '100', '101', '102', '103', '104', '105', '106', '107', '108', '109', '110', '111', '112', '113', '114', '115', '116', '117', '118', '119', '120', '121', '122', '123', '124', '125', '126', '127', '128', '129', '130', '131', '132', '133', '134', '135', '136', '137', '138', '139', '140', '141', '142', '143', '144', '145', '146', '147', '148', '149', '150', '151', '152', '153', '154', '155', '156', '157', '158', '159', '160', '161', '162', '163', '164', '165', '166', '167', '168', '169', '170', '171', '172', '173', '174', '175', '176', '177', '178', '179', '180', '181', '182', '183', '184', '185', '186', '187', '188', '189', '190', '191', '192', '193', '194', '195', '196', '197', '198', '199', '200', '201', '202', '203', '204', '205', '206', '207', '208', '209', '210', '211', '212', '213', '214', '215', '216', '217', '218', '219', '220', '221', '222', '223', '224', '225', '226', '227', '228', '229', '230', '231', '232', '233', '234', '235', '236', '237', '238', '239', '240', '241', '242', '243', '244', '245', '246', '247', '248', '249', '250', '251', '252', '253', '254', '255', '256', '257', '258', '259', '260', '261', '262', '263', '264', '265', '266', '267', '268', '269', '270', '271', '272', '273', '274', '275', '276', '277', '278', '279', '280', '281', '282', '283', '284', '285', '286', '287', '288', '289', '290', '291', '292', '293', '294', '295', '296', '297', '298', '299', '300', '301', '302', '303', '304', '305', '306', '307', '308', '309', '310', '311', '312', '313', '314', '315', '316', '317', '318', '319', '320', '321', '322', '323', '324', '325', '326', '327', '328', '329', '330', '331', '332', '333', '334', '335', '336', '337', '338', '339', '340', '341', '342', '343', '344', '345', '346', '347', '348', '349', '350', '351', '352', '353', '354', '355', '356', '357', '358', '359', '360', '361', '362', '363', '364', '365', '366', '367', '368']\n",
      "2024-06-07 15:00:50,504 - julearn - INFO - \tTarget: IST_crystallised\n",
      "2024-06-07 15:00:50,529 - julearn - INFO - \tExpanded features: ['1', '2', '3', '4', '5', '6', '7', '8', '9', '10', '11', '12', '13', '14', '15', '16', '17', '18', '19', '20', '21', '22', '23', '24', '25', '26', '27', '28', '29', '30', '31', '32', '33', '34', '35', '36', '37', '38', '39', '40', '41', '42', '43', '44', '45', '46', '47', '48', '49', '50', '51', '52', '53', '54', '55', '56', '57', '58', '59', '60', '61', '62', '63', '64', '65', '66', '67', '68', '69', '70', '71', '72', '73', '74', '75', '76', '77', '78', '79', '80', '81', '82', '83', '84', '85', '86', '87', '88', '89', '90', '91', '92', '93', '94', '95', '96', '97', '98', '99', '100', '101', '102', '103', '104', '105', '106', '107', '108', '109', '110', '111', '112', '113', '114', '115', '116', '117', '118', '119', '120', '121', '122', '123', '124', '125', '126', '127', '128', '129', '130', '131', '132', '133', '134', '135', '136', '137', '138', '139', '140', '141', '142', '143', '144', '145', '146', '147', '148', '149', '150', '151', '152', '153', '154', '155', '156', '157', '158', '159', '160', '161', '162', '163', '164', '165', '166', '167', '168', '169', '170', '171', '172', '173', '174', '175', '176', '177', '178', '179', '180', '181', '182', '183', '184', '185', '186', '187', '188', '189', '190', '191', '192', '193', '194', '195', '196', '197', '198', '199', '200', '201', '202', '203', '204', '205', '206', '207', '208', '209', '210', '211', '212', '213', '214', '215', '216', '217', '218', '219', '220', '221', '222', '223', '224', '225', '226', '227', '228', '229', '230', '231', '232', '233', '234', '235', '236', '237', '238', '239', '240', '241', '242', '243', '244', '245', '246', '247', '248', '249', '250', '251', '252', '253', '254', '255', '256', '257', '258', '259', '260', '261', '262', '263', '264', '265', '266', '267', '268', '269', '270', '271', '272', '273', '274', '275', '276', '277', '278', '279', '280', '281', '282', '283', '284', '285', '286', '287', '288', '289', '290', '291', '292', '293', '294', '295', '296', '297', '298', '299', '300', '301', '302', '303', '304', '305', '306', '307', '308', '309', '310', '311', '312', '313', '314', '315', '316', '317', '318', '319', '320', '321', '322', '323', '324', '325', '326', '327', '328', '329', '330', '331', '332', '333', '334', '335', '336', '337', '338', '339', '340', '341', '342', '343', '344', '345', '346', '347', '348', '349', '350', '351', '352', '353', '354', '355', '356', '357', '358', '359', '360', '361', '362', '363', '364', '365', '366', '367', '368']\n",
      "2024-06-07 15:00:50,530 - julearn - INFO - \tX_types:{}\n",
      "2024-06-07 15:00:50,530 - julearn - WARNING - The following columns are not defined in X_types: ['1', '2', '3', '4', '5', '6', '7', '8', '9', '10', '11', '12', '13', '14', '15', '16', '17', '18', '19', '20', '21', '22', '23', '24', '25', '26', '27', '28', '29', '30', '31', '32', '33', '34', '35', '36', '37', '38', '39', '40', '41', '42', '43', '44', '45', '46', '47', '48', '49', '50', '51', '52', '53', '54', '55', '56', '57', '58', '59', '60', '61', '62', '63', '64', '65', '66', '67', '68', '69', '70', '71', '72', '73', '74', '75', '76', '77', '78', '79', '80', '81', '82', '83', '84', '85', '86', '87', '88', '89', '90', '91', '92', '93', '94', '95', '96', '97', '98', '99', '100', '101', '102', '103', '104', '105', '106', '107', '108', '109', '110', '111', '112', '113', '114', '115', '116', '117', '118', '119', '120', '121', '122', '123', '124', '125', '126', '127', '128', '129', '130', '131', '132', '133', '134', '135', '136', '137', '138', '139', '140', '141', '142', '143', '144', '145', '146', '147', '148', '149', '150', '151', '152', '153', '154', '155', '156', '157', '158', '159', '160', '161', '162', '163', '164', '165', '166', '167', '168', '169', '170', '171', '172', '173', '174', '175', '176', '177', '178', '179', '180', '181', '182', '183', '184', '185', '186', '187', '188', '189', '190', '191', '192', '193', '194', '195', '196', '197', '198', '199', '200', '201', '202', '203', '204', '205', '206', '207', '208', '209', '210', '211', '212', '213', '214', '215', '216', '217', '218', '219', '220', '221', '222', '223', '224', '225', '226', '227', '228', '229', '230', '231', '232', '233', '234', '235', '236', '237', '238', '239', '240', '241', '242', '243', '244', '245', '246', '247', '248', '249', '250', '251', '252', '253', '254', '255', '256', '257', '258', '259', '260', '261', '262', '263', '264', '265', '266', '267', '268', '269', '270', '271', '272', '273', '274', '275', '276', '277', '278', '279', '280', '281', '282', '283', '284', '285', '286', '287', '288', '289', '290', '291', '292', '293', '294', '295', '296', '297', '298', '299', '300', '301', '302', '303', '304', '305', '306', '307', '308', '309', '310', '311', '312', '313', '314', '315', '316', '317', '318', '319', '320', '321', '322', '323', '324', '325', '326', '327', '328', '329', '330', '331', '332', '333', '334', '335', '336', '337', '338', '339', '340', '341', '342', '343', '344', '345', '346', '347', '348', '349', '350', '351', '352', '353', '354', '355', '356', '357', '358', '359', '360', '361', '362', '363', '364', '365', '366', '367', '368']. They will be treated as continuous.\n"
     ]
    },
    {
     "name": "stderr",
     "output_type": "stream",
     "text": [
      "/home/lucas/miniconda3/envs/neurodc/lib/python3.11/site-packages/julearn/prepare.py:505: RuntimeWarning: The following columns are not defined in X_types: ['1', '2', '3', '4', '5', '6', '7', '8', '9', '10', '11', '12', '13', '14', '15', '16', '17', '18', '19', '20', '21', '22', '23', '24', '25', '26', '27', '28', '29', '30', '31', '32', '33', '34', '35', '36', '37', '38', '39', '40', '41', '42', '43', '44', '45', '46', '47', '48', '49', '50', '51', '52', '53', '54', '55', '56', '57', '58', '59', '60', '61', '62', '63', '64', '65', '66', '67', '68', '69', '70', '71', '72', '73', '74', '75', '76', '77', '78', '79', '80', '81', '82', '83', '84', '85', '86', '87', '88', '89', '90', '91', '92', '93', '94', '95', '96', '97', '98', '99', '100', '101', '102', '103', '104', '105', '106', '107', '108', '109', '110', '111', '112', '113', '114', '115', '116', '117', '118', '119', '120', '121', '122', '123', '124', '125', '126', '127', '128', '129', '130', '131', '132', '133', '134', '135', '136', '137', '138', '139', '140', '141', '142', '143', '144', '145', '146', '147', '148', '149', '150', '151', '152', '153', '154', '155', '156', '157', '158', '159', '160', '161', '162', '163', '164', '165', '166', '167', '168', '169', '170', '171', '172', '173', '174', '175', '176', '177', '178', '179', '180', '181', '182', '183', '184', '185', '186', '187', '188', '189', '190', '191', '192', '193', '194', '195', '196', '197', '198', '199', '200', '201', '202', '203', '204', '205', '206', '207', '208', '209', '210', '211', '212', '213', '214', '215', '216', '217', '218', '219', '220', '221', '222', '223', '224', '225', '226', '227', '228', '229', '230', '231', '232', '233', '234', '235', '236', '237', '238', '239', '240', '241', '242', '243', '244', '245', '246', '247', '248', '249', '250', '251', '252', '253', '254', '255', '256', '257', '258', '259', '260', '261', '262', '263', '264', '265', '266', '267', '268', '269', '270', '271', '272', '273', '274', '275', '276', '277', '278', '279', '280', '281', '282', '283', '284', '285', '286', '287', '288', '289', '290', '291', '292', '293', '294', '295', '296', '297', '298', '299', '300', '301', '302', '303', '304', '305', '306', '307', '308', '309', '310', '311', '312', '313', '314', '315', '316', '317', '318', '319', '320', '321', '322', '323', '324', '325', '326', '327', '328', '329', '330', '331', '332', '333', '334', '335', '336', '337', '338', '339', '340', '341', '342', '343', '344', '345', '346', '347', '348', '349', '350', '351', '352', '353', '354', '355', '356', '357', '358', '359', '360', '361', '362', '363', '364', '365', '366', '367', '368']. They will be treated as continuous.\n",
      "  warn_with_log(\n"
     ]
    },
    {
     "name": "stdout",
     "output_type": "stream",
     "text": [
      "2024-06-07 15:00:50,533 - julearn - INFO - ====================\n",
      "2024-06-07 15:00:50,534 - julearn - INFO - \n",
      "2024-06-07 15:00:50,535 - julearn - INFO - = Model Parameters =\n",
      "2024-06-07 15:00:50,536 - julearn - INFO - Tuning hyperparameters using grid\n",
      "2024-06-07 15:00:50,537 - julearn - INFO - Hyperparameters:\n",
      "2024-06-07 15:00:50,538 - julearn - INFO - \tgradientboost__n_estimators: [25, 50, 100]\n",
      "2024-06-07 15:00:50,538 - julearn - INFO - \tgradientboost__max_depth: [3, 5, 10]\n",
      "2024-06-07 15:00:50,539 - julearn - INFO - Using inner CV scheme KFold(n_splits=5, random_state=None, shuffle=False)\n",
      "2024-06-07 15:00:50,540 - julearn - INFO - Search Parameters:\n",
      "2024-06-07 15:00:50,541 - julearn - INFO - \tcv: KFold(n_splits=5, random_state=None, shuffle=False)\n",
      "2024-06-07 15:00:50,542 - julearn - INFO - ====================\n",
      "2024-06-07 15:00:50,543 - julearn - INFO - \n",
      "2024-06-07 15:00:50,544 - julearn - INFO - = Data Information =\n",
      "2024-06-07 15:00:50,544 - julearn - INFO - \tProblem type: regression\n",
      "2024-06-07 15:00:50,545 - julearn - INFO - \tNumber of samples: 833\n",
      "2024-06-07 15:00:50,546 - julearn - INFO - \tNumber of features: 368\n",
      "2024-06-07 15:00:50,547 - julearn - INFO - ====================\n",
      "2024-06-07 15:00:50,548 - julearn - INFO - \n",
      "2024-06-07 15:00:50,549 - julearn - INFO - \tTarget type: float64\n",
      "2024-06-07 15:00:50,550 - julearn - INFO - Using outer CV scheme RepeatedContinuousStratifiedKFold(method='binning', n_bins=3, n_repeats=10,\n",
      "                 n_splits=3, random_state=42)\n",
      "2024-06-07 16:28:21,375 - julearn - INFO - Fitting final model\n",
      "2024-06-07 16:32:55,762 - julearn - INFO - Inspector requested: setting return_estimator='all'\n",
      "2024-06-07 16:32:55,763 - julearn - INFO - ==== Input Data ====\n",
      "2024-06-07 16:32:55,763 - julearn - INFO - Using dataframe as input\n",
      "2024-06-07 16:32:55,764 - julearn - INFO - \tFeatures: ['1', '2', '3', '4', '5', '6', '7', '8', '9', '10', '11', '12', '13', '14', '15', '16', '17', '18', '19', '20', '21', '22', '23', '24', '25', '26', '27', '28', '29', '30', '31', '32', '33', '34', '35', '36', '37', '38', '39', '40', '41', '42', '43', '44', '45', '46', '47', '48', '49', '50', '51', '52', '53', '54', '55', '56', '57', '58', '59', '60', '61', '62', '63', '64', '65', '66', '67', '68', '69', '70', '71', '72', '73', '74', '75', '76', '77', '78', '79', '80', '81', '82', '83', '84', '85', '86', '87', '88', '89', '90', '91', '92', '93', '94', '95', '96', '97', '98', '99', '100', '101', '102', '103', '104', '105', '106', '107', '108', '109', '110', '111', '112', '113', '114', '115', '116', '117', '118', '119', '120', '121', '122', '123', '124', '125', '126', '127', '128', '129', '130', '131', '132', '133', '134', '135', '136', '137', '138', '139', '140', '141', '142', '143', '144', '145', '146', '147', '148', '149', '150', '151', '152', '153', '154', '155', '156', '157', '158', '159', '160', '161', '162', '163', '164', '165', '166', '167', '168', '169', '170', '171', '172', '173', '174', '175', '176', '177', '178', '179', '180', '181', '182', '183', '184', '185', '186', '187', '188', '189', '190', '191', '192', '193', '194', '195', '196', '197', '198', '199', '200', '201', '202', '203', '204', '205', '206', '207', '208', '209', '210', '211', '212', '213', '214', '215', '216', '217', '218', '219', '220', '221', '222', '223', '224', '225', '226', '227', '228', '229', '230', '231', '232', '233', '234', '235', '236', '237', '238', '239', '240', '241', '242', '243', '244', '245', '246', '247', '248', '249', '250', '251', '252', '253', '254', '255', '256', '257', '258', '259', '260', '261', '262', '263', '264', '265', '266', '267', '268', '269', '270', '271', '272', '273', '274', '275', '276', '277', '278', '279', '280', '281', '282', '283', '284', '285', '286', '287', '288', '289', '290', '291', '292', '293', '294', '295', '296', '297', '298', '299', '300', '301', '302', '303', '304', '305', '306', '307', '308', '309', '310', '311', '312', '313', '314', '315', '316', '317', '318', '319', '320', '321', '322', '323', '324', '325', '326', '327', '328', '329', '330', '331', '332', '333', '334', '335', '336', '337', '338', '339', '340', '341', '342', '343', '344', '345', '346', '347', '348', '349', '350', '351', '352', '353', '354', '355', '356', '357', '358', '359', '360', '361', '362', '363', '364', '365', '366', '367', '368']\n",
      "2024-06-07 16:32:55,765 - julearn - INFO - \tTarget: IST_crystallised\n",
      "2024-06-07 16:32:55,790 - julearn - INFO - \tExpanded features: ['1', '2', '3', '4', '5', '6', '7', '8', '9', '10', '11', '12', '13', '14', '15', '16', '17', '18', '19', '20', '21', '22', '23', '24', '25', '26', '27', '28', '29', '30', '31', '32', '33', '34', '35', '36', '37', '38', '39', '40', '41', '42', '43', '44', '45', '46', '47', '48', '49', '50', '51', '52', '53', '54', '55', '56', '57', '58', '59', '60', '61', '62', '63', '64', '65', '66', '67', '68', '69', '70', '71', '72', '73', '74', '75', '76', '77', '78', '79', '80', '81', '82', '83', '84', '85', '86', '87', '88', '89', '90', '91', '92', '93', '94', '95', '96', '97', '98', '99', '100', '101', '102', '103', '104', '105', '106', '107', '108', '109', '110', '111', '112', '113', '114', '115', '116', '117', '118', '119', '120', '121', '122', '123', '124', '125', '126', '127', '128', '129', '130', '131', '132', '133', '134', '135', '136', '137', '138', '139', '140', '141', '142', '143', '144', '145', '146', '147', '148', '149', '150', '151', '152', '153', '154', '155', '156', '157', '158', '159', '160', '161', '162', '163', '164', '165', '166', '167', '168', '169', '170', '171', '172', '173', '174', '175', '176', '177', '178', '179', '180', '181', '182', '183', '184', '185', '186', '187', '188', '189', '190', '191', '192', '193', '194', '195', '196', '197', '198', '199', '200', '201', '202', '203', '204', '205', '206', '207', '208', '209', '210', '211', '212', '213', '214', '215', '216', '217', '218', '219', '220', '221', '222', '223', '224', '225', '226', '227', '228', '229', '230', '231', '232', '233', '234', '235', '236', '237', '238', '239', '240', '241', '242', '243', '244', '245', '246', '247', '248', '249', '250', '251', '252', '253', '254', '255', '256', '257', '258', '259', '260', '261', '262', '263', '264', '265', '266', '267', '268', '269', '270', '271', '272', '273', '274', '275', '276', '277', '278', '279', '280', '281', '282', '283', '284', '285', '286', '287', '288', '289', '290', '291', '292', '293', '294', '295', '296', '297', '298', '299', '300', '301', '302', '303', '304', '305', '306', '307', '308', '309', '310', '311', '312', '313', '314', '315', '316', '317', '318', '319', '320', '321', '322', '323', '324', '325', '326', '327', '328', '329', '330', '331', '332', '333', '334', '335', '336', '337', '338', '339', '340', '341', '342', '343', '344', '345', '346', '347', '348', '349', '350', '351', '352', '353', '354', '355', '356', '357', '358', '359', '360', '361', '362', '363', '364', '365', '366', '367', '368']\n",
      "2024-06-07 16:32:55,791 - julearn - INFO - \tX_types:{}\n",
      "2024-06-07 16:32:55,792 - julearn - WARNING - The following columns are not defined in X_types: ['1', '2', '3', '4', '5', '6', '7', '8', '9', '10', '11', '12', '13', '14', '15', '16', '17', '18', '19', '20', '21', '22', '23', '24', '25', '26', '27', '28', '29', '30', '31', '32', '33', '34', '35', '36', '37', '38', '39', '40', '41', '42', '43', '44', '45', '46', '47', '48', '49', '50', '51', '52', '53', '54', '55', '56', '57', '58', '59', '60', '61', '62', '63', '64', '65', '66', '67', '68', '69', '70', '71', '72', '73', '74', '75', '76', '77', '78', '79', '80', '81', '82', '83', '84', '85', '86', '87', '88', '89', '90', '91', '92', '93', '94', '95', '96', '97', '98', '99', '100', '101', '102', '103', '104', '105', '106', '107', '108', '109', '110', '111', '112', '113', '114', '115', '116', '117', '118', '119', '120', '121', '122', '123', '124', '125', '126', '127', '128', '129', '130', '131', '132', '133', '134', '135', '136', '137', '138', '139', '140', '141', '142', '143', '144', '145', '146', '147', '148', '149', '150', '151', '152', '153', '154', '155', '156', '157', '158', '159', '160', '161', '162', '163', '164', '165', '166', '167', '168', '169', '170', '171', '172', '173', '174', '175', '176', '177', '178', '179', '180', '181', '182', '183', '184', '185', '186', '187', '188', '189', '190', '191', '192', '193', '194', '195', '196', '197', '198', '199', '200', '201', '202', '203', '204', '205', '206', '207', '208', '209', '210', '211', '212', '213', '214', '215', '216', '217', '218', '219', '220', '221', '222', '223', '224', '225', '226', '227', '228', '229', '230', '231', '232', '233', '234', '235', '236', '237', '238', '239', '240', '241', '242', '243', '244', '245', '246', '247', '248', '249', '250', '251', '252', '253', '254', '255', '256', '257', '258', '259', '260', '261', '262', '263', '264', '265', '266', '267', '268', '269', '270', '271', '272', '273', '274', '275', '276', '277', '278', '279', '280', '281', '282', '283', '284', '285', '286', '287', '288', '289', '290', '291', '292', '293', '294', '295', '296', '297', '298', '299', '300', '301', '302', '303', '304', '305', '306', '307', '308', '309', '310', '311', '312', '313', '314', '315', '316', '317', '318', '319', '320', '321', '322', '323', '324', '325', '326', '327', '328', '329', '330', '331', '332', '333', '334', '335', '336', '337', '338', '339', '340', '341', '342', '343', '344', '345', '346', '347', '348', '349', '350', '351', '352', '353', '354', '355', '356', '357', '358', '359', '360', '361', '362', '363', '364', '365', '366', '367', '368']. They will be treated as continuous.\n"
     ]
    },
    {
     "name": "stderr",
     "output_type": "stream",
     "text": [
      "/home/lucas/miniconda3/envs/neurodc/lib/python3.11/site-packages/julearn/prepare.py:505: RuntimeWarning: The following columns are not defined in X_types: ['1', '2', '3', '4', '5', '6', '7', '8', '9', '10', '11', '12', '13', '14', '15', '16', '17', '18', '19', '20', '21', '22', '23', '24', '25', '26', '27', '28', '29', '30', '31', '32', '33', '34', '35', '36', '37', '38', '39', '40', '41', '42', '43', '44', '45', '46', '47', '48', '49', '50', '51', '52', '53', '54', '55', '56', '57', '58', '59', '60', '61', '62', '63', '64', '65', '66', '67', '68', '69', '70', '71', '72', '73', '74', '75', '76', '77', '78', '79', '80', '81', '82', '83', '84', '85', '86', '87', '88', '89', '90', '91', '92', '93', '94', '95', '96', '97', '98', '99', '100', '101', '102', '103', '104', '105', '106', '107', '108', '109', '110', '111', '112', '113', '114', '115', '116', '117', '118', '119', '120', '121', '122', '123', '124', '125', '126', '127', '128', '129', '130', '131', '132', '133', '134', '135', '136', '137', '138', '139', '140', '141', '142', '143', '144', '145', '146', '147', '148', '149', '150', '151', '152', '153', '154', '155', '156', '157', '158', '159', '160', '161', '162', '163', '164', '165', '166', '167', '168', '169', '170', '171', '172', '173', '174', '175', '176', '177', '178', '179', '180', '181', '182', '183', '184', '185', '186', '187', '188', '189', '190', '191', '192', '193', '194', '195', '196', '197', '198', '199', '200', '201', '202', '203', '204', '205', '206', '207', '208', '209', '210', '211', '212', '213', '214', '215', '216', '217', '218', '219', '220', '221', '222', '223', '224', '225', '226', '227', '228', '229', '230', '231', '232', '233', '234', '235', '236', '237', '238', '239', '240', '241', '242', '243', '244', '245', '246', '247', '248', '249', '250', '251', '252', '253', '254', '255', '256', '257', '258', '259', '260', '261', '262', '263', '264', '265', '266', '267', '268', '269', '270', '271', '272', '273', '274', '275', '276', '277', '278', '279', '280', '281', '282', '283', '284', '285', '286', '287', '288', '289', '290', '291', '292', '293', '294', '295', '296', '297', '298', '299', '300', '301', '302', '303', '304', '305', '306', '307', '308', '309', '310', '311', '312', '313', '314', '315', '316', '317', '318', '319', '320', '321', '322', '323', '324', '325', '326', '327', '328', '329', '330', '331', '332', '333', '334', '335', '336', '337', '338', '339', '340', '341', '342', '343', '344', '345', '346', '347', '348', '349', '350', '351', '352', '353', '354', '355', '356', '357', '358', '359', '360', '361', '362', '363', '364', '365', '366', '367', '368']. They will be treated as continuous.\n",
      "  warn_with_log(\n"
     ]
    },
    {
     "name": "stdout",
     "output_type": "stream",
     "text": [
      "2024-06-07 16:32:55,794 - julearn - INFO - ====================\n",
      "2024-06-07 16:32:55,795 - julearn - INFO - \n",
      "2024-06-07 16:32:55,796 - julearn - INFO - = Model Parameters =\n",
      "2024-06-07 16:32:55,797 - julearn - INFO - ====================\n",
      "2024-06-07 16:32:55,798 - julearn - INFO - \n",
      "2024-06-07 16:32:55,799 - julearn - INFO - = Data Information =\n",
      "2024-06-07 16:32:55,799 - julearn - INFO - \tProblem type: regression\n",
      "2024-06-07 16:32:55,800 - julearn - INFO - \tNumber of samples: 833\n",
      "2024-06-07 16:32:55,801 - julearn - INFO - \tNumber of features: 368\n",
      "2024-06-07 16:32:55,802 - julearn - INFO - ====================\n",
      "2024-06-07 16:32:55,802 - julearn - INFO - \n",
      "2024-06-07 16:32:55,803 - julearn - INFO - \tTarget type: float64\n",
      "2024-06-07 16:32:55,804 - julearn - INFO - Using outer CV scheme RepeatedContinuousStratifiedKFold(method='binning', n_bins=3, n_repeats=10,\n",
      "                 n_splits=3, random_state=42)\n",
      "2024-06-07 16:32:56,150 - julearn - INFO - Fitting final model\n",
      "2024-06-07 16:32:56,157 - julearn - INFO - Inspector requested: setting return_estimator='all'\n",
      "2024-06-07 16:32:56,158 - julearn - INFO - ==== Input Data ====\n",
      "2024-06-07 16:32:56,159 - julearn - INFO - Using dataframe as input\n",
      "2024-06-07 16:32:56,160 - julearn - INFO - \tFeatures: ['1', '2', '3', '4', '5', '6', '7', '8', '9', '10', '11', '12', '13', '14', '15', '16', '17', '18', '19', '20', '21', '22', '23', '24', '25', '26', '27', '28', '29', '30', '31', '32', '33', '34', '35', '36', '37', '38', '39', '40', '41', '42', '43', '44', '45', '46', '47', '48', '49', '50', '51', '52', '53', '54', '55', '56', '57', '58', '59', '60', '61', '62', '63', '64', '65', '66', '67', '68', '69', '70', '71', '72', '73', '74', '75', '76', '77', '78', '79', '80', '81', '82', '83', '84', '85', '86', '87', '88', '89', '90', '91', '92', '93', '94', '95', '96', '97', '98', '99', '100', '101', '102', '103', '104', '105', '106', '107', '108', '109', '110', '111', '112', '113', '114', '115', '116', '117', '118', '119', '120', '121', '122', '123', '124', '125', '126', '127', '128', '129', '130', '131', '132', '133', '134', '135', '136', '137', '138', '139', '140', '141', '142', '143', '144', '145', '146', '147', '148', '149', '150', '151', '152', '153', '154', '155', '156', '157', '158', '159', '160', '161', '162', '163', '164', '165', '166', '167', '168', '169', '170', '171', '172', '173', '174', '175', '176', '177', '178', '179', '180', '181', '182', '183', '184', '185', '186', '187', '188', '189', '190', '191', '192', '193', '194', '195', '196', '197', '198', '199', '200', '201', '202', '203', '204', '205', '206', '207', '208', '209', '210', '211', '212', '213', '214', '215', '216', '217', '218', '219', '220', '221', '222', '223', '224', '225', '226', '227', '228', '229', '230', '231', '232', '233', '234', '235', '236', '237', '238', '239', '240', '241', '242', '243', '244', '245', '246', '247', '248', '249', '250', '251', '252', '253', '254', '255', '256', '257', '258', '259', '260', '261', '262', '263', '264', '265', '266', '267', '268', '269', '270', '271', '272', '273', '274', '275', '276', '277', '278', '279', '280', '281', '282', '283', '284', '285', '286', '287', '288', '289', '290', '291', '292', '293', '294', '295', '296', '297', '298', '299', '300', '301', '302', '303', '304', '305', '306', '307', '308', '309', '310', '311', '312', '313', '314', '315', '316', '317', '318', '319', '320', '321', '322', '323', '324', '325', '326', '327', '328', '329', '330', '331', '332', '333', '334', '335', '336', '337', '338', '339', '340', '341', '342', '343', '344', '345', '346', '347', '348', '349', '350', '351', '352', '353', '354', '355', '356', '357', '358', '359', '360', '361', '362', '363', '364', '365', '366', '367', '368']\n",
      "2024-06-07 16:32:56,161 - julearn - INFO - \tTarget: IST_memory\n",
      "2024-06-07 16:32:56,185 - julearn - INFO - \tExpanded features: ['1', '2', '3', '4', '5', '6', '7', '8', '9', '10', '11', '12', '13', '14', '15', '16', '17', '18', '19', '20', '21', '22', '23', '24', '25', '26', '27', '28', '29', '30', '31', '32', '33', '34', '35', '36', '37', '38', '39', '40', '41', '42', '43', '44', '45', '46', '47', '48', '49', '50', '51', '52', '53', '54', '55', '56', '57', '58', '59', '60', '61', '62', '63', '64', '65', '66', '67', '68', '69', '70', '71', '72', '73', '74', '75', '76', '77', '78', '79', '80', '81', '82', '83', '84', '85', '86', '87', '88', '89', '90', '91', '92', '93', '94', '95', '96', '97', '98', '99', '100', '101', '102', '103', '104', '105', '106', '107', '108', '109', '110', '111', '112', '113', '114', '115', '116', '117', '118', '119', '120', '121', '122', '123', '124', '125', '126', '127', '128', '129', '130', '131', '132', '133', '134', '135', '136', '137', '138', '139', '140', '141', '142', '143', '144', '145', '146', '147', '148', '149', '150', '151', '152', '153', '154', '155', '156', '157', '158', '159', '160', '161', '162', '163', '164', '165', '166', '167', '168', '169', '170', '171', '172', '173', '174', '175', '176', '177', '178', '179', '180', '181', '182', '183', '184', '185', '186', '187', '188', '189', '190', '191', '192', '193', '194', '195', '196', '197', '198', '199', '200', '201', '202', '203', '204', '205', '206', '207', '208', '209', '210', '211', '212', '213', '214', '215', '216', '217', '218', '219', '220', '221', '222', '223', '224', '225', '226', '227', '228', '229', '230', '231', '232', '233', '234', '235', '236', '237', '238', '239', '240', '241', '242', '243', '244', '245', '246', '247', '248', '249', '250', '251', '252', '253', '254', '255', '256', '257', '258', '259', '260', '261', '262', '263', '264', '265', '266', '267', '268', '269', '270', '271', '272', '273', '274', '275', '276', '277', '278', '279', '280', '281', '282', '283', '284', '285', '286', '287', '288', '289', '290', '291', '292', '293', '294', '295', '296', '297', '298', '299', '300', '301', '302', '303', '304', '305', '306', '307', '308', '309', '310', '311', '312', '313', '314', '315', '316', '317', '318', '319', '320', '321', '322', '323', '324', '325', '326', '327', '328', '329', '330', '331', '332', '333', '334', '335', '336', '337', '338', '339', '340', '341', '342', '343', '344', '345', '346', '347', '348', '349', '350', '351', '352', '353', '354', '355', '356', '357', '358', '359', '360', '361', '362', '363', '364', '365', '366', '367', '368']\n",
      "2024-06-07 16:32:56,186 - julearn - INFO - \tX_types:{}\n",
      "2024-06-07 16:32:56,187 - julearn - WARNING - The following columns are not defined in X_types: ['1', '2', '3', '4', '5', '6', '7', '8', '9', '10', '11', '12', '13', '14', '15', '16', '17', '18', '19', '20', '21', '22', '23', '24', '25', '26', '27', '28', '29', '30', '31', '32', '33', '34', '35', '36', '37', '38', '39', '40', '41', '42', '43', '44', '45', '46', '47', '48', '49', '50', '51', '52', '53', '54', '55', '56', '57', '58', '59', '60', '61', '62', '63', '64', '65', '66', '67', '68', '69', '70', '71', '72', '73', '74', '75', '76', '77', '78', '79', '80', '81', '82', '83', '84', '85', '86', '87', '88', '89', '90', '91', '92', '93', '94', '95', '96', '97', '98', '99', '100', '101', '102', '103', '104', '105', '106', '107', '108', '109', '110', '111', '112', '113', '114', '115', '116', '117', '118', '119', '120', '121', '122', '123', '124', '125', '126', '127', '128', '129', '130', '131', '132', '133', '134', '135', '136', '137', '138', '139', '140', '141', '142', '143', '144', '145', '146', '147', '148', '149', '150', '151', '152', '153', '154', '155', '156', '157', '158', '159', '160', '161', '162', '163', '164', '165', '166', '167', '168', '169', '170', '171', '172', '173', '174', '175', '176', '177', '178', '179', '180', '181', '182', '183', '184', '185', '186', '187', '188', '189', '190', '191', '192', '193', '194', '195', '196', '197', '198', '199', '200', '201', '202', '203', '204', '205', '206', '207', '208', '209', '210', '211', '212', '213', '214', '215', '216', '217', '218', '219', '220', '221', '222', '223', '224', '225', '226', '227', '228', '229', '230', '231', '232', '233', '234', '235', '236', '237', '238', '239', '240', '241', '242', '243', '244', '245', '246', '247', '248', '249', '250', '251', '252', '253', '254', '255', '256', '257', '258', '259', '260', '261', '262', '263', '264', '265', '266', '267', '268', '269', '270', '271', '272', '273', '274', '275', '276', '277', '278', '279', '280', '281', '282', '283', '284', '285', '286', '287', '288', '289', '290', '291', '292', '293', '294', '295', '296', '297', '298', '299', '300', '301', '302', '303', '304', '305', '306', '307', '308', '309', '310', '311', '312', '313', '314', '315', '316', '317', '318', '319', '320', '321', '322', '323', '324', '325', '326', '327', '328', '329', '330', '331', '332', '333', '334', '335', '336', '337', '338', '339', '340', '341', '342', '343', '344', '345', '346', '347', '348', '349', '350', '351', '352', '353', '354', '355', '356', '357', '358', '359', '360', '361', '362', '363', '364', '365', '366', '367', '368']. They will be treated as continuous.\n"
     ]
    },
    {
     "name": "stderr",
     "output_type": "stream",
     "text": [
      "/home/lucas/miniconda3/envs/neurodc/lib/python3.11/site-packages/julearn/prepare.py:505: RuntimeWarning: The following columns are not defined in X_types: ['1', '2', '3', '4', '5', '6', '7', '8', '9', '10', '11', '12', '13', '14', '15', '16', '17', '18', '19', '20', '21', '22', '23', '24', '25', '26', '27', '28', '29', '30', '31', '32', '33', '34', '35', '36', '37', '38', '39', '40', '41', '42', '43', '44', '45', '46', '47', '48', '49', '50', '51', '52', '53', '54', '55', '56', '57', '58', '59', '60', '61', '62', '63', '64', '65', '66', '67', '68', '69', '70', '71', '72', '73', '74', '75', '76', '77', '78', '79', '80', '81', '82', '83', '84', '85', '86', '87', '88', '89', '90', '91', '92', '93', '94', '95', '96', '97', '98', '99', '100', '101', '102', '103', '104', '105', '106', '107', '108', '109', '110', '111', '112', '113', '114', '115', '116', '117', '118', '119', '120', '121', '122', '123', '124', '125', '126', '127', '128', '129', '130', '131', '132', '133', '134', '135', '136', '137', '138', '139', '140', '141', '142', '143', '144', '145', '146', '147', '148', '149', '150', '151', '152', '153', '154', '155', '156', '157', '158', '159', '160', '161', '162', '163', '164', '165', '166', '167', '168', '169', '170', '171', '172', '173', '174', '175', '176', '177', '178', '179', '180', '181', '182', '183', '184', '185', '186', '187', '188', '189', '190', '191', '192', '193', '194', '195', '196', '197', '198', '199', '200', '201', '202', '203', '204', '205', '206', '207', '208', '209', '210', '211', '212', '213', '214', '215', '216', '217', '218', '219', '220', '221', '222', '223', '224', '225', '226', '227', '228', '229', '230', '231', '232', '233', '234', '235', '236', '237', '238', '239', '240', '241', '242', '243', '244', '245', '246', '247', '248', '249', '250', '251', '252', '253', '254', '255', '256', '257', '258', '259', '260', '261', '262', '263', '264', '265', '266', '267', '268', '269', '270', '271', '272', '273', '274', '275', '276', '277', '278', '279', '280', '281', '282', '283', '284', '285', '286', '287', '288', '289', '290', '291', '292', '293', '294', '295', '296', '297', '298', '299', '300', '301', '302', '303', '304', '305', '306', '307', '308', '309', '310', '311', '312', '313', '314', '315', '316', '317', '318', '319', '320', '321', '322', '323', '324', '325', '326', '327', '328', '329', '330', '331', '332', '333', '334', '335', '336', '337', '338', '339', '340', '341', '342', '343', '344', '345', '346', '347', '348', '349', '350', '351', '352', '353', '354', '355', '356', '357', '358', '359', '360', '361', '362', '363', '364', '365', '366', '367', '368']. They will be treated as continuous.\n",
      "  warn_with_log(\n"
     ]
    },
    {
     "name": "stdout",
     "output_type": "stream",
     "text": [
      "2024-06-07 16:32:56,189 - julearn - INFO - ====================\n",
      "2024-06-07 16:32:56,190 - julearn - INFO - \n",
      "2024-06-07 16:32:56,191 - julearn - INFO - = Model Parameters =\n",
      "2024-06-07 16:32:56,192 - julearn - INFO - Tuning hyperparameters using bayes\n",
      "2024-06-07 16:32:56,193 - julearn - INFO - Hyperparameters:\n",
      "2024-06-07 16:32:56,193 - julearn - INFO - \tsvm__C: (1e-06, 1, 'log-uniform')\n",
      "2024-06-07 16:32:56,194 - julearn - INFO - \tsvm__epsilon: (0.01, 3, 'log-uniform')\n",
      "2024-06-07 16:32:56,195 - julearn - INFO - Hyperparameter svm__C as is (1e-06, 1, 'log-uniform')\n",
      "2024-06-07 16:32:56,196 - julearn - INFO - Hyperparameter svm__epsilon as is (0.01, 3, 'log-uniform')\n",
      "2024-06-07 16:32:56,197 - julearn - INFO - Using inner CV scheme KFold(n_splits=5, random_state=None, shuffle=False)\n",
      "2024-06-07 16:32:56,197 - julearn - INFO - Search Parameters:\n",
      "2024-06-07 16:32:56,198 - julearn - INFO - \tn_iter: 50\n",
      "2024-06-07 16:32:56,199 - julearn - INFO - \tcv: KFold(n_splits=5, random_state=None, shuffle=False)\n",
      "2024-06-07 16:32:56,202 - julearn - INFO - ====================\n",
      "2024-06-07 16:32:56,203 - julearn - INFO - \n",
      "2024-06-07 16:32:56,204 - julearn - INFO - = Model Parameters =\n",
      "2024-06-07 16:32:56,204 - julearn - INFO - Tuning hyperparameters using bayes\n",
      "2024-06-07 16:32:56,205 - julearn - INFO - Hyperparameters:\n",
      "2024-06-07 16:32:56,206 - julearn - INFO - \tsvm__kernel: ['rbf', 'sigmoid']\n",
      "2024-06-07 16:32:56,207 - julearn - INFO - \tsvm__C: (1e-06, 1, 'log-uniform')\n",
      "2024-06-07 16:32:56,208 - julearn - INFO - \tsvm__gamma: [1e-05, 0.0001, 0.001, 0.01, 'scale', 'auto']\n",
      "2024-06-07 16:32:56,208 - julearn - INFO - \tsvm__epsilon: (0.01, 3, 'log-uniform')\n",
      "2024-06-07 16:32:56,209 - julearn - INFO - Hyperparameter svm__kernel as is ['rbf', 'sigmoid']\n",
      "2024-06-07 16:32:56,210 - julearn - INFO - Hyperparameter svm__C as is (1e-06, 1, 'log-uniform')\n",
      "2024-06-07 16:32:56,211 - julearn - INFO - Hyperparameter svm__gamma as is [1e-05, 0.0001, 0.001, 0.01, 'scale', 'auto']\n",
      "2024-06-07 16:32:56,212 - julearn - INFO - Hyperparameter svm__epsilon as is (0.01, 3, 'log-uniform')\n",
      "2024-06-07 16:32:56,212 - julearn - INFO - Using inner CV scheme KFold(n_splits=5, random_state=None, shuffle=False)\n",
      "2024-06-07 16:32:56,213 - julearn - INFO - Search Parameters:\n",
      "2024-06-07 16:32:56,214 - julearn - INFO - \tn_iter: 50\n",
      "2024-06-07 16:32:56,215 - julearn - INFO - \tcv: KFold(n_splits=5, random_state=None, shuffle=False)\n",
      "2024-06-07 16:32:56,220 - julearn - INFO - ====================\n",
      "2024-06-07 16:32:56,221 - julearn - INFO - \n",
      "2024-06-07 16:32:56,221 - julearn - INFO - = Model Parameters =\n",
      "2024-06-07 16:32:56,222 - julearn - INFO - Tuning hyperparameters using bayes\n",
      "2024-06-07 16:32:56,223 - julearn - INFO - Hyperparameters list:\n",
      "2024-06-07 16:32:56,224 - julearn - INFO - \tSet 0\n",
      "2024-06-07 16:32:56,224 - julearn - INFO - \t\tsvm__C: (1e-06, 1, 'log-uniform')\n",
      "2024-06-07 16:32:56,225 - julearn - INFO - \t\tsvm__epsilon: (0.01, 3, 'log-uniform')\n",
      "2024-06-07 16:32:56,226 - julearn - INFO - \t\tset_column_types: [SetColumnTypes(X_types={})]\n",
      "2024-06-07 16:32:56,227 - julearn - INFO - \t\tzscore: [StandardScaler()]\n",
      "2024-06-07 16:32:56,228 - julearn - INFO - \t\tsvm: [SVR(kernel='linear')]\n",
      "2024-06-07 16:32:56,229 - julearn - INFO - \tSet 1\n",
      "2024-06-07 16:32:56,229 - julearn - INFO - \t\tsvm__kernel: ['rbf', 'sigmoid']\n",
      "2024-06-07 16:32:56,230 - julearn - INFO - \t\tsvm__C: (1e-06, 1, 'log-uniform')\n",
      "2024-06-07 16:32:56,231 - julearn - INFO - \t\tsvm__gamma: [1e-05, 0.0001, 0.001, 0.01, 'scale', 'auto']\n",
      "2024-06-07 16:32:56,232 - julearn - INFO - \t\tsvm__epsilon: (0.01, 3, 'log-uniform')\n",
      "2024-06-07 16:32:56,233 - julearn - INFO - \t\tset_column_types: [SetColumnTypes(X_types={})]\n",
      "2024-06-07 16:32:56,234 - julearn - INFO - \t\tzscore: [StandardScaler()]\n",
      "2024-06-07 16:32:56,235 - julearn - INFO - \t\tsvm: [SVR()]\n",
      "2024-06-07 16:32:56,235 - julearn - INFO - Hyperparameter svm__C as is (1e-06, 1, 'log-uniform')\n",
      "2024-06-07 16:32:56,236 - julearn - INFO - Hyperparameter svm__epsilon as is (0.01, 3, 'log-uniform')\n",
      "2024-06-07 16:32:56,237 - julearn - INFO - Hyperparameter set_column_types as is [SetColumnTypes(X_types={})]\n",
      "2024-06-07 16:32:56,238 - julearn - INFO - Hyperparameter zscore as is [StandardScaler()]\n",
      "2024-06-07 16:32:56,239 - julearn - INFO - Hyperparameter svm as is [SVR(kernel='linear')]\n",
      "2024-06-07 16:32:56,240 - julearn - INFO - Hyperparameter svm__kernel as is ['rbf', 'sigmoid']\n",
      "2024-06-07 16:32:56,240 - julearn - INFO - Hyperparameter svm__C as is (1e-06, 1, 'log-uniform')\n",
      "2024-06-07 16:32:56,241 - julearn - INFO - Hyperparameter svm__gamma as is [1e-05, 0.0001, 0.001, 0.01, 'scale', 'auto']\n",
      "2024-06-07 16:32:56,242 - julearn - INFO - Hyperparameter svm__epsilon as is (0.01, 3, 'log-uniform')\n",
      "2024-06-07 16:32:56,243 - julearn - INFO - Hyperparameter set_column_types as is [SetColumnTypes(X_types={})]\n",
      "2024-06-07 16:32:56,244 - julearn - INFO - Hyperparameter zscore as is [StandardScaler()]\n",
      "2024-06-07 16:32:56,245 - julearn - INFO - Hyperparameter svm as is [SVR()]\n",
      "2024-06-07 16:32:56,245 - julearn - INFO - Using inner CV scheme KFold(n_splits=5, random_state=None, shuffle=False)\n",
      "2024-06-07 16:32:56,246 - julearn - INFO - Search Parameters:\n",
      "2024-06-07 16:32:56,247 - julearn - INFO - \tn_iter: 50\n",
      "2024-06-07 16:32:56,248 - julearn - INFO - \tcv: KFold(n_splits=5, random_state=None, shuffle=False)\n",
      "2024-06-07 16:32:56,261 - julearn - INFO - ====================\n",
      "2024-06-07 16:32:56,262 - julearn - INFO - \n",
      "2024-06-07 16:32:56,263 - julearn - INFO - = Data Information =\n",
      "2024-06-07 16:32:56,263 - julearn - INFO - \tProblem type: regression\n",
      "2024-06-07 16:32:56,264 - julearn - INFO - \tNumber of samples: 833\n",
      "2024-06-07 16:32:56,265 - julearn - INFO - \tNumber of features: 368\n",
      "2024-06-07 16:32:56,266 - julearn - INFO - ====================\n",
      "2024-06-07 16:32:56,266 - julearn - INFO - \n",
      "2024-06-07 16:32:56,267 - julearn - INFO - \tTarget type: float64\n",
      "2024-06-07 16:32:56,268 - julearn - INFO - Using outer CV scheme RepeatedContinuousStratifiedKFold(method='binning', n_bins=3, n_repeats=10,\n",
      "                 n_splits=3, random_state=42)\n"
     ]
    },
    {
     "name": "stderr",
     "output_type": "stream",
     "text": [
      "/home/lucas/miniconda3/envs/neurodc/lib/python3.11/site-packages/skopt/optimizer/optimizer.py:517: UserWarning: The objective has been evaluated at point [SetColumnTypes(X_types={}), SVR(), 1.0, 3.0, 0.001, 'rbf', StandardScaler()] before, using random point [SetColumnTypes(X_types={}), SVR(), 5.124072936261726e-05, 0.035271676850554344, 'auto', 'rbf', StandardScaler()]\n",
      "  warnings.warn(\n",
      "/home/lucas/miniconda3/envs/neurodc/lib/python3.11/site-packages/skopt/optimizer/optimizer.py:517: UserWarning: The objective has been evaluated at point [SetColumnTypes(X_types={}), SVR(), 1.0, 3.0, 0.001, 'rbf', StandardScaler()] before, using random point [SetColumnTypes(X_types={}), SVR(), 0.000517658366209845, 0.6522015981012641, 0.01, 'rbf', StandardScaler()]\n",
      "  warnings.warn(\n",
      "/home/lucas/miniconda3/envs/neurodc/lib/python3.11/site-packages/skopt/optimizer/optimizer.py:517: UserWarning: The objective has been evaluated at point [SetColumnTypes(X_types={}), SVR(), 1.0, 3.0, 0.001, 'sigmoid', StandardScaler()] before, using random point [SetColumnTypes(X_types={}), SVR(), 0.00036764086356544525, 0.014476097583658422, 1e-05, 'rbf', StandardScaler()]\n",
      "  warnings.warn(\n",
      "/home/lucas/miniconda3/envs/neurodc/lib/python3.11/site-packages/skopt/optimizer/optimizer.py:517: UserWarning: The objective has been evaluated at point [SetColumnTypes(X_types={}), SVR(), 1.0, 3.0, 0.001, 'sigmoid', StandardScaler()] before, using random point [SetColumnTypes(X_types={}), SVR(), 2.2582813514166477e-06, 0.4737084121534234, 'scale', 'sigmoid', StandardScaler()]\n",
      "  warnings.warn(\n",
      "/home/lucas/miniconda3/envs/neurodc/lib/python3.11/site-packages/skopt/optimizer/optimizer.py:517: UserWarning: The objective has been evaluated at point [SetColumnTypes(X_types={}), SVR(), 1.0, 3.0, 1e-05, 'sigmoid', StandardScaler()] before, using random point [SetColumnTypes(X_types={}), SVR(), 1.969230483642979e-05, 0.5105412821817563, 0.001, 'sigmoid', StandardScaler()]\n",
      "  warnings.warn(\n",
      "/home/lucas/miniconda3/envs/neurodc/lib/python3.11/site-packages/skopt/optimizer/optimizer.py:517: UserWarning: The objective has been evaluated at point [SetColumnTypes(X_types={}), SVR(), 1.0, 3.0, 0.001, 'sigmoid', StandardScaler()] before, using random point [SetColumnTypes(X_types={}), SVR(), 0.01260861910755086, 1.673073861259403, 1e-05, 'rbf', StandardScaler()]\n",
      "  warnings.warn(\n",
      "/home/lucas/miniconda3/envs/neurodc/lib/python3.11/site-packages/skopt/optimizer/optimizer.py:517: UserWarning: The objective has been evaluated at point [SetColumnTypes(X_types={}), SVR(), 1.0, 3.0, 0.001, 'sigmoid', StandardScaler()] before, using random point [SetColumnTypes(X_types={}), SVR(), 0.005114244562916104, 0.04457389073149455, 'auto', 'rbf', StandardScaler()]\n",
      "  warnings.warn(\n",
      "/home/lucas/miniconda3/envs/neurodc/lib/python3.11/site-packages/skopt/optimizer/optimizer.py:517: UserWarning: The objective has been evaluated at point [SetColumnTypes(X_types={}), SVR(), 1.0, 3.0, 0.0001, 'sigmoid', StandardScaler()] before, using random point [SetColumnTypes(X_types={}), SVR(), 0.21561517669148605, 0.012057775743093958, 'auto', 'sigmoid', StandardScaler()]\n",
      "  warnings.warn(\n",
      "/home/lucas/miniconda3/envs/neurodc/lib/python3.11/site-packages/skopt/optimizer/optimizer.py:517: UserWarning: The objective has been evaluated at point [SetColumnTypes(X_types={}), SVR(), 1.0, 3.0, 1e-05, 'sigmoid', StandardScaler()] before, using random point [SetColumnTypes(X_types={}), SVR(), 0.00802910268724338, 0.10293917470185397, 'auto', 'sigmoid', StandardScaler()]\n",
      "  warnings.warn(\n",
      "/home/lucas/miniconda3/envs/neurodc/lib/python3.11/site-packages/skopt/optimizer/optimizer.py:517: UserWarning: The objective has been evaluated at point [SetColumnTypes(X_types={}), SVR(), 1.0, 3.0, 0.001, 'sigmoid', StandardScaler()] before, using random point [SetColumnTypes(X_types={}), SVR(), 0.014512434913941955, 0.292559051309868, 1e-05, 'sigmoid', StandardScaler()]\n",
      "  warnings.warn(\n"
     ]
    },
    {
     "name": "stdout",
     "output_type": "stream",
     "text": [
      "2024-06-07 18:04:49,481 - julearn - INFO - Fitting final model\n"
     ]
    },
    {
     "name": "stderr",
     "output_type": "stream",
     "text": [
      "/home/lucas/miniconda3/envs/neurodc/lib/python3.11/site-packages/skopt/optimizer/optimizer.py:517: UserWarning: The objective has been evaluated at point [SetColumnTypes(X_types={}), SVR(), 1.0, 3.0, 0.0001, 'rbf', StandardScaler()] before, using random point [SetColumnTypes(X_types={}), SVR(), 0.7935706649137966, 0.21808180992702594, 0.01, 'sigmoid', StandardScaler()]\n",
      "  warnings.warn(\n"
     ]
    },
    {
     "name": "stdout",
     "output_type": "stream",
     "text": [
      "2024-06-07 18:08:34,338 - julearn - INFO - Inspector requested: setting return_estimator='all'\n",
      "2024-06-07 18:08:34,340 - julearn - INFO - ==== Input Data ====\n",
      "2024-06-07 18:08:34,341 - julearn - INFO - Using dataframe as input\n",
      "2024-06-07 18:08:34,342 - julearn - INFO - \tFeatures: ['1', '2', '3', '4', '5', '6', '7', '8', '9', '10', '11', '12', '13', '14', '15', '16', '17', '18', '19', '20', '21', '22', '23', '24', '25', '26', '27', '28', '29', '30', '31', '32', '33', '34', '35', '36', '37', '38', '39', '40', '41', '42', '43', '44', '45', '46', '47', '48', '49', '50', '51', '52', '53', '54', '55', '56', '57', '58', '59', '60', '61', '62', '63', '64', '65', '66', '67', '68', '69', '70', '71', '72', '73', '74', '75', '76', '77', '78', '79', '80', '81', '82', '83', '84', '85', '86', '87', '88', '89', '90', '91', '92', '93', '94', '95', '96', '97', '98', '99', '100', '101', '102', '103', '104', '105', '106', '107', '108', '109', '110', '111', '112', '113', '114', '115', '116', '117', '118', '119', '120', '121', '122', '123', '124', '125', '126', '127', '128', '129', '130', '131', '132', '133', '134', '135', '136', '137', '138', '139', '140', '141', '142', '143', '144', '145', '146', '147', '148', '149', '150', '151', '152', '153', '154', '155', '156', '157', '158', '159', '160', '161', '162', '163', '164', '165', '166', '167', '168', '169', '170', '171', '172', '173', '174', '175', '176', '177', '178', '179', '180', '181', '182', '183', '184', '185', '186', '187', '188', '189', '190', '191', '192', '193', '194', '195', '196', '197', '198', '199', '200', '201', '202', '203', '204', '205', '206', '207', '208', '209', '210', '211', '212', '213', '214', '215', '216', '217', '218', '219', '220', '221', '222', '223', '224', '225', '226', '227', '228', '229', '230', '231', '232', '233', '234', '235', '236', '237', '238', '239', '240', '241', '242', '243', '244', '245', '246', '247', '248', '249', '250', '251', '252', '253', '254', '255', '256', '257', '258', '259', '260', '261', '262', '263', '264', '265', '266', '267', '268', '269', '270', '271', '272', '273', '274', '275', '276', '277', '278', '279', '280', '281', '282', '283', '284', '285', '286', '287', '288', '289', '290', '291', '292', '293', '294', '295', '296', '297', '298', '299', '300', '301', '302', '303', '304', '305', '306', '307', '308', '309', '310', '311', '312', '313', '314', '315', '316', '317', '318', '319', '320', '321', '322', '323', '324', '325', '326', '327', '328', '329', '330', '331', '332', '333', '334', '335', '336', '337', '338', '339', '340', '341', '342', '343', '344', '345', '346', '347', '348', '349', '350', '351', '352', '353', '354', '355', '356', '357', '358', '359', '360', '361', '362', '363', '364', '365', '366', '367', '368']\n",
      "2024-06-07 18:08:34,343 - julearn - INFO - \tTarget: IST_memory\n",
      "2024-06-07 18:08:34,371 - julearn - INFO - \tExpanded features: ['1', '2', '3', '4', '5', '6', '7', '8', '9', '10', '11', '12', '13', '14', '15', '16', '17', '18', '19', '20', '21', '22', '23', '24', '25', '26', '27', '28', '29', '30', '31', '32', '33', '34', '35', '36', '37', '38', '39', '40', '41', '42', '43', '44', '45', '46', '47', '48', '49', '50', '51', '52', '53', '54', '55', '56', '57', '58', '59', '60', '61', '62', '63', '64', '65', '66', '67', '68', '69', '70', '71', '72', '73', '74', '75', '76', '77', '78', '79', '80', '81', '82', '83', '84', '85', '86', '87', '88', '89', '90', '91', '92', '93', '94', '95', '96', '97', '98', '99', '100', '101', '102', '103', '104', '105', '106', '107', '108', '109', '110', '111', '112', '113', '114', '115', '116', '117', '118', '119', '120', '121', '122', '123', '124', '125', '126', '127', '128', '129', '130', '131', '132', '133', '134', '135', '136', '137', '138', '139', '140', '141', '142', '143', '144', '145', '146', '147', '148', '149', '150', '151', '152', '153', '154', '155', '156', '157', '158', '159', '160', '161', '162', '163', '164', '165', '166', '167', '168', '169', '170', '171', '172', '173', '174', '175', '176', '177', '178', '179', '180', '181', '182', '183', '184', '185', '186', '187', '188', '189', '190', '191', '192', '193', '194', '195', '196', '197', '198', '199', '200', '201', '202', '203', '204', '205', '206', '207', '208', '209', '210', '211', '212', '213', '214', '215', '216', '217', '218', '219', '220', '221', '222', '223', '224', '225', '226', '227', '228', '229', '230', '231', '232', '233', '234', '235', '236', '237', '238', '239', '240', '241', '242', '243', '244', '245', '246', '247', '248', '249', '250', '251', '252', '253', '254', '255', '256', '257', '258', '259', '260', '261', '262', '263', '264', '265', '266', '267', '268', '269', '270', '271', '272', '273', '274', '275', '276', '277', '278', '279', '280', '281', '282', '283', '284', '285', '286', '287', '288', '289', '290', '291', '292', '293', '294', '295', '296', '297', '298', '299', '300', '301', '302', '303', '304', '305', '306', '307', '308', '309', '310', '311', '312', '313', '314', '315', '316', '317', '318', '319', '320', '321', '322', '323', '324', '325', '326', '327', '328', '329', '330', '331', '332', '333', '334', '335', '336', '337', '338', '339', '340', '341', '342', '343', '344', '345', '346', '347', '348', '349', '350', '351', '352', '353', '354', '355', '356', '357', '358', '359', '360', '361', '362', '363', '364', '365', '366', '367', '368']\n",
      "2024-06-07 18:08:34,372 - julearn - INFO - \tX_types:{}\n",
      "2024-06-07 18:08:34,373 - julearn - WARNING - The following columns are not defined in X_types: ['1', '2', '3', '4', '5', '6', '7', '8', '9', '10', '11', '12', '13', '14', '15', '16', '17', '18', '19', '20', '21', '22', '23', '24', '25', '26', '27', '28', '29', '30', '31', '32', '33', '34', '35', '36', '37', '38', '39', '40', '41', '42', '43', '44', '45', '46', '47', '48', '49', '50', '51', '52', '53', '54', '55', '56', '57', '58', '59', '60', '61', '62', '63', '64', '65', '66', '67', '68', '69', '70', '71', '72', '73', '74', '75', '76', '77', '78', '79', '80', '81', '82', '83', '84', '85', '86', '87', '88', '89', '90', '91', '92', '93', '94', '95', '96', '97', '98', '99', '100', '101', '102', '103', '104', '105', '106', '107', '108', '109', '110', '111', '112', '113', '114', '115', '116', '117', '118', '119', '120', '121', '122', '123', '124', '125', '126', '127', '128', '129', '130', '131', '132', '133', '134', '135', '136', '137', '138', '139', '140', '141', '142', '143', '144', '145', '146', '147', '148', '149', '150', '151', '152', '153', '154', '155', '156', '157', '158', '159', '160', '161', '162', '163', '164', '165', '166', '167', '168', '169', '170', '171', '172', '173', '174', '175', '176', '177', '178', '179', '180', '181', '182', '183', '184', '185', '186', '187', '188', '189', '190', '191', '192', '193', '194', '195', '196', '197', '198', '199', '200', '201', '202', '203', '204', '205', '206', '207', '208', '209', '210', '211', '212', '213', '214', '215', '216', '217', '218', '219', '220', '221', '222', '223', '224', '225', '226', '227', '228', '229', '230', '231', '232', '233', '234', '235', '236', '237', '238', '239', '240', '241', '242', '243', '244', '245', '246', '247', '248', '249', '250', '251', '252', '253', '254', '255', '256', '257', '258', '259', '260', '261', '262', '263', '264', '265', '266', '267', '268', '269', '270', '271', '272', '273', '274', '275', '276', '277', '278', '279', '280', '281', '282', '283', '284', '285', '286', '287', '288', '289', '290', '291', '292', '293', '294', '295', '296', '297', '298', '299', '300', '301', '302', '303', '304', '305', '306', '307', '308', '309', '310', '311', '312', '313', '314', '315', '316', '317', '318', '319', '320', '321', '322', '323', '324', '325', '326', '327', '328', '329', '330', '331', '332', '333', '334', '335', '336', '337', '338', '339', '340', '341', '342', '343', '344', '345', '346', '347', '348', '349', '350', '351', '352', '353', '354', '355', '356', '357', '358', '359', '360', '361', '362', '363', '364', '365', '366', '367', '368']. They will be treated as continuous.\n"
     ]
    },
    {
     "name": "stderr",
     "output_type": "stream",
     "text": [
      "/home/lucas/miniconda3/envs/neurodc/lib/python3.11/site-packages/julearn/prepare.py:505: RuntimeWarning: The following columns are not defined in X_types: ['1', '2', '3', '4', '5', '6', '7', '8', '9', '10', '11', '12', '13', '14', '15', '16', '17', '18', '19', '20', '21', '22', '23', '24', '25', '26', '27', '28', '29', '30', '31', '32', '33', '34', '35', '36', '37', '38', '39', '40', '41', '42', '43', '44', '45', '46', '47', '48', '49', '50', '51', '52', '53', '54', '55', '56', '57', '58', '59', '60', '61', '62', '63', '64', '65', '66', '67', '68', '69', '70', '71', '72', '73', '74', '75', '76', '77', '78', '79', '80', '81', '82', '83', '84', '85', '86', '87', '88', '89', '90', '91', '92', '93', '94', '95', '96', '97', '98', '99', '100', '101', '102', '103', '104', '105', '106', '107', '108', '109', '110', '111', '112', '113', '114', '115', '116', '117', '118', '119', '120', '121', '122', '123', '124', '125', '126', '127', '128', '129', '130', '131', '132', '133', '134', '135', '136', '137', '138', '139', '140', '141', '142', '143', '144', '145', '146', '147', '148', '149', '150', '151', '152', '153', '154', '155', '156', '157', '158', '159', '160', '161', '162', '163', '164', '165', '166', '167', '168', '169', '170', '171', '172', '173', '174', '175', '176', '177', '178', '179', '180', '181', '182', '183', '184', '185', '186', '187', '188', '189', '190', '191', '192', '193', '194', '195', '196', '197', '198', '199', '200', '201', '202', '203', '204', '205', '206', '207', '208', '209', '210', '211', '212', '213', '214', '215', '216', '217', '218', '219', '220', '221', '222', '223', '224', '225', '226', '227', '228', '229', '230', '231', '232', '233', '234', '235', '236', '237', '238', '239', '240', '241', '242', '243', '244', '245', '246', '247', '248', '249', '250', '251', '252', '253', '254', '255', '256', '257', '258', '259', '260', '261', '262', '263', '264', '265', '266', '267', '268', '269', '270', '271', '272', '273', '274', '275', '276', '277', '278', '279', '280', '281', '282', '283', '284', '285', '286', '287', '288', '289', '290', '291', '292', '293', '294', '295', '296', '297', '298', '299', '300', '301', '302', '303', '304', '305', '306', '307', '308', '309', '310', '311', '312', '313', '314', '315', '316', '317', '318', '319', '320', '321', '322', '323', '324', '325', '326', '327', '328', '329', '330', '331', '332', '333', '334', '335', '336', '337', '338', '339', '340', '341', '342', '343', '344', '345', '346', '347', '348', '349', '350', '351', '352', '353', '354', '355', '356', '357', '358', '359', '360', '361', '362', '363', '364', '365', '366', '367', '368']. They will be treated as continuous.\n",
      "  warn_with_log(\n"
     ]
    },
    {
     "name": "stdout",
     "output_type": "stream",
     "text": [
      "2024-06-07 18:08:34,382 - julearn - INFO - ====================\n",
      "2024-06-07 18:08:34,383 - julearn - INFO - \n",
      "2024-06-07 18:08:34,385 - julearn - INFO - = Model Parameters =\n",
      "2024-06-07 18:08:34,386 - julearn - INFO - Tuning hyperparameters using grid\n",
      "2024-06-07 18:08:34,387 - julearn - INFO - Hyperparameters:\n",
      "2024-06-07 18:08:34,388 - julearn - INFO - \trf__n_estimators: [25, 50, 100]\n",
      "2024-06-07 18:08:34,389 - julearn - INFO - \trf__max_depth: [5, 10, 20]\n",
      "2024-06-07 18:08:34,391 - julearn - INFO - Using inner CV scheme KFold(n_splits=5, random_state=None, shuffle=False)\n",
      "2024-06-07 18:08:34,392 - julearn - INFO - Search Parameters:\n",
      "2024-06-07 18:08:34,394 - julearn - INFO - \tcv: KFold(n_splits=5, random_state=None, shuffle=False)\n",
      "2024-06-07 18:08:34,395 - julearn - INFO - ====================\n",
      "2024-06-07 18:08:34,396 - julearn - INFO - \n",
      "2024-06-07 18:08:34,397 - julearn - INFO - = Data Information =\n",
      "2024-06-07 18:08:34,398 - julearn - INFO - \tProblem type: regression\n",
      "2024-06-07 18:08:34,399 - julearn - INFO - \tNumber of samples: 833\n",
      "2024-06-07 18:08:34,400 - julearn - INFO - \tNumber of features: 368\n",
      "2024-06-07 18:08:34,401 - julearn - INFO - ====================\n",
      "2024-06-07 18:08:34,402 - julearn - INFO - \n",
      "2024-06-07 18:08:34,404 - julearn - INFO - \tTarget type: float64\n",
      "2024-06-07 18:08:34,405 - julearn - INFO - Using outer CV scheme RepeatedContinuousStratifiedKFold(method='binning', n_bins=3, n_repeats=10,\n",
      "                 n_splits=3, random_state=42)\n",
      "2024-06-07 19:29:16,191 - julearn - INFO - Fitting final model\n",
      "2024-06-07 19:33:25,821 - julearn - INFO - Inspector requested: setting return_estimator='all'\n",
      "2024-06-07 19:33:25,822 - julearn - INFO - ==== Input Data ====\n",
      "2024-06-07 19:33:25,822 - julearn - INFO - Using dataframe as input\n",
      "2024-06-07 19:33:25,823 - julearn - INFO - \tFeatures: ['1', '2', '3', '4', '5', '6', '7', '8', '9', '10', '11', '12', '13', '14', '15', '16', '17', '18', '19', '20', '21', '22', '23', '24', '25', '26', '27', '28', '29', '30', '31', '32', '33', '34', '35', '36', '37', '38', '39', '40', '41', '42', '43', '44', '45', '46', '47', '48', '49', '50', '51', '52', '53', '54', '55', '56', '57', '58', '59', '60', '61', '62', '63', '64', '65', '66', '67', '68', '69', '70', '71', '72', '73', '74', '75', '76', '77', '78', '79', '80', '81', '82', '83', '84', '85', '86', '87', '88', '89', '90', '91', '92', '93', '94', '95', '96', '97', '98', '99', '100', '101', '102', '103', '104', '105', '106', '107', '108', '109', '110', '111', '112', '113', '114', '115', '116', '117', '118', '119', '120', '121', '122', '123', '124', '125', '126', '127', '128', '129', '130', '131', '132', '133', '134', '135', '136', '137', '138', '139', '140', '141', '142', '143', '144', '145', '146', '147', '148', '149', '150', '151', '152', '153', '154', '155', '156', '157', '158', '159', '160', '161', '162', '163', '164', '165', '166', '167', '168', '169', '170', '171', '172', '173', '174', '175', '176', '177', '178', '179', '180', '181', '182', '183', '184', '185', '186', '187', '188', '189', '190', '191', '192', '193', '194', '195', '196', '197', '198', '199', '200', '201', '202', '203', '204', '205', '206', '207', '208', '209', '210', '211', '212', '213', '214', '215', '216', '217', '218', '219', '220', '221', '222', '223', '224', '225', '226', '227', '228', '229', '230', '231', '232', '233', '234', '235', '236', '237', '238', '239', '240', '241', '242', '243', '244', '245', '246', '247', '248', '249', '250', '251', '252', '253', '254', '255', '256', '257', '258', '259', '260', '261', '262', '263', '264', '265', '266', '267', '268', '269', '270', '271', '272', '273', '274', '275', '276', '277', '278', '279', '280', '281', '282', '283', '284', '285', '286', '287', '288', '289', '290', '291', '292', '293', '294', '295', '296', '297', '298', '299', '300', '301', '302', '303', '304', '305', '306', '307', '308', '309', '310', '311', '312', '313', '314', '315', '316', '317', '318', '319', '320', '321', '322', '323', '324', '325', '326', '327', '328', '329', '330', '331', '332', '333', '334', '335', '336', '337', '338', '339', '340', '341', '342', '343', '344', '345', '346', '347', '348', '349', '350', '351', '352', '353', '354', '355', '356', '357', '358', '359', '360', '361', '362', '363', '364', '365', '366', '367', '368']\n",
      "2024-06-07 19:33:25,824 - julearn - INFO - \tTarget: IST_memory\n",
      "2024-06-07 19:33:25,852 - julearn - INFO - \tExpanded features: ['1', '2', '3', '4', '5', '6', '7', '8', '9', '10', '11', '12', '13', '14', '15', '16', '17', '18', '19', '20', '21', '22', '23', '24', '25', '26', '27', '28', '29', '30', '31', '32', '33', '34', '35', '36', '37', '38', '39', '40', '41', '42', '43', '44', '45', '46', '47', '48', '49', '50', '51', '52', '53', '54', '55', '56', '57', '58', '59', '60', '61', '62', '63', '64', '65', '66', '67', '68', '69', '70', '71', '72', '73', '74', '75', '76', '77', '78', '79', '80', '81', '82', '83', '84', '85', '86', '87', '88', '89', '90', '91', '92', '93', '94', '95', '96', '97', '98', '99', '100', '101', '102', '103', '104', '105', '106', '107', '108', '109', '110', '111', '112', '113', '114', '115', '116', '117', '118', '119', '120', '121', '122', '123', '124', '125', '126', '127', '128', '129', '130', '131', '132', '133', '134', '135', '136', '137', '138', '139', '140', '141', '142', '143', '144', '145', '146', '147', '148', '149', '150', '151', '152', '153', '154', '155', '156', '157', '158', '159', '160', '161', '162', '163', '164', '165', '166', '167', '168', '169', '170', '171', '172', '173', '174', '175', '176', '177', '178', '179', '180', '181', '182', '183', '184', '185', '186', '187', '188', '189', '190', '191', '192', '193', '194', '195', '196', '197', '198', '199', '200', '201', '202', '203', '204', '205', '206', '207', '208', '209', '210', '211', '212', '213', '214', '215', '216', '217', '218', '219', '220', '221', '222', '223', '224', '225', '226', '227', '228', '229', '230', '231', '232', '233', '234', '235', '236', '237', '238', '239', '240', '241', '242', '243', '244', '245', '246', '247', '248', '249', '250', '251', '252', '253', '254', '255', '256', '257', '258', '259', '260', '261', '262', '263', '264', '265', '266', '267', '268', '269', '270', '271', '272', '273', '274', '275', '276', '277', '278', '279', '280', '281', '282', '283', '284', '285', '286', '287', '288', '289', '290', '291', '292', '293', '294', '295', '296', '297', '298', '299', '300', '301', '302', '303', '304', '305', '306', '307', '308', '309', '310', '311', '312', '313', '314', '315', '316', '317', '318', '319', '320', '321', '322', '323', '324', '325', '326', '327', '328', '329', '330', '331', '332', '333', '334', '335', '336', '337', '338', '339', '340', '341', '342', '343', '344', '345', '346', '347', '348', '349', '350', '351', '352', '353', '354', '355', '356', '357', '358', '359', '360', '361', '362', '363', '364', '365', '366', '367', '368']\n",
      "2024-06-07 19:33:25,853 - julearn - INFO - \tX_types:{}\n",
      "2024-06-07 19:33:25,854 - julearn - WARNING - The following columns are not defined in X_types: ['1', '2', '3', '4', '5', '6', '7', '8', '9', '10', '11', '12', '13', '14', '15', '16', '17', '18', '19', '20', '21', '22', '23', '24', '25', '26', '27', '28', '29', '30', '31', '32', '33', '34', '35', '36', '37', '38', '39', '40', '41', '42', '43', '44', '45', '46', '47', '48', '49', '50', '51', '52', '53', '54', '55', '56', '57', '58', '59', '60', '61', '62', '63', '64', '65', '66', '67', '68', '69', '70', '71', '72', '73', '74', '75', '76', '77', '78', '79', '80', '81', '82', '83', '84', '85', '86', '87', '88', '89', '90', '91', '92', '93', '94', '95', '96', '97', '98', '99', '100', '101', '102', '103', '104', '105', '106', '107', '108', '109', '110', '111', '112', '113', '114', '115', '116', '117', '118', '119', '120', '121', '122', '123', '124', '125', '126', '127', '128', '129', '130', '131', '132', '133', '134', '135', '136', '137', '138', '139', '140', '141', '142', '143', '144', '145', '146', '147', '148', '149', '150', '151', '152', '153', '154', '155', '156', '157', '158', '159', '160', '161', '162', '163', '164', '165', '166', '167', '168', '169', '170', '171', '172', '173', '174', '175', '176', '177', '178', '179', '180', '181', '182', '183', '184', '185', '186', '187', '188', '189', '190', '191', '192', '193', '194', '195', '196', '197', '198', '199', '200', '201', '202', '203', '204', '205', '206', '207', '208', '209', '210', '211', '212', '213', '214', '215', '216', '217', '218', '219', '220', '221', '222', '223', '224', '225', '226', '227', '228', '229', '230', '231', '232', '233', '234', '235', '236', '237', '238', '239', '240', '241', '242', '243', '244', '245', '246', '247', '248', '249', '250', '251', '252', '253', '254', '255', '256', '257', '258', '259', '260', '261', '262', '263', '264', '265', '266', '267', '268', '269', '270', '271', '272', '273', '274', '275', '276', '277', '278', '279', '280', '281', '282', '283', '284', '285', '286', '287', '288', '289', '290', '291', '292', '293', '294', '295', '296', '297', '298', '299', '300', '301', '302', '303', '304', '305', '306', '307', '308', '309', '310', '311', '312', '313', '314', '315', '316', '317', '318', '319', '320', '321', '322', '323', '324', '325', '326', '327', '328', '329', '330', '331', '332', '333', '334', '335', '336', '337', '338', '339', '340', '341', '342', '343', '344', '345', '346', '347', '348', '349', '350', '351', '352', '353', '354', '355', '356', '357', '358', '359', '360', '361', '362', '363', '364', '365', '366', '367', '368']. They will be treated as continuous.\n"
     ]
    },
    {
     "name": "stderr",
     "output_type": "stream",
     "text": [
      "/home/lucas/miniconda3/envs/neurodc/lib/python3.11/site-packages/julearn/prepare.py:505: RuntimeWarning: The following columns are not defined in X_types: ['1', '2', '3', '4', '5', '6', '7', '8', '9', '10', '11', '12', '13', '14', '15', '16', '17', '18', '19', '20', '21', '22', '23', '24', '25', '26', '27', '28', '29', '30', '31', '32', '33', '34', '35', '36', '37', '38', '39', '40', '41', '42', '43', '44', '45', '46', '47', '48', '49', '50', '51', '52', '53', '54', '55', '56', '57', '58', '59', '60', '61', '62', '63', '64', '65', '66', '67', '68', '69', '70', '71', '72', '73', '74', '75', '76', '77', '78', '79', '80', '81', '82', '83', '84', '85', '86', '87', '88', '89', '90', '91', '92', '93', '94', '95', '96', '97', '98', '99', '100', '101', '102', '103', '104', '105', '106', '107', '108', '109', '110', '111', '112', '113', '114', '115', '116', '117', '118', '119', '120', '121', '122', '123', '124', '125', '126', '127', '128', '129', '130', '131', '132', '133', '134', '135', '136', '137', '138', '139', '140', '141', '142', '143', '144', '145', '146', '147', '148', '149', '150', '151', '152', '153', '154', '155', '156', '157', '158', '159', '160', '161', '162', '163', '164', '165', '166', '167', '168', '169', '170', '171', '172', '173', '174', '175', '176', '177', '178', '179', '180', '181', '182', '183', '184', '185', '186', '187', '188', '189', '190', '191', '192', '193', '194', '195', '196', '197', '198', '199', '200', '201', '202', '203', '204', '205', '206', '207', '208', '209', '210', '211', '212', '213', '214', '215', '216', '217', '218', '219', '220', '221', '222', '223', '224', '225', '226', '227', '228', '229', '230', '231', '232', '233', '234', '235', '236', '237', '238', '239', '240', '241', '242', '243', '244', '245', '246', '247', '248', '249', '250', '251', '252', '253', '254', '255', '256', '257', '258', '259', '260', '261', '262', '263', '264', '265', '266', '267', '268', '269', '270', '271', '272', '273', '274', '275', '276', '277', '278', '279', '280', '281', '282', '283', '284', '285', '286', '287', '288', '289', '290', '291', '292', '293', '294', '295', '296', '297', '298', '299', '300', '301', '302', '303', '304', '305', '306', '307', '308', '309', '310', '311', '312', '313', '314', '315', '316', '317', '318', '319', '320', '321', '322', '323', '324', '325', '326', '327', '328', '329', '330', '331', '332', '333', '334', '335', '336', '337', '338', '339', '340', '341', '342', '343', '344', '345', '346', '347', '348', '349', '350', '351', '352', '353', '354', '355', '356', '357', '358', '359', '360', '361', '362', '363', '364', '365', '366', '367', '368']. They will be treated as continuous.\n",
      "  warn_with_log(\n"
     ]
    },
    {
     "name": "stdout",
     "output_type": "stream",
     "text": [
      "2024-06-07 19:33:25,861 - julearn - INFO - ====================\n",
      "2024-06-07 19:33:25,862 - julearn - INFO - \n",
      "2024-06-07 19:33:25,864 - julearn - INFO - = Model Parameters =\n",
      "2024-06-07 19:33:25,865 - julearn - INFO - Tuning hyperparameters using grid\n",
      "2024-06-07 19:33:25,866 - julearn - INFO - Hyperparameters:\n",
      "2024-06-07 19:33:25,867 - julearn - INFO - \tgradientboost__n_estimators: [25, 50, 100]\n",
      "2024-06-07 19:33:25,868 - julearn - INFO - \tgradientboost__max_depth: [3, 5, 10]\n",
      "2024-06-07 19:33:25,869 - julearn - INFO - Using inner CV scheme KFold(n_splits=5, random_state=None, shuffle=False)\n",
      "2024-06-07 19:33:25,869 - julearn - INFO - Search Parameters:\n",
      "2024-06-07 19:33:25,870 - julearn - INFO - \tcv: KFold(n_splits=5, random_state=None, shuffle=False)\n",
      "2024-06-07 19:33:25,871 - julearn - INFO - ====================\n",
      "2024-06-07 19:33:25,872 - julearn - INFO - \n",
      "2024-06-07 19:33:25,873 - julearn - INFO - = Data Information =\n",
      "2024-06-07 19:33:25,874 - julearn - INFO - \tProblem type: regression\n",
      "2024-06-07 19:33:25,875 - julearn - INFO - \tNumber of samples: 833\n",
      "2024-06-07 19:33:25,875 - julearn - INFO - \tNumber of features: 368\n",
      "2024-06-07 19:33:25,876 - julearn - INFO - ====================\n",
      "2024-06-07 19:33:25,877 - julearn - INFO - \n",
      "2024-06-07 19:33:25,878 - julearn - INFO - \tTarget type: float64\n",
      "2024-06-07 19:33:25,879 - julearn - INFO - Using outer CV scheme RepeatedContinuousStratifiedKFold(method='binning', n_bins=3, n_repeats=10,\n",
      "                 n_splits=3, random_state=42)\n",
      "2024-06-07 21:08:51,923 - julearn - INFO - Fitting final model\n",
      "2024-06-07 21:14:13,110 - julearn - INFO - Inspector requested: setting return_estimator='all'\n",
      "2024-06-07 21:14:13,112 - julearn - INFO - ==== Input Data ====\n",
      "2024-06-07 21:14:13,113 - julearn - INFO - Using dataframe as input\n",
      "2024-06-07 21:14:13,115 - julearn - INFO - \tFeatures: ['1', '2', '3', '4', '5', '6', '7', '8', '9', '10', '11', '12', '13', '14', '15', '16', '17', '18', '19', '20', '21', '22', '23', '24', '25', '26', '27', '28', '29', '30', '31', '32', '33', '34', '35', '36', '37', '38', '39', '40', '41', '42', '43', '44', '45', '46', '47', '48', '49', '50', '51', '52', '53', '54', '55', '56', '57', '58', '59', '60', '61', '62', '63', '64', '65', '66', '67', '68', '69', '70', '71', '72', '73', '74', '75', '76', '77', '78', '79', '80', '81', '82', '83', '84', '85', '86', '87', '88', '89', '90', '91', '92', '93', '94', '95', '96', '97', '98', '99', '100', '101', '102', '103', '104', '105', '106', '107', '108', '109', '110', '111', '112', '113', '114', '115', '116', '117', '118', '119', '120', '121', '122', '123', '124', '125', '126', '127', '128', '129', '130', '131', '132', '133', '134', '135', '136', '137', '138', '139', '140', '141', '142', '143', '144', '145', '146', '147', '148', '149', '150', '151', '152', '153', '154', '155', '156', '157', '158', '159', '160', '161', '162', '163', '164', '165', '166', '167', '168', '169', '170', '171', '172', '173', '174', '175', '176', '177', '178', '179', '180', '181', '182', '183', '184', '185', '186', '187', '188', '189', '190', '191', '192', '193', '194', '195', '196', '197', '198', '199', '200', '201', '202', '203', '204', '205', '206', '207', '208', '209', '210', '211', '212', '213', '214', '215', '216', '217', '218', '219', '220', '221', '222', '223', '224', '225', '226', '227', '228', '229', '230', '231', '232', '233', '234', '235', '236', '237', '238', '239', '240', '241', '242', '243', '244', '245', '246', '247', '248', '249', '250', '251', '252', '253', '254', '255', '256', '257', '258', '259', '260', '261', '262', '263', '264', '265', '266', '267', '268', '269', '270', '271', '272', '273', '274', '275', '276', '277', '278', '279', '280', '281', '282', '283', '284', '285', '286', '287', '288', '289', '290', '291', '292', '293', '294', '295', '296', '297', '298', '299', '300', '301', '302', '303', '304', '305', '306', '307', '308', '309', '310', '311', '312', '313', '314', '315', '316', '317', '318', '319', '320', '321', '322', '323', '324', '325', '326', '327', '328', '329', '330', '331', '332', '333', '334', '335', '336', '337', '338', '339', '340', '341', '342', '343', '344', '345', '346', '347', '348', '349', '350', '351', '352', '353', '354', '355', '356', '357', '358', '359', '360', '361', '362', '363', '364', '365', '366', '367', '368']\n",
      "2024-06-07 21:14:13,116 - julearn - INFO - \tTarget: IST_memory\n",
      "2024-06-07 21:14:13,156 - julearn - INFO - \tExpanded features: ['1', '2', '3', '4', '5', '6', '7', '8', '9', '10', '11', '12', '13', '14', '15', '16', '17', '18', '19', '20', '21', '22', '23', '24', '25', '26', '27', '28', '29', '30', '31', '32', '33', '34', '35', '36', '37', '38', '39', '40', '41', '42', '43', '44', '45', '46', '47', '48', '49', '50', '51', '52', '53', '54', '55', '56', '57', '58', '59', '60', '61', '62', '63', '64', '65', '66', '67', '68', '69', '70', '71', '72', '73', '74', '75', '76', '77', '78', '79', '80', '81', '82', '83', '84', '85', '86', '87', '88', '89', '90', '91', '92', '93', '94', '95', '96', '97', '98', '99', '100', '101', '102', '103', '104', '105', '106', '107', '108', '109', '110', '111', '112', '113', '114', '115', '116', '117', '118', '119', '120', '121', '122', '123', '124', '125', '126', '127', '128', '129', '130', '131', '132', '133', '134', '135', '136', '137', '138', '139', '140', '141', '142', '143', '144', '145', '146', '147', '148', '149', '150', '151', '152', '153', '154', '155', '156', '157', '158', '159', '160', '161', '162', '163', '164', '165', '166', '167', '168', '169', '170', '171', '172', '173', '174', '175', '176', '177', '178', '179', '180', '181', '182', '183', '184', '185', '186', '187', '188', '189', '190', '191', '192', '193', '194', '195', '196', '197', '198', '199', '200', '201', '202', '203', '204', '205', '206', '207', '208', '209', '210', '211', '212', '213', '214', '215', '216', '217', '218', '219', '220', '221', '222', '223', '224', '225', '226', '227', '228', '229', '230', '231', '232', '233', '234', '235', '236', '237', '238', '239', '240', '241', '242', '243', '244', '245', '246', '247', '248', '249', '250', '251', '252', '253', '254', '255', '256', '257', '258', '259', '260', '261', '262', '263', '264', '265', '266', '267', '268', '269', '270', '271', '272', '273', '274', '275', '276', '277', '278', '279', '280', '281', '282', '283', '284', '285', '286', '287', '288', '289', '290', '291', '292', '293', '294', '295', '296', '297', '298', '299', '300', '301', '302', '303', '304', '305', '306', '307', '308', '309', '310', '311', '312', '313', '314', '315', '316', '317', '318', '319', '320', '321', '322', '323', '324', '325', '326', '327', '328', '329', '330', '331', '332', '333', '334', '335', '336', '337', '338', '339', '340', '341', '342', '343', '344', '345', '346', '347', '348', '349', '350', '351', '352', '353', '354', '355', '356', '357', '358', '359', '360', '361', '362', '363', '364', '365', '366', '367', '368']\n",
      "2024-06-07 21:14:13,158 - julearn - INFO - \tX_types:{}\n",
      "2024-06-07 21:14:13,160 - julearn - WARNING - The following columns are not defined in X_types: ['1', '2', '3', '4', '5', '6', '7', '8', '9', '10', '11', '12', '13', '14', '15', '16', '17', '18', '19', '20', '21', '22', '23', '24', '25', '26', '27', '28', '29', '30', '31', '32', '33', '34', '35', '36', '37', '38', '39', '40', '41', '42', '43', '44', '45', '46', '47', '48', '49', '50', '51', '52', '53', '54', '55', '56', '57', '58', '59', '60', '61', '62', '63', '64', '65', '66', '67', '68', '69', '70', '71', '72', '73', '74', '75', '76', '77', '78', '79', '80', '81', '82', '83', '84', '85', '86', '87', '88', '89', '90', '91', '92', '93', '94', '95', '96', '97', '98', '99', '100', '101', '102', '103', '104', '105', '106', '107', '108', '109', '110', '111', '112', '113', '114', '115', '116', '117', '118', '119', '120', '121', '122', '123', '124', '125', '126', '127', '128', '129', '130', '131', '132', '133', '134', '135', '136', '137', '138', '139', '140', '141', '142', '143', '144', '145', '146', '147', '148', '149', '150', '151', '152', '153', '154', '155', '156', '157', '158', '159', '160', '161', '162', '163', '164', '165', '166', '167', '168', '169', '170', '171', '172', '173', '174', '175', '176', '177', '178', '179', '180', '181', '182', '183', '184', '185', '186', '187', '188', '189', '190', '191', '192', '193', '194', '195', '196', '197', '198', '199', '200', '201', '202', '203', '204', '205', '206', '207', '208', '209', '210', '211', '212', '213', '214', '215', '216', '217', '218', '219', '220', '221', '222', '223', '224', '225', '226', '227', '228', '229', '230', '231', '232', '233', '234', '235', '236', '237', '238', '239', '240', '241', '242', '243', '244', '245', '246', '247', '248', '249', '250', '251', '252', '253', '254', '255', '256', '257', '258', '259', '260', '261', '262', '263', '264', '265', '266', '267', '268', '269', '270', '271', '272', '273', '274', '275', '276', '277', '278', '279', '280', '281', '282', '283', '284', '285', '286', '287', '288', '289', '290', '291', '292', '293', '294', '295', '296', '297', '298', '299', '300', '301', '302', '303', '304', '305', '306', '307', '308', '309', '310', '311', '312', '313', '314', '315', '316', '317', '318', '319', '320', '321', '322', '323', '324', '325', '326', '327', '328', '329', '330', '331', '332', '333', '334', '335', '336', '337', '338', '339', '340', '341', '342', '343', '344', '345', '346', '347', '348', '349', '350', '351', '352', '353', '354', '355', '356', '357', '358', '359', '360', '361', '362', '363', '364', '365', '366', '367', '368']. They will be treated as continuous.\n"
     ]
    },
    {
     "name": "stderr",
     "output_type": "stream",
     "text": [
      "/home/lucas/miniconda3/envs/neurodc/lib/python3.11/site-packages/julearn/prepare.py:505: RuntimeWarning: The following columns are not defined in X_types: ['1', '2', '3', '4', '5', '6', '7', '8', '9', '10', '11', '12', '13', '14', '15', '16', '17', '18', '19', '20', '21', '22', '23', '24', '25', '26', '27', '28', '29', '30', '31', '32', '33', '34', '35', '36', '37', '38', '39', '40', '41', '42', '43', '44', '45', '46', '47', '48', '49', '50', '51', '52', '53', '54', '55', '56', '57', '58', '59', '60', '61', '62', '63', '64', '65', '66', '67', '68', '69', '70', '71', '72', '73', '74', '75', '76', '77', '78', '79', '80', '81', '82', '83', '84', '85', '86', '87', '88', '89', '90', '91', '92', '93', '94', '95', '96', '97', '98', '99', '100', '101', '102', '103', '104', '105', '106', '107', '108', '109', '110', '111', '112', '113', '114', '115', '116', '117', '118', '119', '120', '121', '122', '123', '124', '125', '126', '127', '128', '129', '130', '131', '132', '133', '134', '135', '136', '137', '138', '139', '140', '141', '142', '143', '144', '145', '146', '147', '148', '149', '150', '151', '152', '153', '154', '155', '156', '157', '158', '159', '160', '161', '162', '163', '164', '165', '166', '167', '168', '169', '170', '171', '172', '173', '174', '175', '176', '177', '178', '179', '180', '181', '182', '183', '184', '185', '186', '187', '188', '189', '190', '191', '192', '193', '194', '195', '196', '197', '198', '199', '200', '201', '202', '203', '204', '205', '206', '207', '208', '209', '210', '211', '212', '213', '214', '215', '216', '217', '218', '219', '220', '221', '222', '223', '224', '225', '226', '227', '228', '229', '230', '231', '232', '233', '234', '235', '236', '237', '238', '239', '240', '241', '242', '243', '244', '245', '246', '247', '248', '249', '250', '251', '252', '253', '254', '255', '256', '257', '258', '259', '260', '261', '262', '263', '264', '265', '266', '267', '268', '269', '270', '271', '272', '273', '274', '275', '276', '277', '278', '279', '280', '281', '282', '283', '284', '285', '286', '287', '288', '289', '290', '291', '292', '293', '294', '295', '296', '297', '298', '299', '300', '301', '302', '303', '304', '305', '306', '307', '308', '309', '310', '311', '312', '313', '314', '315', '316', '317', '318', '319', '320', '321', '322', '323', '324', '325', '326', '327', '328', '329', '330', '331', '332', '333', '334', '335', '336', '337', '338', '339', '340', '341', '342', '343', '344', '345', '346', '347', '348', '349', '350', '351', '352', '353', '354', '355', '356', '357', '358', '359', '360', '361', '362', '363', '364', '365', '366', '367', '368']. They will be treated as continuous.\n",
      "  warn_with_log(\n"
     ]
    },
    {
     "name": "stdout",
     "output_type": "stream",
     "text": [
      "2024-06-07 21:14:13,176 - julearn - INFO - ====================\n",
      "2024-06-07 21:14:13,177 - julearn - INFO - \n",
      "2024-06-07 21:14:13,182 - julearn - INFO - = Model Parameters =\n",
      "2024-06-07 21:14:13,184 - julearn - INFO - ====================\n",
      "2024-06-07 21:14:13,185 - julearn - INFO - \n",
      "2024-06-07 21:14:13,186 - julearn - INFO - = Data Information =\n",
      "2024-06-07 21:14:13,188 - julearn - INFO - \tProblem type: regression\n",
      "2024-06-07 21:14:13,189 - julearn - INFO - \tNumber of samples: 833\n",
      "2024-06-07 21:14:13,190 - julearn - INFO - \tNumber of features: 368\n",
      "2024-06-07 21:14:13,191 - julearn - INFO - ====================\n",
      "2024-06-07 21:14:13,192 - julearn - INFO - \n",
      "2024-06-07 21:14:13,194 - julearn - INFO - \tTarget type: float64\n",
      "2024-06-07 21:14:13,196 - julearn - INFO - Using outer CV scheme RepeatedContinuousStratifiedKFold(method='binning', n_bins=3, n_repeats=10,\n",
      "                 n_splits=3, random_state=42)\n",
      "2024-06-07 21:14:13,694 - julearn - INFO - Fitting final model\n"
     ]
    }
   ],
   "source": [
    "for y in targets:\n",
    "    for m_name, m in models.items():\n",
    "        scores, model, inspector = run_cross_validation(\n",
    "            X=X,\n",
    "            y=y,\n",
    "            data=df_full,\n",
    "            model= m,\n",
    "            return_train_score=True,\n",
    "            return_inspector=True,\n",
    "            cv=cv,\n",
    "            scoring=\"neg_mean_absolute_error\",\n",
    "            search_params=search_params if m_name == \"SVM\" else None,\n",
    "        )\n",
    "        scores['model'] = m_name\n",
    "        scores_dict[y][m_name] = scores.copy()\n",
    "        model_dict[y][m_name] = copy.deepcopy(model)\n",
    "        inspector_dict[y][m_name] = copy.deepcopy(inspector)"
   ]
  },
  {
   "cell_type": "code",
   "execution_count": 18,
   "metadata": {},
   "outputs": [
    {
     "name": "stdout",
     "output_type": "stream",
     "text": [
      "=================== IST_fluid ======================\n"
     ]
    },
    {
     "data": {
      "text/plain": [
       "OrderedDict([('set_column_types', SetColumnTypes(X_types={})),\n",
       "             ('svm', SVR(kernel='linear')),\n",
       "             ('svm__C', 0.0072550149256020696),\n",
       "             ('svm__epsilon', 0.010192808812727324),\n",
       "             ('zscore', StandardScaler())])"
      ]
     },
     "metadata": {},
     "output_type": "display_data"
    },
    {
     "name": "stdout",
     "output_type": "stream",
     "text": [
      "=================== IST_fluid ======================\n"
     ]
    },
    {
     "data": {
      "text/plain": [
       "OrderedDict([('set_column_types', SetColumnTypes(X_types={})),\n",
       "             ('svm', SVR(kernel='linear')),\n",
       "             ('svm__C', 0.0105761786177105),\n",
       "             ('svm__epsilon', 2.28378753780012),\n",
       "             ('zscore', StandardScaler())])"
      ]
     },
     "metadata": {},
     "output_type": "display_data"
    },
    {
     "name": "stdout",
     "output_type": "stream",
     "text": [
      "=================== IST_fluid ======================\n"
     ]
    },
    {
     "data": {
      "text/plain": [
       "OrderedDict([('set_column_types', SetColumnTypes(X_types={})),\n",
       "             ('svm', SVR(kernel='linear')),\n",
       "             ('svm__C', 0.022312665583987413),\n",
       "             ('svm__epsilon', 3.0),\n",
       "             ('zscore', StandardScaler())])"
      ]
     },
     "metadata": {},
     "output_type": "display_data"
    },
    {
     "name": "stdout",
     "output_type": "stream",
     "text": [
      "=================== IST_fluid ======================\n"
     ]
    },
    {
     "data": {
      "text/plain": [
       "OrderedDict([('set_column_types', SetColumnTypes(X_types={})),\n",
       "             ('svm', SVR(kernel='linear')),\n",
       "             ('svm__C', 0.005944772315291737),\n",
       "             ('svm__epsilon', 0.01),\n",
       "             ('zscore', StandardScaler())])"
      ]
     },
     "metadata": {},
     "output_type": "display_data"
    },
    {
     "name": "stdout",
     "output_type": "stream",
     "text": [
      "=================== IST_fluid ======================\n"
     ]
    },
    {
     "data": {
      "text/plain": [
       "OrderedDict([('set_column_types', SetColumnTypes(X_types={})),\n",
       "             ('svm', SVR(kernel='linear')),\n",
       "             ('svm__C', 0.024007378584181956),\n",
       "             ('svm__epsilon', 0.01),\n",
       "             ('zscore', StandardScaler())])"
      ]
     },
     "metadata": {},
     "output_type": "display_data"
    },
    {
     "name": "stdout",
     "output_type": "stream",
     "text": [
      "=================== IST_fluid ======================\n"
     ]
    },
    {
     "data": {
      "text/plain": [
       "OrderedDict([('set_column_types', SetColumnTypes(X_types={})),\n",
       "             ('svm', SVR(kernel='linear')),\n",
       "             ('svm__C', 0.005921803347108019),\n",
       "             ('svm__epsilon', 3.0),\n",
       "             ('zscore', StandardScaler())])"
      ]
     },
     "metadata": {},
     "output_type": "display_data"
    },
    {
     "name": "stdout",
     "output_type": "stream",
     "text": [
      "=================== IST_fluid ======================\n"
     ]
    },
    {
     "data": {
      "text/plain": [
       "OrderedDict([('set_column_types', SetColumnTypes(X_types={})),\n",
       "             ('svm', SVR(kernel='linear')),\n",
       "             ('svm__C', 0.007761946486006972),\n",
       "             ('svm__epsilon', 3.0),\n",
       "             ('zscore', StandardScaler())])"
      ]
     },
     "metadata": {},
     "output_type": "display_data"
    },
    {
     "name": "stdout",
     "output_type": "stream",
     "text": [
      "=================== IST_fluid ======================\n"
     ]
    },
    {
     "data": {
      "text/plain": [
       "OrderedDict([('set_column_types', SetColumnTypes(X_types={})),\n",
       "             ('svm', SVR(kernel='linear')),\n",
       "             ('svm__C', 0.009686455897917246),\n",
       "             ('svm__epsilon', 0.01),\n",
       "             ('zscore', StandardScaler())])"
      ]
     },
     "metadata": {},
     "output_type": "display_data"
    },
    {
     "name": "stdout",
     "output_type": "stream",
     "text": [
      "=================== IST_fluid ======================\n"
     ]
    },
    {
     "data": {
      "text/plain": [
       "OrderedDict([('set_column_types', SetColumnTypes(X_types={})),\n",
       "             ('svm', SVR()),\n",
       "             ('svm__C', 0.3046007500812977),\n",
       "             ('svm__epsilon', 0.019573963649679307),\n",
       "             ('svm__gamma', 0.01),\n",
       "             ('svm__kernel', 'sigmoid'),\n",
       "             ('zscore', StandardScaler())])"
      ]
     },
     "metadata": {},
     "output_type": "display_data"
    },
    {
     "name": "stdout",
     "output_type": "stream",
     "text": [
      "=================== IST_fluid ======================\n"
     ]
    },
    {
     "data": {
      "text/plain": [
       "OrderedDict([('set_column_types', SetColumnTypes(X_types={})),\n",
       "             ('svm', SVR(kernel='linear')),\n",
       "             ('svm__C', 0.013654224552132086),\n",
       "             ('svm__epsilon', 3.0),\n",
       "             ('zscore', StandardScaler())])"
      ]
     },
     "metadata": {},
     "output_type": "display_data"
    },
    {
     "name": "stdout",
     "output_type": "stream",
     "text": [
      "=================== IST_fluid ======================\n"
     ]
    },
    {
     "data": {
      "text/plain": [
       "OrderedDict([('set_column_types', SetColumnTypes(X_types={})),\n",
       "             ('svm', SVR()),\n",
       "             ('svm__C', 1.0),\n",
       "             ('svm__epsilon', 0.2421652409801845),\n",
       "             ('svm__gamma', 'scale'),\n",
       "             ('svm__kernel', 'rbf'),\n",
       "             ('zscore', StandardScaler())])"
      ]
     },
     "metadata": {},
     "output_type": "display_data"
    },
    {
     "name": "stdout",
     "output_type": "stream",
     "text": [
      "=================== IST_fluid ======================\n"
     ]
    },
    {
     "data": {
      "text/plain": [
       "OrderedDict([('set_column_types', SetColumnTypes(X_types={})),\n",
       "             ('svm', SVR(kernel='linear')),\n",
       "             ('svm__C', 0.006913880256690474),\n",
       "             ('svm__epsilon', 0.010312281464428596),\n",
       "             ('zscore', StandardScaler())])"
      ]
     },
     "metadata": {},
     "output_type": "display_data"
    },
    {
     "name": "stdout",
     "output_type": "stream",
     "text": [
      "=================== IST_fluid ======================\n"
     ]
    },
    {
     "data": {
      "text/plain": [
       "OrderedDict([('set_column_types', SetColumnTypes(X_types={})),\n",
       "             ('svm', SVR()),\n",
       "             ('svm__C', 0.8628571553808386),\n",
       "             ('svm__epsilon', 0.04008741558683042),\n",
       "             ('svm__gamma', 'scale'),\n",
       "             ('svm__kernel', 'sigmoid'),\n",
       "             ('zscore', StandardScaler())])"
      ]
     },
     "metadata": {},
     "output_type": "display_data"
    },
    {
     "name": "stdout",
     "output_type": "stream",
     "text": [
      "=================== IST_fluid ======================\n"
     ]
    },
    {
     "data": {
      "text/plain": [
       "OrderedDict([('set_column_types', SetColumnTypes(X_types={})),\n",
       "             ('svm', SVR(kernel='linear')),\n",
       "             ('svm__C', 0.008086929143016265),\n",
       "             ('svm__epsilon', 0.01090460837248514),\n",
       "             ('zscore', StandardScaler())])"
      ]
     },
     "metadata": {},
     "output_type": "display_data"
    },
    {
     "name": "stdout",
     "output_type": "stream",
     "text": [
      "=================== IST_fluid ======================\n"
     ]
    },
    {
     "data": {
      "text/plain": [
       "OrderedDict([('set_column_types', SetColumnTypes(X_types={})),\n",
       "             ('svm', SVR(kernel='linear')),\n",
       "             ('svm__C', 0.010137749288382035),\n",
       "             ('svm__epsilon', 0.01),\n",
       "             ('zscore', StandardScaler())])"
      ]
     },
     "metadata": {},
     "output_type": "display_data"
    },
    {
     "name": "stdout",
     "output_type": "stream",
     "text": [
      "=================== IST_fluid ======================\n"
     ]
    },
    {
     "data": {
      "text/plain": [
       "OrderedDict([('set_column_types', SetColumnTypes(X_types={})),\n",
       "             ('svm', SVR(kernel='linear')),\n",
       "             ('svm__C', 0.00570240066304839),\n",
       "             ('svm__epsilon', 0.1471762070473268),\n",
       "             ('zscore', StandardScaler())])"
      ]
     },
     "metadata": {},
     "output_type": "display_data"
    },
    {
     "name": "stdout",
     "output_type": "stream",
     "text": [
      "=================== IST_fluid ======================\n"
     ]
    },
    {
     "data": {
      "text/plain": [
       "OrderedDict([('set_column_types', SetColumnTypes(X_types={})),\n",
       "             ('svm', SVR(kernel='linear')),\n",
       "             ('svm__C', 0.014378881683679899),\n",
       "             ('svm__epsilon', 0.010280665720360764),\n",
       "             ('zscore', StandardScaler())])"
      ]
     },
     "metadata": {},
     "output_type": "display_data"
    },
    {
     "name": "stdout",
     "output_type": "stream",
     "text": [
      "=================== IST_fluid ======================\n"
     ]
    },
    {
     "data": {
      "text/plain": [
       "OrderedDict([('set_column_types', SetColumnTypes(X_types={})),\n",
       "             ('svm', SVR()),\n",
       "             ('svm__C', 0.8022889402869255),\n",
       "             ('svm__epsilon', 1.3601348950810273),\n",
       "             ('svm__gamma', 0.01),\n",
       "             ('svm__kernel', 'sigmoid'),\n",
       "             ('zscore', StandardScaler())])"
      ]
     },
     "metadata": {},
     "output_type": "display_data"
    },
    {
     "name": "stdout",
     "output_type": "stream",
     "text": [
      "=================== IST_fluid ======================\n"
     ]
    },
    {
     "data": {
      "text/plain": [
       "OrderedDict([('set_column_types', SetColumnTypes(X_types={})),\n",
       "             ('svm', SVR(kernel='linear')),\n",
       "             ('svm__C', 0.007955511453250196),\n",
       "             ('svm__epsilon', 2.6071406259127876),\n",
       "             ('zscore', StandardScaler())])"
      ]
     },
     "metadata": {},
     "output_type": "display_data"
    },
    {
     "name": "stdout",
     "output_type": "stream",
     "text": [
      "=================== IST_fluid ======================\n"
     ]
    },
    {
     "data": {
      "text/plain": [
       "OrderedDict([('set_column_types', SetColumnTypes(X_types={})),\n",
       "             ('svm', SVR()),\n",
       "             ('svm__C', 0.2758544879013495),\n",
       "             ('svm__epsilon', 0.46736598650183164),\n",
       "             ('svm__gamma', 1e-05),\n",
       "             ('svm__kernel', 'rbf'),\n",
       "             ('zscore', StandardScaler())])"
      ]
     },
     "metadata": {},
     "output_type": "display_data"
    },
    {
     "name": "stdout",
     "output_type": "stream",
     "text": [
      "=================== IST_fluid ======================\n"
     ]
    },
    {
     "data": {
      "text/plain": [
       "OrderedDict([('set_column_types', SetColumnTypes(X_types={})),\n",
       "             ('svm', SVR(kernel='linear')),\n",
       "             ('svm__C', 0.01254021167729195),\n",
       "             ('svm__epsilon', 1.0544576490038282),\n",
       "             ('zscore', StandardScaler())])"
      ]
     },
     "metadata": {},
     "output_type": "display_data"
    },
    {
     "name": "stdout",
     "output_type": "stream",
     "text": [
      "=================== IST_fluid ======================\n"
     ]
    },
    {
     "data": {
      "text/plain": [
       "OrderedDict([('set_column_types', SetColumnTypes(X_types={})),\n",
       "             ('svm', SVR(kernel='linear')),\n",
       "             ('svm__C', 0.010989801719011904),\n",
       "             ('svm__epsilon', 0.01),\n",
       "             ('zscore', StandardScaler())])"
      ]
     },
     "metadata": {},
     "output_type": "display_data"
    },
    {
     "name": "stdout",
     "output_type": "stream",
     "text": [
      "=================== IST_fluid ======================\n"
     ]
    },
    {
     "data": {
      "text/plain": [
       "OrderedDict([('set_column_types', SetColumnTypes(X_types={})),\n",
       "             ('svm', SVR()),\n",
       "             ('svm__C', 1.0),\n",
       "             ('svm__epsilon', 0.01),\n",
       "             ('svm__gamma', 0.001),\n",
       "             ('svm__kernel', 'sigmoid'),\n",
       "             ('zscore', StandardScaler())])"
      ]
     },
     "metadata": {},
     "output_type": "display_data"
    },
    {
     "name": "stdout",
     "output_type": "stream",
     "text": [
      "=================== IST_fluid ======================\n"
     ]
    },
    {
     "data": {
      "text/plain": [
       "OrderedDict([('set_column_types', SetColumnTypes(X_types={})),\n",
       "             ('svm', SVR(kernel='linear')),\n",
       "             ('svm__C', 0.023153728890934835),\n",
       "             ('svm__epsilon', 3.0),\n",
       "             ('zscore', StandardScaler())])"
      ]
     },
     "metadata": {},
     "output_type": "display_data"
    },
    {
     "name": "stdout",
     "output_type": "stream",
     "text": [
      "=================== IST_fluid ======================\n"
     ]
    },
    {
     "data": {
      "text/plain": [
       "OrderedDict([('set_column_types', SetColumnTypes(X_types={})),\n",
       "             ('svm', SVR()),\n",
       "             ('svm__C', 1.0),\n",
       "             ('svm__epsilon', 0.01),\n",
       "             ('svm__gamma', 'scale'),\n",
       "             ('svm__kernel', 'sigmoid'),\n",
       "             ('zscore', StandardScaler())])"
      ]
     },
     "metadata": {},
     "output_type": "display_data"
    },
    {
     "name": "stdout",
     "output_type": "stream",
     "text": [
      "=================== IST_fluid ======================\n"
     ]
    },
    {
     "data": {
      "text/plain": [
       "OrderedDict([('set_column_types', SetColumnTypes(X_types={})),\n",
       "             ('svm', SVR()),\n",
       "             ('svm__C', 1.0),\n",
       "             ('svm__epsilon', 0.015676101602598178),\n",
       "             ('svm__gamma', 'auto'),\n",
       "             ('svm__kernel', 'rbf'),\n",
       "             ('zscore', StandardScaler())])"
      ]
     },
     "metadata": {},
     "output_type": "display_data"
    },
    {
     "name": "stdout",
     "output_type": "stream",
     "text": [
      "=================== IST_fluid ======================\n"
     ]
    },
    {
     "data": {
      "text/plain": [
       "OrderedDict([('set_column_types', SetColumnTypes(X_types={})),\n",
       "             ('svm', SVR(kernel='linear')),\n",
       "             ('svm__C', 0.013519699865113047),\n",
       "             ('svm__epsilon', 0.01),\n",
       "             ('zscore', StandardScaler())])"
      ]
     },
     "metadata": {},
     "output_type": "display_data"
    },
    {
     "name": "stdout",
     "output_type": "stream",
     "text": [
      "=================== IST_fluid ======================\n"
     ]
    },
    {
     "data": {
      "text/plain": [
       "OrderedDict([('set_column_types', SetColumnTypes(X_types={})),\n",
       "             ('svm', SVR(kernel='linear')),\n",
       "             ('svm__C', 0.014901286742036916),\n",
       "             ('svm__epsilon', 3.0),\n",
       "             ('zscore', StandardScaler())])"
      ]
     },
     "metadata": {},
     "output_type": "display_data"
    },
    {
     "name": "stdout",
     "output_type": "stream",
     "text": [
      "=================== IST_fluid ======================\n"
     ]
    },
    {
     "data": {
      "text/plain": [
       "OrderedDict([('set_column_types', SetColumnTypes(X_types={})),\n",
       "             ('svm', SVR(kernel='linear')),\n",
       "             ('svm__C', 0.015148703083218192),\n",
       "             ('svm__epsilon', 1.356075007322144),\n",
       "             ('zscore', StandardScaler())])"
      ]
     },
     "metadata": {},
     "output_type": "display_data"
    },
    {
     "name": "stdout",
     "output_type": "stream",
     "text": [
      "=================== IST_fluid ======================\n"
     ]
    },
    {
     "data": {
      "text/plain": [
       "OrderedDict([('set_column_types', SetColumnTypes(X_types={})),\n",
       "             ('svm', SVR()),\n",
       "             ('svm__C', 1.0),\n",
       "             ('svm__epsilon', 0.7952436917115814),\n",
       "             ('svm__gamma', 'scale'),\n",
       "             ('svm__kernel', 'sigmoid'),\n",
       "             ('zscore', StandardScaler())])"
      ]
     },
     "metadata": {},
     "output_type": "display_data"
    },
    {
     "name": "stdout",
     "output_type": "stream",
     "text": [
      "=================== IST_crystallised ======================\n"
     ]
    },
    {
     "data": {
      "text/plain": [
       "OrderedDict([('set_column_types', SetColumnTypes(X_types={})),\n",
       "             ('svm', SVR()),\n",
       "             ('svm__C', 0.6966769201771212),\n",
       "             ('svm__epsilon', 0.020199896043891833),\n",
       "             ('svm__gamma', 'scale'),\n",
       "             ('svm__kernel', 'sigmoid'),\n",
       "             ('zscore', StandardScaler())])"
      ]
     },
     "metadata": {},
     "output_type": "display_data"
    },
    {
     "name": "stdout",
     "output_type": "stream",
     "text": [
      "=================== IST_crystallised ======================\n"
     ]
    },
    {
     "data": {
      "text/plain": [
       "OrderedDict([('set_column_types', SetColumnTypes(X_types={})),\n",
       "             ('svm', SVR(kernel='linear')),\n",
       "             ('svm__C', 0.007024255280491271),\n",
       "             ('svm__epsilon', 2.893265976247215),\n",
       "             ('zscore', StandardScaler())])"
      ]
     },
     "metadata": {},
     "output_type": "display_data"
    },
    {
     "name": "stdout",
     "output_type": "stream",
     "text": [
      "=================== IST_crystallised ======================\n"
     ]
    },
    {
     "data": {
      "text/plain": [
       "OrderedDict([('set_column_types', SetColumnTypes(X_types={})),\n",
       "             ('svm', SVR(kernel='linear')),\n",
       "             ('svm__C', 0.011494819112004255),\n",
       "             ('svm__epsilon', 3.0),\n",
       "             ('zscore', StandardScaler())])"
      ]
     },
     "metadata": {},
     "output_type": "display_data"
    },
    {
     "name": "stdout",
     "output_type": "stream",
     "text": [
      "=================== IST_crystallised ======================\n"
     ]
    },
    {
     "data": {
      "text/plain": [
       "OrderedDict([('set_column_types', SetColumnTypes(X_types={})),\n",
       "             ('svm', SVR(kernel='linear')),\n",
       "             ('svm__C', 0.0077718398943968075),\n",
       "             ('svm__epsilon', 3.0),\n",
       "             ('zscore', StandardScaler())])"
      ]
     },
     "metadata": {},
     "output_type": "display_data"
    },
    {
     "name": "stdout",
     "output_type": "stream",
     "text": [
      "=================== IST_crystallised ======================\n"
     ]
    },
    {
     "data": {
      "text/plain": [
       "OrderedDict([('set_column_types', SetColumnTypes(X_types={})),\n",
       "             ('svm', SVR(kernel='linear')),\n",
       "             ('svm__C', 0.003365235828501567),\n",
       "             ('svm__epsilon', 3.0),\n",
       "             ('zscore', StandardScaler())])"
      ]
     },
     "metadata": {},
     "output_type": "display_data"
    },
    {
     "name": "stdout",
     "output_type": "stream",
     "text": [
      "=================== IST_crystallised ======================\n"
     ]
    },
    {
     "data": {
      "text/plain": [
       "OrderedDict([('set_column_types', SetColumnTypes(X_types={})),\n",
       "             ('svm', SVR(kernel='linear')),\n",
       "             ('svm__C', 0.007688984683487164),\n",
       "             ('svm__epsilon', 3.0),\n",
       "             ('zscore', StandardScaler())])"
      ]
     },
     "metadata": {},
     "output_type": "display_data"
    },
    {
     "name": "stdout",
     "output_type": "stream",
     "text": [
      "=================== IST_crystallised ======================\n"
     ]
    },
    {
     "data": {
      "text/plain": [
       "OrderedDict([('set_column_types', SetColumnTypes(X_types={})),\n",
       "             ('svm', SVR(kernel='linear')),\n",
       "             ('svm__C', 0.0057247961998437525),\n",
       "             ('svm__epsilon', 3.0),\n",
       "             ('zscore', StandardScaler())])"
      ]
     },
     "metadata": {},
     "output_type": "display_data"
    },
    {
     "name": "stdout",
     "output_type": "stream",
     "text": [
      "=================== IST_crystallised ======================\n"
     ]
    },
    {
     "data": {
      "text/plain": [
       "OrderedDict([('set_column_types', SetColumnTypes(X_types={})),\n",
       "             ('svm', SVR(kernel='linear')),\n",
       "             ('svm__C', 0.009022739952480478),\n",
       "             ('svm__epsilon', 3.0),\n",
       "             ('zscore', StandardScaler())])"
      ]
     },
     "metadata": {},
     "output_type": "display_data"
    },
    {
     "name": "stdout",
     "output_type": "stream",
     "text": [
      "=================== IST_crystallised ======================\n"
     ]
    },
    {
     "data": {
      "text/plain": [
       "OrderedDict([('set_column_types', SetColumnTypes(X_types={})),\n",
       "             ('svm', SVR(kernel='linear')),\n",
       "             ('svm__C', 0.006712739924715965),\n",
       "             ('svm__epsilon', 2.6769430868444606),\n",
       "             ('zscore', StandardScaler())])"
      ]
     },
     "metadata": {},
     "output_type": "display_data"
    },
    {
     "name": "stdout",
     "output_type": "stream",
     "text": [
      "=================== IST_crystallised ======================\n"
     ]
    },
    {
     "data": {
      "text/plain": [
       "OrderedDict([('set_column_types', SetColumnTypes(X_types={})),\n",
       "             ('svm', SVR(kernel='linear')),\n",
       "             ('svm__C', 0.004039129991844368),\n",
       "             ('svm__epsilon', 0.01),\n",
       "             ('zscore', StandardScaler())])"
      ]
     },
     "metadata": {},
     "output_type": "display_data"
    },
    {
     "name": "stdout",
     "output_type": "stream",
     "text": [
      "=================== IST_crystallised ======================\n"
     ]
    },
    {
     "data": {
      "text/plain": [
       "OrderedDict([('set_column_types', SetColumnTypes(X_types={})),\n",
       "             ('svm', SVR()),\n",
       "             ('svm__C', 0.9519481622693049),\n",
       "             ('svm__epsilon', 2.4290908637388027),\n",
       "             ('svm__gamma', 'scale'),\n",
       "             ('svm__kernel', 'sigmoid'),\n",
       "             ('zscore', StandardScaler())])"
      ]
     },
     "metadata": {},
     "output_type": "display_data"
    },
    {
     "name": "stdout",
     "output_type": "stream",
     "text": [
      "=================== IST_crystallised ======================\n"
     ]
    },
    {
     "data": {
      "text/plain": [
       "OrderedDict([('set_column_types', SetColumnTypes(X_types={})),\n",
       "             ('svm', SVR(kernel='linear')),\n",
       "             ('svm__C', 0.0045637380294504485),\n",
       "             ('svm__epsilon', 3.0),\n",
       "             ('zscore', StandardScaler())])"
      ]
     },
     "metadata": {},
     "output_type": "display_data"
    },
    {
     "name": "stdout",
     "output_type": "stream",
     "text": [
      "=================== IST_crystallised ======================\n"
     ]
    },
    {
     "data": {
      "text/plain": [
       "OrderedDict([('set_column_types', SetColumnTypes(X_types={})),\n",
       "             ('svm', SVR(kernel='linear')),\n",
       "             ('svm__C', 0.010179903227961577),\n",
       "             ('svm__epsilon', 3.0),\n",
       "             ('zscore', StandardScaler())])"
      ]
     },
     "metadata": {},
     "output_type": "display_data"
    },
    {
     "name": "stdout",
     "output_type": "stream",
     "text": [
      "=================== IST_crystallised ======================\n"
     ]
    },
    {
     "data": {
      "text/plain": [
       "OrderedDict([('set_column_types', SetColumnTypes(X_types={})),\n",
       "             ('svm', SVR()),\n",
       "             ('svm__C', 1.0),\n",
       "             ('svm__epsilon', 0.036739457975749915),\n",
       "             ('svm__gamma', 'scale'),\n",
       "             ('svm__kernel', 'sigmoid'),\n",
       "             ('zscore', StandardScaler())])"
      ]
     },
     "metadata": {},
     "output_type": "display_data"
    },
    {
     "name": "stdout",
     "output_type": "stream",
     "text": [
      "=================== IST_crystallised ======================\n"
     ]
    },
    {
     "data": {
      "text/plain": [
       "OrderedDict([('set_column_types', SetColumnTypes(X_types={})),\n",
       "             ('svm', SVR()),\n",
       "             ('svm__C', 0.23430892088642588),\n",
       "             ('svm__epsilon', 0.03637441256523575),\n",
       "             ('svm__gamma', 0.01),\n",
       "             ('svm__kernel', 'sigmoid'),\n",
       "             ('zscore', StandardScaler())])"
      ]
     },
     "metadata": {},
     "output_type": "display_data"
    },
    {
     "name": "stdout",
     "output_type": "stream",
     "text": [
      "=================== IST_crystallised ======================\n"
     ]
    },
    {
     "data": {
      "text/plain": [
       "OrderedDict([('set_column_types', SetColumnTypes(X_types={})),\n",
       "             ('svm', SVR(kernel='linear')),\n",
       "             ('svm__C', 0.006790179203256423),\n",
       "             ('svm__epsilon', 3.0),\n",
       "             ('zscore', StandardScaler())])"
      ]
     },
     "metadata": {},
     "output_type": "display_data"
    },
    {
     "name": "stdout",
     "output_type": "stream",
     "text": [
      "=================== IST_crystallised ======================\n"
     ]
    },
    {
     "data": {
      "text/plain": [
       "OrderedDict([('set_column_types', SetColumnTypes(X_types={})),\n",
       "             ('svm', SVR()),\n",
       "             ('svm__C', 1.0),\n",
       "             ('svm__epsilon', 0.0261379131958976),\n",
       "             ('svm__gamma', 'scale'),\n",
       "             ('svm__kernel', 'sigmoid'),\n",
       "             ('zscore', StandardScaler())])"
      ]
     },
     "metadata": {},
     "output_type": "display_data"
    },
    {
     "name": "stdout",
     "output_type": "stream",
     "text": [
      "=================== IST_crystallised ======================\n"
     ]
    },
    {
     "data": {
      "text/plain": [
       "OrderedDict([('set_column_types', SetColumnTypes(X_types={})),\n",
       "             ('svm', SVR(kernel='linear')),\n",
       "             ('svm__C', 0.00610330945573747),\n",
       "             ('svm__epsilon', 3.0),\n",
       "             ('zscore', StandardScaler())])"
      ]
     },
     "metadata": {},
     "output_type": "display_data"
    },
    {
     "name": "stdout",
     "output_type": "stream",
     "text": [
      "=================== IST_crystallised ======================\n"
     ]
    },
    {
     "data": {
      "text/plain": [
       "OrderedDict([('set_column_types', SetColumnTypes(X_types={})),\n",
       "             ('svm', SVR(kernel='linear')),\n",
       "             ('svm__C', 0.008511061042557506),\n",
       "             ('svm__epsilon', 3.0),\n",
       "             ('zscore', StandardScaler())])"
      ]
     },
     "metadata": {},
     "output_type": "display_data"
    },
    {
     "name": "stdout",
     "output_type": "stream",
     "text": [
      "=================== IST_crystallised ======================\n"
     ]
    },
    {
     "data": {
      "text/plain": [
       "OrderedDict([('set_column_types', SetColumnTypes(X_types={})),\n",
       "             ('svm', SVR(kernel='linear')),\n",
       "             ('svm__C', 0.008215225090288972),\n",
       "             ('svm__epsilon', 3.0),\n",
       "             ('zscore', StandardScaler())])"
      ]
     },
     "metadata": {},
     "output_type": "display_data"
    },
    {
     "name": "stdout",
     "output_type": "stream",
     "text": [
      "=================== IST_crystallised ======================\n"
     ]
    },
    {
     "data": {
      "text/plain": [
       "OrderedDict([('set_column_types', SetColumnTypes(X_types={})),\n",
       "             ('svm', SVR(kernel='linear')),\n",
       "             ('svm__C', 0.004151358360868755),\n",
       "             ('svm__epsilon', 0.01),\n",
       "             ('zscore', StandardScaler())])"
      ]
     },
     "metadata": {},
     "output_type": "display_data"
    },
    {
     "name": "stdout",
     "output_type": "stream",
     "text": [
      "=================== IST_crystallised ======================\n"
     ]
    },
    {
     "data": {
      "text/plain": [
       "OrderedDict([('set_column_types', SetColumnTypes(X_types={})),\n",
       "             ('svm', SVR(kernel='linear')),\n",
       "             ('svm__C', 0.006909073196628203),\n",
       "             ('svm__epsilon', 2.9073644708009123),\n",
       "             ('zscore', StandardScaler())])"
      ]
     },
     "metadata": {},
     "output_type": "display_data"
    },
    {
     "name": "stdout",
     "output_type": "stream",
     "text": [
      "=================== IST_crystallised ======================\n"
     ]
    },
    {
     "data": {
      "text/plain": [
       "OrderedDict([('set_column_types', SetColumnTypes(X_types={})),\n",
       "             ('svm', SVR(kernel='linear')),\n",
       "             ('svm__C', 0.0069590330991916045),\n",
       "             ('svm__epsilon', 2.768475890274406),\n",
       "             ('zscore', StandardScaler())])"
      ]
     },
     "metadata": {},
     "output_type": "display_data"
    },
    {
     "name": "stdout",
     "output_type": "stream",
     "text": [
      "=================== IST_crystallised ======================\n"
     ]
    },
    {
     "data": {
      "text/plain": [
       "OrderedDict([('set_column_types', SetColumnTypes(X_types={})),\n",
       "             ('svm', SVR(kernel='linear')),\n",
       "             ('svm__C', 0.006831818833803322),\n",
       "             ('svm__epsilon', 0.5369739860223675),\n",
       "             ('zscore', StandardScaler())])"
      ]
     },
     "metadata": {},
     "output_type": "display_data"
    },
    {
     "name": "stdout",
     "output_type": "stream",
     "text": [
      "=================== IST_crystallised ======================\n"
     ]
    },
    {
     "data": {
      "text/plain": [
       "OrderedDict([('set_column_types', SetColumnTypes(X_types={})),\n",
       "             ('svm', SVR(kernel='linear')),\n",
       "             ('svm__C', 0.006281104590315651),\n",
       "             ('svm__epsilon', 3.0),\n",
       "             ('zscore', StandardScaler())])"
      ]
     },
     "metadata": {},
     "output_type": "display_data"
    },
    {
     "name": "stdout",
     "output_type": "stream",
     "text": [
      "=================== IST_crystallised ======================\n"
     ]
    },
    {
     "data": {
      "text/plain": [
       "OrderedDict([('set_column_types', SetColumnTypes(X_types={})),\n",
       "             ('svm', SVR()),\n",
       "             ('svm__C', 0.2656867669027696),\n",
       "             ('svm__epsilon', 1.0292518362638894),\n",
       "             ('svm__gamma', 0.01),\n",
       "             ('svm__kernel', 'sigmoid'),\n",
       "             ('zscore', StandardScaler())])"
      ]
     },
     "metadata": {},
     "output_type": "display_data"
    },
    {
     "name": "stdout",
     "output_type": "stream",
     "text": [
      "=================== IST_crystallised ======================\n"
     ]
    },
    {
     "data": {
      "text/plain": [
       "OrderedDict([('set_column_types', SetColumnTypes(X_types={})),\n",
       "             ('svm', SVR(kernel='linear')),\n",
       "             ('svm__C', 0.00961801470725641),\n",
       "             ('svm__epsilon', 3.0),\n",
       "             ('zscore', StandardScaler())])"
      ]
     },
     "metadata": {},
     "output_type": "display_data"
    },
    {
     "name": "stdout",
     "output_type": "stream",
     "text": [
      "=================== IST_crystallised ======================\n"
     ]
    },
    {
     "data": {
      "text/plain": [
       "OrderedDict([('set_column_types', SetColumnTypes(X_types={})),\n",
       "             ('svm', SVR()),\n",
       "             ('svm__C', 0.9652180327515371),\n",
       "             ('svm__epsilon', 0.027225783987889204),\n",
       "             ('svm__gamma', 'scale'),\n",
       "             ('svm__kernel', 'sigmoid'),\n",
       "             ('zscore', StandardScaler())])"
      ]
     },
     "metadata": {},
     "output_type": "display_data"
    },
    {
     "name": "stdout",
     "output_type": "stream",
     "text": [
      "=================== IST_crystallised ======================\n"
     ]
    },
    {
     "data": {
      "text/plain": [
       "OrderedDict([('set_column_types', SetColumnTypes(X_types={})),\n",
       "             ('svm', SVR(kernel='linear')),\n",
       "             ('svm__C', 0.00392131571447307),\n",
       "             ('svm__epsilon', 0.01),\n",
       "             ('zscore', StandardScaler())])"
      ]
     },
     "metadata": {},
     "output_type": "display_data"
    },
    {
     "name": "stdout",
     "output_type": "stream",
     "text": [
      "=================== IST_crystallised ======================\n"
     ]
    },
    {
     "data": {
      "text/plain": [
       "OrderedDict([('set_column_types', SetColumnTypes(X_types={})),\n",
       "             ('svm', SVR(kernel='linear')),\n",
       "             ('svm__C', 0.010046289374872452),\n",
       "             ('svm__epsilon', 3.0),\n",
       "             ('zscore', StandardScaler())])"
      ]
     },
     "metadata": {},
     "output_type": "display_data"
    },
    {
     "name": "stdout",
     "output_type": "stream",
     "text": [
      "=================== IST_memory ======================\n"
     ]
    },
    {
     "data": {
      "text/plain": [
       "OrderedDict([('set_column_types', SetColumnTypes(X_types={})),\n",
       "             ('svm', SVR()),\n",
       "             ('svm__C', 0.6936926868065226),\n",
       "             ('svm__epsilon', 0.0219148657514569),\n",
       "             ('svm__gamma', 'auto'),\n",
       "             ('svm__kernel', 'sigmoid'),\n",
       "             ('zscore', StandardScaler())])"
      ]
     },
     "metadata": {},
     "output_type": "display_data"
    },
    {
     "name": "stdout",
     "output_type": "stream",
     "text": [
      "=================== IST_memory ======================\n"
     ]
    },
    {
     "data": {
      "text/plain": [
       "OrderedDict([('set_column_types', SetColumnTypes(X_types={})),\n",
       "             ('svm', SVR(kernel='linear')),\n",
       "             ('svm__C', 0.006472728942454138),\n",
       "             ('svm__epsilon', 2.8142331504993456),\n",
       "             ('zscore', StandardScaler())])"
      ]
     },
     "metadata": {},
     "output_type": "display_data"
    },
    {
     "name": "stdout",
     "output_type": "stream",
     "text": [
      "=================== IST_memory ======================\n"
     ]
    },
    {
     "data": {
      "text/plain": [
       "OrderedDict([('set_column_types', SetColumnTypes(X_types={})),\n",
       "             ('svm', SVR()),\n",
       "             ('svm__C', 1e-06),\n",
       "             ('svm__epsilon', 1.4998701034119237),\n",
       "             ('svm__gamma', 'auto'),\n",
       "             ('svm__kernel', 'sigmoid'),\n",
       "             ('zscore', StandardScaler())])"
      ]
     },
     "metadata": {},
     "output_type": "display_data"
    },
    {
     "name": "stdout",
     "output_type": "stream",
     "text": [
      "=================== IST_memory ======================\n"
     ]
    },
    {
     "data": {
      "text/plain": [
       "OrderedDict([('set_column_types', SetColumnTypes(X_types={})),\n",
       "             ('svm', SVR(kernel='linear')),\n",
       "             ('svm__C', 0.006038255033085339),\n",
       "             ('svm__epsilon', 0.01),\n",
       "             ('zscore', StandardScaler())])"
      ]
     },
     "metadata": {},
     "output_type": "display_data"
    },
    {
     "name": "stdout",
     "output_type": "stream",
     "text": [
      "=================== IST_memory ======================\n"
     ]
    },
    {
     "data": {
      "text/plain": [
       "OrderedDict([('set_column_types', SetColumnTypes(X_types={})),\n",
       "             ('svm', SVR()),\n",
       "             ('svm__C', 1.0),\n",
       "             ('svm__epsilon', 3.0),\n",
       "             ('svm__gamma', 'scale'),\n",
       "             ('svm__kernel', 'rbf'),\n",
       "             ('zscore', StandardScaler())])"
      ]
     },
     "metadata": {},
     "output_type": "display_data"
    },
    {
     "name": "stdout",
     "output_type": "stream",
     "text": [
      "=================== IST_memory ======================\n"
     ]
    },
    {
     "data": {
      "text/plain": [
       "OrderedDict([('set_column_types', SetColumnTypes(X_types={})),\n",
       "             ('svm', SVR()),\n",
       "             ('svm__C', 0.18933582262312904),\n",
       "             ('svm__epsilon', 1.1971003020108901),\n",
       "             ('svm__gamma', 0.01),\n",
       "             ('svm__kernel', 'sigmoid'),\n",
       "             ('zscore', StandardScaler())])"
      ]
     },
     "metadata": {},
     "output_type": "display_data"
    },
    {
     "name": "stdout",
     "output_type": "stream",
     "text": [
      "=================== IST_memory ======================\n"
     ]
    },
    {
     "data": {
      "text/plain": [
       "OrderedDict([('set_column_types', SetColumnTypes(X_types={})),\n",
       "             ('svm', SVR(kernel='linear')),\n",
       "             ('svm__C', 0.002583894798649753),\n",
       "             ('svm__epsilon', 0.33004904992016953),\n",
       "             ('zscore', StandardScaler())])"
      ]
     },
     "metadata": {},
     "output_type": "display_data"
    },
    {
     "name": "stdout",
     "output_type": "stream",
     "text": [
      "=================== IST_memory ======================\n"
     ]
    },
    {
     "data": {
      "text/plain": [
       "OrderedDict([('set_column_types', SetColumnTypes(X_types={})),\n",
       "             ('svm', SVR(kernel='linear')),\n",
       "             ('svm__C', 0.004987760284396894),\n",
       "             ('svm__epsilon', 3.0),\n",
       "             ('zscore', StandardScaler())])"
      ]
     },
     "metadata": {},
     "output_type": "display_data"
    },
    {
     "name": "stdout",
     "output_type": "stream",
     "text": [
      "=================== IST_memory ======================\n"
     ]
    },
    {
     "data": {
      "text/plain": [
       "OrderedDict([('set_column_types', SetColumnTypes(X_types={})),\n",
       "             ('svm', SVR(kernel='linear')),\n",
       "             ('svm__C', 0.0068093165687753855),\n",
       "             ('svm__epsilon', 2.6669216269341995),\n",
       "             ('zscore', StandardScaler())])"
      ]
     },
     "metadata": {},
     "output_type": "display_data"
    },
    {
     "name": "stdout",
     "output_type": "stream",
     "text": [
      "=================== IST_memory ======================\n"
     ]
    },
    {
     "data": {
      "text/plain": [
       "OrderedDict([('set_column_types', SetColumnTypes(X_types={})),\n",
       "             ('svm', SVR()),\n",
       "             ('svm__C', 1.0),\n",
       "             ('svm__epsilon', 0.696083134413904),\n",
       "             ('svm__gamma', 'auto'),\n",
       "             ('svm__kernel', 'sigmoid'),\n",
       "             ('zscore', StandardScaler())])"
      ]
     },
     "metadata": {},
     "output_type": "display_data"
    },
    {
     "name": "stdout",
     "output_type": "stream",
     "text": [
      "=================== IST_memory ======================\n"
     ]
    },
    {
     "data": {
      "text/plain": [
       "OrderedDict([('set_column_types', SetColumnTypes(X_types={})),\n",
       "             ('svm', SVR(kernel='linear')),\n",
       "             ('svm__C', 0.004108400393728129),\n",
       "             ('svm__epsilon', 0.043090208261199844),\n",
       "             ('zscore', StandardScaler())])"
      ]
     },
     "metadata": {},
     "output_type": "display_data"
    },
    {
     "name": "stdout",
     "output_type": "stream",
     "text": [
      "=================== IST_memory ======================\n"
     ]
    },
    {
     "data": {
      "text/plain": [
       "OrderedDict([('set_column_types', SetColumnTypes(X_types={})),\n",
       "             ('svm', SVR()),\n",
       "             ('svm__C', 1.0),\n",
       "             ('svm__epsilon', 0.03179946322278694),\n",
       "             ('svm__gamma', 0.001),\n",
       "             ('svm__kernel', 'rbf'),\n",
       "             ('zscore', StandardScaler())])"
      ]
     },
     "metadata": {},
     "output_type": "display_data"
    },
    {
     "name": "stdout",
     "output_type": "stream",
     "text": [
      "=================== IST_memory ======================\n"
     ]
    },
    {
     "data": {
      "text/plain": [
       "OrderedDict([('set_column_types', SetColumnTypes(X_types={})),\n",
       "             ('svm', SVR()),\n",
       "             ('svm__C', 0.9626858361911309),\n",
       "             ('svm__epsilon', 0.31283903573874966),\n",
       "             ('svm__gamma', 'auto'),\n",
       "             ('svm__kernel', 'rbf'),\n",
       "             ('zscore', StandardScaler())])"
      ]
     },
     "metadata": {},
     "output_type": "display_data"
    },
    {
     "name": "stdout",
     "output_type": "stream",
     "text": [
      "=================== IST_memory ======================\n"
     ]
    },
    {
     "data": {
      "text/plain": [
       "OrderedDict([('set_column_types', SetColumnTypes(X_types={})),\n",
       "             ('svm', SVR(kernel='linear')),\n",
       "             ('svm__C', 0.001956559449384699),\n",
       "             ('svm__epsilon', 0.10413001458195391),\n",
       "             ('zscore', StandardScaler())])"
      ]
     },
     "metadata": {},
     "output_type": "display_data"
    },
    {
     "name": "stdout",
     "output_type": "stream",
     "text": [
      "=================== IST_memory ======================\n"
     ]
    },
    {
     "data": {
      "text/plain": [
       "OrderedDict([('set_column_types', SetColumnTypes(X_types={})),\n",
       "             ('svm', SVR(kernel='linear')),\n",
       "             ('svm__C', 0.004011163369764607),\n",
       "             ('svm__epsilon', 0.01),\n",
       "             ('zscore', StandardScaler())])"
      ]
     },
     "metadata": {},
     "output_type": "display_data"
    },
    {
     "name": "stdout",
     "output_type": "stream",
     "text": [
      "=================== IST_memory ======================\n"
     ]
    },
    {
     "data": {
      "text/plain": [
       "OrderedDict([('set_column_types', SetColumnTypes(X_types={})),\n",
       "             ('svm', SVR()),\n",
       "             ('svm__C', 0.5658780217162579),\n",
       "             ('svm__epsilon', 0.12455804953337443),\n",
       "             ('svm__gamma', 0.001),\n",
       "             ('svm__kernel', 'rbf'),\n",
       "             ('zscore', StandardScaler())])"
      ]
     },
     "metadata": {},
     "output_type": "display_data"
    },
    {
     "name": "stdout",
     "output_type": "stream",
     "text": [
      "=================== IST_memory ======================\n"
     ]
    },
    {
     "data": {
      "text/plain": [
       "OrderedDict([('set_column_types', SetColumnTypes(X_types={})),\n",
       "             ('svm', SVR(kernel='linear')),\n",
       "             ('svm__C', 0.005861412008840129),\n",
       "             ('svm__epsilon', 0.1387670234646079),\n",
       "             ('zscore', StandardScaler())])"
      ]
     },
     "metadata": {},
     "output_type": "display_data"
    },
    {
     "name": "stdout",
     "output_type": "stream",
     "text": [
      "=================== IST_memory ======================\n"
     ]
    },
    {
     "data": {
      "text/plain": [
       "OrderedDict([('set_column_types', SetColumnTypes(X_types={})),\n",
       "             ('svm', SVR(kernel='linear')),\n",
       "             ('svm__C', 0.003364660667942799),\n",
       "             ('svm__epsilon', 2.330705801519328),\n",
       "             ('zscore', StandardScaler())])"
      ]
     },
     "metadata": {},
     "output_type": "display_data"
    },
    {
     "name": "stdout",
     "output_type": "stream",
     "text": [
      "=================== IST_memory ======================\n"
     ]
    },
    {
     "data": {
      "text/plain": [
       "OrderedDict([('set_column_types', SetColumnTypes(X_types={})),\n",
       "             ('svm', SVR(kernel='linear')),\n",
       "             ('svm__C', 0.01133024902916116),\n",
       "             ('svm__epsilon', 3.0),\n",
       "             ('zscore', StandardScaler())])"
      ]
     },
     "metadata": {},
     "output_type": "display_data"
    },
    {
     "name": "stdout",
     "output_type": "stream",
     "text": [
      "=================== IST_memory ======================\n"
     ]
    },
    {
     "data": {
      "text/plain": [
       "OrderedDict([('set_column_types', SetColumnTypes(X_types={})),\n",
       "             ('svm', SVR()),\n",
       "             ('svm__C', 0.3083922406021721),\n",
       "             ('svm__epsilon', 0.01),\n",
       "             ('svm__gamma', 0.01),\n",
       "             ('svm__kernel', 'sigmoid'),\n",
       "             ('zscore', StandardScaler())])"
      ]
     },
     "metadata": {},
     "output_type": "display_data"
    },
    {
     "name": "stdout",
     "output_type": "stream",
     "text": [
      "=================== IST_memory ======================\n"
     ]
    },
    {
     "data": {
      "text/plain": [
       "OrderedDict([('set_column_types', SetColumnTypes(X_types={})),\n",
       "             ('svm', SVR(kernel='linear')),\n",
       "             ('svm__C', 0.0023443396017453965),\n",
       "             ('svm__epsilon', 0.01),\n",
       "             ('zscore', StandardScaler())])"
      ]
     },
     "metadata": {},
     "output_type": "display_data"
    },
    {
     "name": "stdout",
     "output_type": "stream",
     "text": [
      "=================== IST_memory ======================\n"
     ]
    },
    {
     "data": {
      "text/plain": [
       "OrderedDict([('set_column_types', SetColumnTypes(X_types={})),\n",
       "             ('svm', SVR(kernel='linear')),\n",
       "             ('svm__C', 0.0026413839474998106),\n",
       "             ('svm__epsilon', 0.01),\n",
       "             ('zscore', StandardScaler())])"
      ]
     },
     "metadata": {},
     "output_type": "display_data"
    },
    {
     "name": "stdout",
     "output_type": "stream",
     "text": [
      "=================== IST_memory ======================\n"
     ]
    },
    {
     "data": {
      "text/plain": [
       "OrderedDict([('set_column_types', SetColumnTypes(X_types={})),\n",
       "             ('svm', SVR(kernel='linear')),\n",
       "             ('svm__C', 0.002801981806047091),\n",
       "             ('svm__epsilon', 3.0),\n",
       "             ('zscore', StandardScaler())])"
      ]
     },
     "metadata": {},
     "output_type": "display_data"
    },
    {
     "name": "stdout",
     "output_type": "stream",
     "text": [
      "=================== IST_memory ======================\n"
     ]
    },
    {
     "data": {
      "text/plain": [
       "OrderedDict([('set_column_types', SetColumnTypes(X_types={})),\n",
       "             ('svm', SVR(kernel='linear')),\n",
       "             ('svm__C', 0.003387043978619548),\n",
       "             ('svm__epsilon', 0.01),\n",
       "             ('zscore', StandardScaler())])"
      ]
     },
     "metadata": {},
     "output_type": "display_data"
    },
    {
     "name": "stdout",
     "output_type": "stream",
     "text": [
      "=================== IST_memory ======================\n"
     ]
    },
    {
     "data": {
      "text/plain": [
       "OrderedDict([('set_column_types', SetColumnTypes(X_types={})),\n",
       "             ('svm', SVR(kernel='linear')),\n",
       "             ('svm__C', 0.0012685914327904121),\n",
       "             ('svm__epsilon', 0.01),\n",
       "             ('zscore', StandardScaler())])"
      ]
     },
     "metadata": {},
     "output_type": "display_data"
    },
    {
     "name": "stdout",
     "output_type": "stream",
     "text": [
      "=================== IST_memory ======================\n"
     ]
    },
    {
     "data": {
      "text/plain": [
       "OrderedDict([('set_column_types', SetColumnTypes(X_types={})),\n",
       "             ('svm', SVR()),\n",
       "             ('svm__C', 0.13413754979524578),\n",
       "             ('svm__epsilon', 0.7341362613429127),\n",
       "             ('svm__gamma', 0.01),\n",
       "             ('svm__kernel', 'sigmoid'),\n",
       "             ('zscore', StandardScaler())])"
      ]
     },
     "metadata": {},
     "output_type": "display_data"
    },
    {
     "name": "stdout",
     "output_type": "stream",
     "text": [
      "=================== IST_memory ======================\n"
     ]
    },
    {
     "data": {
      "text/plain": [
       "OrderedDict([('set_column_types', SetColumnTypes(X_types={})),\n",
       "             ('svm', SVR(kernel='linear')),\n",
       "             ('svm__C', 0.007273787284841777),\n",
       "             ('svm__epsilon', 0.01),\n",
       "             ('zscore', StandardScaler())])"
      ]
     },
     "metadata": {},
     "output_type": "display_data"
    },
    {
     "name": "stdout",
     "output_type": "stream",
     "text": [
      "=================== IST_memory ======================\n"
     ]
    },
    {
     "data": {
      "text/plain": [
       "OrderedDict([('set_column_types', SetColumnTypes(X_types={})),\n",
       "             ('svm', SVR(kernel='linear')),\n",
       "             ('svm__C', 0.006571932914399092),\n",
       "             ('svm__epsilon', 2.969566667415153),\n",
       "             ('zscore', StandardScaler())])"
      ]
     },
     "metadata": {},
     "output_type": "display_data"
    },
    {
     "name": "stdout",
     "output_type": "stream",
     "text": [
      "=================== IST_memory ======================\n"
     ]
    },
    {
     "data": {
      "text/plain": [
       "OrderedDict([('set_column_types', SetColumnTypes(X_types={})),\n",
       "             ('svm', SVR()),\n",
       "             ('svm__C', 5.0244006309530684e-06),\n",
       "             ('svm__epsilon', 0.9992209333884637),\n",
       "             ('svm__gamma', 'scale'),\n",
       "             ('svm__kernel', 'sigmoid'),\n",
       "             ('zscore', StandardScaler())])"
      ]
     },
     "metadata": {},
     "output_type": "display_data"
    },
    {
     "name": "stdout",
     "output_type": "stream",
     "text": [
      "=================== IST_memory ======================\n"
     ]
    },
    {
     "data": {
      "text/plain": [
       "OrderedDict([('set_column_types', SetColumnTypes(X_types={})),\n",
       "             ('svm', SVR(kernel='linear')),\n",
       "             ('svm__C', 0.002584066860207503),\n",
       "             ('svm__epsilon', 3.0),\n",
       "             ('zscore', StandardScaler())])"
      ]
     },
     "metadata": {},
     "output_type": "display_data"
    }
   ],
   "source": [
    "for y in targets:\n",
    "    for est in scores_dict[y]['SVM'].estimator:\n",
    "        print(\"=================== \" + y + \" ======================\")\n",
    "        display(est.best_params_)"
   ]
  },
  {
   "cell_type": "code",
   "execution_count": 19,
   "metadata": {},
   "outputs": [
    {
     "data": {
      "application/javascript": "(function(root) {\n  function now() {\n    return new Date();\n  }\n\n  var force = true;\n  var py_version = '3.4.1'.replace('rc', '-rc.').replace('.dev', '-dev.');\n  var reloading = false;\n  var Bokeh = root.Bokeh;\n\n  if (typeof (root._bokeh_timeout) === \"undefined\" || force) {\n    root._bokeh_timeout = Date.now() + 5000;\n    root._bokeh_failed_load = false;\n  }\n\n  function run_callbacks() {\n    try {\n      root._bokeh_onload_callbacks.forEach(function(callback) {\n        if (callback != null)\n          callback();\n      });\n    } finally {\n      delete root._bokeh_onload_callbacks;\n    }\n    console.debug(\"Bokeh: all callbacks have finished\");\n  }\n\n  function load_libs(css_urls, js_urls, js_modules, js_exports, callback) {\n    if (css_urls == null) css_urls = [];\n    if (js_urls == null) js_urls = [];\n    if (js_modules == null) js_modules = [];\n    if (js_exports == null) js_exports = {};\n\n    root._bokeh_onload_callbacks.push(callback);\n\n    if (root._bokeh_is_loading > 0) {\n      console.debug(\"Bokeh: BokehJS is being loaded, scheduling callback at\", now());\n      return null;\n    }\n    if (js_urls.length === 0 && js_modules.length === 0 && Object.keys(js_exports).length === 0) {\n      run_callbacks();\n      return null;\n    }\n    if (!reloading) {\n      console.debug(\"Bokeh: BokehJS not loaded, scheduling load and callback at\", now());\n    }\n\n    function on_load() {\n      root._bokeh_is_loading--;\n      if (root._bokeh_is_loading === 0) {\n        console.debug(\"Bokeh: all BokehJS libraries/stylesheets loaded\");\n        run_callbacks()\n      }\n    }\n    window._bokeh_on_load = on_load\n\n    function on_error() {\n      console.error(\"failed to load \" + url);\n    }\n\n    var skip = [];\n    if (window.requirejs) {\n      window.requirejs.config({'packages': {}, 'paths': {}, 'shim': {}});\n      root._bokeh_is_loading = css_urls.length + 0;\n    } else {\n      root._bokeh_is_loading = css_urls.length + js_urls.length + js_modules.length + Object.keys(js_exports).length;\n    }\n\n    var existing_stylesheets = []\n    var links = document.getElementsByTagName('link')\n    for (var i = 0; i < links.length; i++) {\n      var link = links[i]\n      if (link.href != null) {\n\texisting_stylesheets.push(link.href)\n      }\n    }\n    for (var i = 0; i < css_urls.length; i++) {\n      var url = css_urls[i];\n      if (existing_stylesheets.indexOf(url) !== -1) {\n\ton_load()\n\tcontinue;\n      }\n      const element = document.createElement(\"link\");\n      element.onload = on_load;\n      element.onerror = on_error;\n      element.rel = \"stylesheet\";\n      element.type = \"text/css\";\n      element.href = url;\n      console.debug(\"Bokeh: injecting link tag for BokehJS stylesheet: \", url);\n      document.body.appendChild(element);\n    }    var existing_scripts = []\n    var scripts = document.getElementsByTagName('script')\n    for (var i = 0; i < scripts.length; i++) {\n      var script = scripts[i]\n      if (script.src != null) {\n\texisting_scripts.push(script.src)\n      }\n    }\n    for (var i = 0; i < js_urls.length; i++) {\n      var url = js_urls[i];\n      if (skip.indexOf(url) !== -1 || existing_scripts.indexOf(url) !== -1) {\n\tif (!window.requirejs) {\n\t  on_load();\n\t}\n\tcontinue;\n      }\n      var element = document.createElement('script');\n      element.onload = on_load;\n      element.onerror = on_error;\n      element.async = false;\n      element.src = url;\n      console.debug(\"Bokeh: injecting script tag for BokehJS library: \", url);\n      document.head.appendChild(element);\n    }\n    for (var i = 0; i < js_modules.length; i++) {\n      var url = js_modules[i];\n      if (skip.indexOf(url) !== -1 || existing_scripts.indexOf(url) !== -1) {\n\tif (!window.requirejs) {\n\t  on_load();\n\t}\n\tcontinue;\n      }\n      var element = document.createElement('script');\n      element.onload = on_load;\n      element.onerror = on_error;\n      element.async = false;\n      element.src = url;\n      element.type = \"module\";\n      console.debug(\"Bokeh: injecting script tag for BokehJS library: \", url);\n      document.head.appendChild(element);\n    }\n    for (const name in js_exports) {\n      var url = js_exports[name];\n      if (skip.indexOf(url) >= 0 || root[name] != null) {\n\tif (!window.requirejs) {\n\t  on_load();\n\t}\n\tcontinue;\n      }\n      var element = document.createElement('script');\n      element.onerror = on_error;\n      element.async = false;\n      element.type = \"module\";\n      console.debug(\"Bokeh: injecting script tag for BokehJS library: \", url);\n      element.textContent = `\n      import ${name} from \"${url}\"\n      window.${name} = ${name}\n      window._bokeh_on_load()\n      `\n      document.head.appendChild(element);\n    }\n    if (!js_urls.length && !js_modules.length) {\n      on_load()\n    }\n  };\n\n  function inject_raw_css(css) {\n    const element = document.createElement(\"style\");\n    element.appendChild(document.createTextNode(css));\n    document.body.appendChild(element);\n  }\n\n  var js_urls = [\"https://cdn.bokeh.org/bokeh/release/bokeh-3.4.1.min.js\", \"https://cdn.bokeh.org/bokeh/release/bokeh-gl-3.4.1.min.js\", \"https://cdn.bokeh.org/bokeh/release/bokeh-widgets-3.4.1.min.js\", \"https://cdn.bokeh.org/bokeh/release/bokeh-tables-3.4.1.min.js\", \"https://cdn.holoviz.org/panel/1.4.2/dist/panel.min.js\"];\n  var js_modules = [];\n  var js_exports = {};\n  var css_urls = [];\n  var inline_js = [    function(Bokeh) {\n      Bokeh.set_log_level(\"info\");\n    },\nfunction(Bokeh) {} // ensure no trailing comma for IE\n  ];\n\n  function run_inline_js() {\n    if ((root.Bokeh !== undefined) || (force === true)) {\n      for (var i = 0; i < inline_js.length; i++) {\n\ttry {\n          inline_js[i].call(root, root.Bokeh);\n\t} catch(e) {\n\t  if (!reloading) {\n\t    throw e;\n\t  }\n\t}\n      }\n      // Cache old bokeh versions\n      if (Bokeh != undefined && !reloading) {\n\tvar NewBokeh = root.Bokeh;\n\tif (Bokeh.versions === undefined) {\n\t  Bokeh.versions = new Map();\n\t}\n\tif (NewBokeh.version !== Bokeh.version) {\n\t  Bokeh.versions.set(NewBokeh.version, NewBokeh)\n\t}\n\troot.Bokeh = Bokeh;\n      }} else if (Date.now() < root._bokeh_timeout) {\n      setTimeout(run_inline_js, 100);\n    } else if (!root._bokeh_failed_load) {\n      console.log(\"Bokeh: BokehJS failed to load within specified timeout.\");\n      root._bokeh_failed_load = true;\n    }\n    root._bokeh_is_initializing = false\n  }\n\n  function load_or_wait() {\n    // Implement a backoff loop that tries to ensure we do not load multiple\n    // versions of Bokeh and its dependencies at the same time.\n    // In recent versions we use the root._bokeh_is_initializing flag\n    // to determine whether there is an ongoing attempt to initialize\n    // bokeh, however for backward compatibility we also try to ensure\n    // that we do not start loading a newer (Panel>=1.0 and Bokeh>3) version\n    // before older versions are fully initialized.\n    if (root._bokeh_is_initializing && Date.now() > root._bokeh_timeout) {\n      root._bokeh_is_initializing = false;\n      root._bokeh_onload_callbacks = undefined;\n      console.log(\"Bokeh: BokehJS was loaded multiple times but one version failed to initialize.\");\n      load_or_wait();\n    } else if (root._bokeh_is_initializing || (typeof root._bokeh_is_initializing === \"undefined\" && root._bokeh_onload_callbacks !== undefined)) {\n      setTimeout(load_or_wait, 100);\n    } else {\n      root._bokeh_is_initializing = true\n      root._bokeh_onload_callbacks = []\n      var bokeh_loaded = Bokeh != null && (Bokeh.version === py_version || (Bokeh.versions !== undefined && Bokeh.versions.has(py_version)));\n      if (!reloading && !bokeh_loaded) {\n\troot.Bokeh = undefined;\n      }\n      load_libs(css_urls, js_urls, js_modules, js_exports, function() {\n\tconsole.debug(\"Bokeh: BokehJS plotting callback run at\", now());\n\trun_inline_js();\n      });\n    }\n  }\n  // Give older versions of the autoload script a head-start to ensure\n  // they initialize before we start loading newer version.\n  setTimeout(load_or_wait, 100)\n}(window));",
      "application/vnd.holoviews_load.v0+json": ""
     },
     "metadata": {},
     "output_type": "display_data"
    },
    {
     "data": {
      "application/javascript": "\nif ((window.PyViz === undefined) || (window.PyViz instanceof HTMLElement)) {\n  window.PyViz = {comms: {}, comm_status:{}, kernels:{}, receivers: {}, plot_index: []}\n}\n\n\n    function JupyterCommManager() {\n    }\n\n    JupyterCommManager.prototype.register_target = function(plot_id, comm_id, msg_handler) {\n      if (window.comm_manager || ((window.Jupyter !== undefined) && (Jupyter.notebook.kernel != null))) {\n        var comm_manager = window.comm_manager || Jupyter.notebook.kernel.comm_manager;\n        comm_manager.register_target(comm_id, function(comm) {\n          comm.on_msg(msg_handler);\n        });\n      } else if ((plot_id in window.PyViz.kernels) && (window.PyViz.kernels[plot_id])) {\n        window.PyViz.kernels[plot_id].registerCommTarget(comm_id, function(comm) {\n          comm.onMsg = msg_handler;\n        });\n      } else if (typeof google != 'undefined' && google.colab.kernel != null) {\n        google.colab.kernel.comms.registerTarget(comm_id, (comm) => {\n          var messages = comm.messages[Symbol.asyncIterator]();\n          function processIteratorResult(result) {\n            var message = result.value;\n            console.log(message)\n            var content = {data: message.data, comm_id};\n            var buffers = []\n            for (var buffer of message.buffers || []) {\n              buffers.push(new DataView(buffer))\n            }\n            var metadata = message.metadata || {};\n            var msg = {content, buffers, metadata}\n            msg_handler(msg);\n            return messages.next().then(processIteratorResult);\n          }\n          return messages.next().then(processIteratorResult);\n        })\n      }\n    }\n\n    JupyterCommManager.prototype.get_client_comm = function(plot_id, comm_id, msg_handler) {\n      if (comm_id in window.PyViz.comms) {\n        return window.PyViz.comms[comm_id];\n      } else if (window.comm_manager || ((window.Jupyter !== undefined) && (Jupyter.notebook.kernel != null))) {\n        var comm_manager = window.comm_manager || Jupyter.notebook.kernel.comm_manager;\n        var comm = comm_manager.new_comm(comm_id, {}, {}, {}, comm_id);\n        if (msg_handler) {\n          comm.on_msg(msg_handler);\n        }\n      } else if ((plot_id in window.PyViz.kernels) && (window.PyViz.kernels[plot_id])) {\n        var comm = window.PyViz.kernels[plot_id].connectToComm(comm_id);\n        comm.open();\n        if (msg_handler) {\n          comm.onMsg = msg_handler;\n        }\n      } else if (typeof google != 'undefined' && google.colab.kernel != null) {\n        var comm_promise = google.colab.kernel.comms.open(comm_id)\n        comm_promise.then((comm) => {\n          window.PyViz.comms[comm_id] = comm;\n          if (msg_handler) {\n            var messages = comm.messages[Symbol.asyncIterator]();\n            function processIteratorResult(result) {\n              var message = result.value;\n              var content = {data: message.data};\n              var metadata = message.metadata || {comm_id};\n              var msg = {content, metadata}\n              msg_handler(msg);\n              return messages.next().then(processIteratorResult);\n            }\n            return messages.next().then(processIteratorResult);\n          }\n        }) \n        var sendClosure = (data, metadata, buffers, disposeOnDone) => {\n          return comm_promise.then((comm) => {\n            comm.send(data, metadata, buffers, disposeOnDone);\n          });\n        };\n        var comm = {\n          send: sendClosure\n        };\n      }\n      window.PyViz.comms[comm_id] = comm;\n      return comm;\n    }\n    window.PyViz.comm_manager = new JupyterCommManager();\n    \n\n\nvar JS_MIME_TYPE = 'application/javascript';\nvar HTML_MIME_TYPE = 'text/html';\nvar EXEC_MIME_TYPE = 'application/vnd.holoviews_exec.v0+json';\nvar CLASS_NAME = 'output';\n\n/**\n * Render data to the DOM node\n */\nfunction render(props, node) {\n  var div = document.createElement(\"div\");\n  var script = document.createElement(\"script\");\n  node.appendChild(div);\n  node.appendChild(script);\n}\n\n/**\n * Handle when a new output is added\n */\nfunction handle_add_output(event, handle) {\n  var output_area = handle.output_area;\n  var output = handle.output;\n  if ((output.data == undefined) || (!output.data.hasOwnProperty(EXEC_MIME_TYPE))) {\n    return\n  }\n  var id = output.metadata[EXEC_MIME_TYPE][\"id\"];\n  var toinsert = output_area.element.find(\".\" + CLASS_NAME.split(' ')[0]);\n  if (id !== undefined) {\n    var nchildren = toinsert.length;\n    var html_node = toinsert[nchildren-1].children[0];\n    html_node.innerHTML = output.data[HTML_MIME_TYPE];\n    var scripts = [];\n    var nodelist = html_node.querySelectorAll(\"script\");\n    for (var i in nodelist) {\n      if (nodelist.hasOwnProperty(i)) {\n        scripts.push(nodelist[i])\n      }\n    }\n\n    scripts.forEach( function (oldScript) {\n      var newScript = document.createElement(\"script\");\n      var attrs = [];\n      var nodemap = oldScript.attributes;\n      for (var j in nodemap) {\n        if (nodemap.hasOwnProperty(j)) {\n          attrs.push(nodemap[j])\n        }\n      }\n      attrs.forEach(function(attr) { newScript.setAttribute(attr.name, attr.value) });\n      newScript.appendChild(document.createTextNode(oldScript.innerHTML));\n      oldScript.parentNode.replaceChild(newScript, oldScript);\n    });\n    if (JS_MIME_TYPE in output.data) {\n      toinsert[nchildren-1].children[1].textContent = output.data[JS_MIME_TYPE];\n    }\n    output_area._hv_plot_id = id;\n    if ((window.Bokeh !== undefined) && (id in Bokeh.index)) {\n      window.PyViz.plot_index[id] = Bokeh.index[id];\n    } else {\n      window.PyViz.plot_index[id] = null;\n    }\n  } else if (output.metadata[EXEC_MIME_TYPE][\"server_id\"] !== undefined) {\n    var bk_div = document.createElement(\"div\");\n    bk_div.innerHTML = output.data[HTML_MIME_TYPE];\n    var script_attrs = bk_div.children[0].attributes;\n    for (var i = 0; i < script_attrs.length; i++) {\n      toinsert[toinsert.length - 1].childNodes[1].setAttribute(script_attrs[i].name, script_attrs[i].value);\n    }\n    // store reference to server id on output_area\n    output_area._bokeh_server_id = output.metadata[EXEC_MIME_TYPE][\"server_id\"];\n  }\n}\n\n/**\n * Handle when an output is cleared or removed\n */\nfunction handle_clear_output(event, handle) {\n  var id = handle.cell.output_area._hv_plot_id;\n  var server_id = handle.cell.output_area._bokeh_server_id;\n  if (((id === undefined) || !(id in PyViz.plot_index)) && (server_id !== undefined)) { return; }\n  var comm = window.PyViz.comm_manager.get_client_comm(\"hv-extension-comm\", \"hv-extension-comm\", function () {});\n  if (server_id !== null) {\n    comm.send({event_type: 'server_delete', 'id': server_id});\n    return;\n  } else if (comm !== null) {\n    comm.send({event_type: 'delete', 'id': id});\n  }\n  delete PyViz.plot_index[id];\n  if ((window.Bokeh !== undefined) & (id in window.Bokeh.index)) {\n    var doc = window.Bokeh.index[id].model.document\n    doc.clear();\n    const i = window.Bokeh.documents.indexOf(doc);\n    if (i > -1) {\n      window.Bokeh.documents.splice(i, 1);\n    }\n  }\n}\n\n/**\n * Handle kernel restart event\n */\nfunction handle_kernel_cleanup(event, handle) {\n  delete PyViz.comms[\"hv-extension-comm\"];\n  window.PyViz.plot_index = {}\n}\n\n/**\n * Handle update_display_data messages\n */\nfunction handle_update_output(event, handle) {\n  handle_clear_output(event, {cell: {output_area: handle.output_area}})\n  handle_add_output(event, handle)\n}\n\nfunction register_renderer(events, OutputArea) {\n  function append_mime(data, metadata, element) {\n    // create a DOM node to render to\n    var toinsert = this.create_output_subarea(\n    metadata,\n    CLASS_NAME,\n    EXEC_MIME_TYPE\n    );\n    this.keyboard_manager.register_events(toinsert);\n    // Render to node\n    var props = {data: data, metadata: metadata[EXEC_MIME_TYPE]};\n    render(props, toinsert[0]);\n    element.append(toinsert);\n    return toinsert\n  }\n\n  events.on('output_added.OutputArea', handle_add_output);\n  events.on('output_updated.OutputArea', handle_update_output);\n  events.on('clear_output.CodeCell', handle_clear_output);\n  events.on('delete.Cell', handle_clear_output);\n  events.on('kernel_ready.Kernel', handle_kernel_cleanup);\n\n  OutputArea.prototype.register_mime_type(EXEC_MIME_TYPE, append_mime, {\n    safe: true,\n    index: 0\n  });\n}\n\nif (window.Jupyter !== undefined) {\n  try {\n    var events = require('base/js/events');\n    var OutputArea = require('notebook/js/outputarea').OutputArea;\n    if (OutputArea.prototype.mime_types().indexOf(EXEC_MIME_TYPE) == -1) {\n      register_renderer(events, OutputArea);\n    }\n  } catch(err) {\n  }\n}\n",
      "application/vnd.holoviews_load.v0+json": ""
     },
     "metadata": {},
     "output_type": "display_data"
    },
    {
     "data": {
      "text/html": [
       "<style>*[data-root-id],\n",
       "*[data-root-id] > * {\n",
       "  box-sizing: border-box;\n",
       "  font-family: var(--jp-ui-font-family);\n",
       "  font-size: var(--jp-ui-font-size1);\n",
       "  color: var(--vscode-editor-foreground, var(--jp-ui-font-color1));\n",
       "}\n",
       "\n",
       "/* Override VSCode background color */\n",
       ".cell-output-ipywidget-background:has(\n",
       "    > .cell-output-ipywidget-background > .lm-Widget > *[data-root-id]\n",
       "  ),\n",
       ".cell-output-ipywidget-background:has(> .lm-Widget > *[data-root-id]) {\n",
       "  background-color: transparent !important;\n",
       "}\n",
       "</style>"
      ]
     },
     "metadata": {},
     "output_type": "display_data"
    },
    {
     "data": {
      "application/vnd.holoviews_exec.v0+json": "",
      "text/html": [
       "<div id='6eaf14c4-1c2e-49c7-9539-e28d4236068a'>\n",
       "  <div id=\"b43be146-06ee-4a94-b898-2e7815facbc1\" data-root-id=\"6eaf14c4-1c2e-49c7-9539-e28d4236068a\" style=\"display: contents;\"></div>\n",
       "</div>\n",
       "<script type=\"application/javascript\">(function(root) {\n",
       "  var docs_json = {\"fba0404f-3ccb-4e71-b0d6-02558a85eab6\":{\"version\":\"3.4.1\",\"title\":\"Bokeh Application\",\"roots\":[{\"type\":\"object\",\"name\":\"panel.models.browser.BrowserInfo\",\"id\":\"6eaf14c4-1c2e-49c7-9539-e28d4236068a\"},{\"type\":\"object\",\"name\":\"panel.models.comm_manager.CommManager\",\"id\":\"fa1d853d-8ea4-4cce-8485-bc03de71cc21\",\"attributes\":{\"plot_id\":\"6eaf14c4-1c2e-49c7-9539-e28d4236068a\",\"comm_id\":\"f86b7ad6c41b424baffa4ef227e8b518\",\"client_comm_id\":\"b59defb4184c45faaaf74bd051cddf2d\"}}],\"defs\":[{\"type\":\"model\",\"name\":\"ReactiveHTML1\"},{\"type\":\"model\",\"name\":\"FlexBox1\",\"properties\":[{\"name\":\"align_content\",\"kind\":\"Any\",\"default\":\"flex-start\"},{\"name\":\"align_items\",\"kind\":\"Any\",\"default\":\"flex-start\"},{\"name\":\"flex_direction\",\"kind\":\"Any\",\"default\":\"row\"},{\"name\":\"flex_wrap\",\"kind\":\"Any\",\"default\":\"wrap\"},{\"name\":\"gap\",\"kind\":\"Any\",\"default\":\"\"},{\"name\":\"justify_content\",\"kind\":\"Any\",\"default\":\"flex-start\"}]},{\"type\":\"model\",\"name\":\"FloatPanel1\",\"properties\":[{\"name\":\"config\",\"kind\":\"Any\",\"default\":{\"type\":\"map\"}},{\"name\":\"contained\",\"kind\":\"Any\",\"default\":true},{\"name\":\"position\",\"kind\":\"Any\",\"default\":\"right-top\"},{\"name\":\"offsetx\",\"kind\":\"Any\",\"default\":null},{\"name\":\"offsety\",\"kind\":\"Any\",\"default\":null},{\"name\":\"theme\",\"kind\":\"Any\",\"default\":\"primary\"},{\"name\":\"status\",\"kind\":\"Any\",\"default\":\"normalized\"}]},{\"type\":\"model\",\"name\":\"GridStack1\",\"properties\":[{\"name\":\"mode\",\"kind\":\"Any\",\"default\":\"warn\"},{\"name\":\"ncols\",\"kind\":\"Any\",\"default\":null},{\"name\":\"nrows\",\"kind\":\"Any\",\"default\":null},{\"name\":\"allow_resize\",\"kind\":\"Any\",\"default\":true},{\"name\":\"allow_drag\",\"kind\":\"Any\",\"default\":true},{\"name\":\"state\",\"kind\":\"Any\",\"default\":[]}]},{\"type\":\"model\",\"name\":\"drag1\",\"properties\":[{\"name\":\"slider_width\",\"kind\":\"Any\",\"default\":5},{\"name\":\"slider_color\",\"kind\":\"Any\",\"default\":\"black\"},{\"name\":\"value\",\"kind\":\"Any\",\"default\":50}]},{\"type\":\"model\",\"name\":\"click1\",\"properties\":[{\"name\":\"terminal_output\",\"kind\":\"Any\",\"default\":\"\"},{\"name\":\"debug_name\",\"kind\":\"Any\",\"default\":\"\"},{\"name\":\"clears\",\"kind\":\"Any\",\"default\":0}]},{\"type\":\"model\",\"name\":\"FastWrapper1\",\"properties\":[{\"name\":\"object\",\"kind\":\"Any\",\"default\":null},{\"name\":\"style\",\"kind\":\"Any\",\"default\":null}]},{\"type\":\"model\",\"name\":\"NotificationAreaBase1\",\"properties\":[{\"name\":\"js_events\",\"kind\":\"Any\",\"default\":{\"type\":\"map\"}},{\"name\":\"position\",\"kind\":\"Any\",\"default\":\"bottom-right\"},{\"name\":\"_clear\",\"kind\":\"Any\",\"default\":0}]},{\"type\":\"model\",\"name\":\"NotificationArea1\",\"properties\":[{\"name\":\"js_events\",\"kind\":\"Any\",\"default\":{\"type\":\"map\"}},{\"name\":\"notifications\",\"kind\":\"Any\",\"default\":[]},{\"name\":\"position\",\"kind\":\"Any\",\"default\":\"bottom-right\"},{\"name\":\"_clear\",\"kind\":\"Any\",\"default\":0},{\"name\":\"types\",\"kind\":\"Any\",\"default\":[{\"type\":\"map\",\"entries\":[[\"type\",\"warning\"],[\"background\",\"#ffc107\"],[\"icon\",{\"type\":\"map\",\"entries\":[[\"className\",\"fas fa-exclamation-triangle\"],[\"tagName\",\"i\"],[\"color\",\"white\"]]}]]},{\"type\":\"map\",\"entries\":[[\"type\",\"info\"],[\"background\",\"#007bff\"],[\"icon\",{\"type\":\"map\",\"entries\":[[\"className\",\"fas fa-info-circle\"],[\"tagName\",\"i\"],[\"color\",\"white\"]]}]]}]}]},{\"type\":\"model\",\"name\":\"Notification\",\"properties\":[{\"name\":\"background\",\"kind\":\"Any\",\"default\":null},{\"name\":\"duration\",\"kind\":\"Any\",\"default\":3000},{\"name\":\"icon\",\"kind\":\"Any\",\"default\":null},{\"name\":\"message\",\"kind\":\"Any\",\"default\":\"\"},{\"name\":\"notification_type\",\"kind\":\"Any\",\"default\":null},{\"name\":\"_destroyed\",\"kind\":\"Any\",\"default\":false}]},{\"type\":\"model\",\"name\":\"TemplateActions1\",\"properties\":[{\"name\":\"open_modal\",\"kind\":\"Any\",\"default\":0},{\"name\":\"close_modal\",\"kind\":\"Any\",\"default\":0}]},{\"type\":\"model\",\"name\":\"BootstrapTemplateActions1\",\"properties\":[{\"name\":\"open_modal\",\"kind\":\"Any\",\"default\":0},{\"name\":\"close_modal\",\"kind\":\"Any\",\"default\":0}]},{\"type\":\"model\",\"name\":\"TemplateEditor1\",\"properties\":[{\"name\":\"layout\",\"kind\":\"Any\",\"default\":[]}]},{\"type\":\"model\",\"name\":\"MaterialTemplateActions1\",\"properties\":[{\"name\":\"open_modal\",\"kind\":\"Any\",\"default\":0},{\"name\":\"close_modal\",\"kind\":\"Any\",\"default\":0}]},{\"type\":\"model\",\"name\":\"copy_to_clipboard1\",\"properties\":[{\"name\":\"fill\",\"kind\":\"Any\",\"default\":\"none\"},{\"name\":\"value\",\"kind\":\"Any\",\"default\":null}]}]}};\n",
       "  var render_items = [{\"docid\":\"fba0404f-3ccb-4e71-b0d6-02558a85eab6\",\"roots\":{\"6eaf14c4-1c2e-49c7-9539-e28d4236068a\":\"b43be146-06ee-4a94-b898-2e7815facbc1\"},\"root_ids\":[\"6eaf14c4-1c2e-49c7-9539-e28d4236068a\"]}];\n",
       "  var docs = Object.values(docs_json)\n",
       "  if (!docs) {\n",
       "    return\n",
       "  }\n",
       "  const py_version = docs[0].version.replace('rc', '-rc.').replace('.dev', '-dev.')\n",
       "  function embed_document(root) {\n",
       "    var Bokeh = get_bokeh(root)\n",
       "    Bokeh.embed.embed_items_notebook(docs_json, render_items);\n",
       "    for (const render_item of render_items) {\n",
       "      for (const root_id of render_item.root_ids) {\n",
       "\tconst id_el = document.getElementById(root_id)\n",
       "\tif (id_el.children.length && (id_el.children[0].className === 'bk-root')) {\n",
       "\t  const root_el = id_el.children[0]\n",
       "\t  root_el.id = root_el.id + '-rendered'\n",
       "\t}\n",
       "      }\n",
       "    }\n",
       "  }\n",
       "  function get_bokeh(root) {\n",
       "    if (root.Bokeh === undefined) {\n",
       "      return null\n",
       "    } else if (root.Bokeh.version !== py_version) {\n",
       "      if (root.Bokeh.versions === undefined || !root.Bokeh.versions.has(py_version)) {\n",
       "\treturn null\n",
       "      }\n",
       "      return root.Bokeh.versions.get(py_version);\n",
       "    } else if (root.Bokeh.version === py_version) {\n",
       "      return root.Bokeh\n",
       "    }\n",
       "    return null\n",
       "  }\n",
       "  function is_loaded(root) {\n",
       "    var Bokeh = get_bokeh(root)\n",
       "    return (Bokeh != null && Bokeh.Panel !== undefined)\n",
       "  }\n",
       "  if (is_loaded(root)) {\n",
       "    embed_document(root);\n",
       "  } else {\n",
       "    var attempts = 0;\n",
       "    var timer = setInterval(function(root) {\n",
       "      if (is_loaded(root)) {\n",
       "        clearInterval(timer);\n",
       "        embed_document(root);\n",
       "      } else if (document.readyState == \"complete\") {\n",
       "        attempts++;\n",
       "        if (attempts > 200) {\n",
       "          clearInterval(timer);\n",
       "\t  var Bokeh = get_bokeh(root)\n",
       "\t  if (Bokeh == null || Bokeh.Panel == null) {\n",
       "            console.warn(\"Panel: ERROR: Unable to run Panel code because Bokeh or Panel library is missing\");\n",
       "\t  } else {\n",
       "\t    console.warn(\"Panel: WARNING: Attempting to render but not all required libraries could be resolved.\")\n",
       "\t    embed_document(root)\n",
       "\t  }\n",
       "        }\n",
       "      }\n",
       "    }, 25, root)\n",
       "  }\n",
       "})(window);</script>"
      ]
     },
     "metadata": {
      "application/vnd.holoviews_exec.v0+json": {
       "id": "6eaf14c4-1c2e-49c7-9539-e28d4236068a"
      }
     },
     "output_type": "display_data"
    },
    {
     "name": "stdout",
     "output_type": "stream",
     "text": [
      "Launching server at http://localhost:37375\n"
     ]
    },
    {
     "data": {
      "application/javascript": "(function(root) {\n  function now() {\n    return new Date();\n  }\n\n  var force = true;\n  var py_version = '3.4.1'.replace('rc', '-rc.').replace('.dev', '-dev.');\n  var reloading = true;\n  var Bokeh = root.Bokeh;\n\n  if (typeof (root._bokeh_timeout) === \"undefined\" || force) {\n    root._bokeh_timeout = Date.now() + 5000;\n    root._bokeh_failed_load = false;\n  }\n\n  function run_callbacks() {\n    try {\n      root._bokeh_onload_callbacks.forEach(function(callback) {\n        if (callback != null)\n          callback();\n      });\n    } finally {\n      delete root._bokeh_onload_callbacks;\n    }\n    console.debug(\"Bokeh: all callbacks have finished\");\n  }\n\n  function load_libs(css_urls, js_urls, js_modules, js_exports, callback) {\n    if (css_urls == null) css_urls = [];\n    if (js_urls == null) js_urls = [];\n    if (js_modules == null) js_modules = [];\n    if (js_exports == null) js_exports = {};\n\n    root._bokeh_onload_callbacks.push(callback);\n\n    if (root._bokeh_is_loading > 0) {\n      console.debug(\"Bokeh: BokehJS is being loaded, scheduling callback at\", now());\n      return null;\n    }\n    if (js_urls.length === 0 && js_modules.length === 0 && Object.keys(js_exports).length === 0) {\n      run_callbacks();\n      return null;\n    }\n    if (!reloading) {\n      console.debug(\"Bokeh: BokehJS not loaded, scheduling load and callback at\", now());\n    }\n\n    function on_load() {\n      root._bokeh_is_loading--;\n      if (root._bokeh_is_loading === 0) {\n        console.debug(\"Bokeh: all BokehJS libraries/stylesheets loaded\");\n        run_callbacks()\n      }\n    }\n    window._bokeh_on_load = on_load\n\n    function on_error() {\n      console.error(\"failed to load \" + url);\n    }\n\n    var skip = [];\n    if (window.requirejs) {\n      window.requirejs.config({'packages': {}, 'paths': {}, 'shim': {}});\n      root._bokeh_is_loading = css_urls.length + 0;\n    } else {\n      root._bokeh_is_loading = css_urls.length + js_urls.length + js_modules.length + Object.keys(js_exports).length;\n    }\n\n    var existing_stylesheets = []\n    var links = document.getElementsByTagName('link')\n    for (var i = 0; i < links.length; i++) {\n      var link = links[i]\n      if (link.href != null) {\n\texisting_stylesheets.push(link.href)\n      }\n    }\n    for (var i = 0; i < css_urls.length; i++) {\n      var url = css_urls[i];\n      if (existing_stylesheets.indexOf(url) !== -1) {\n\ton_load()\n\tcontinue;\n      }\n      const element = document.createElement(\"link\");\n      element.onload = on_load;\n      element.onerror = on_error;\n      element.rel = \"stylesheet\";\n      element.type = \"text/css\";\n      element.href = url;\n      console.debug(\"Bokeh: injecting link tag for BokehJS stylesheet: \", url);\n      document.body.appendChild(element);\n    }    var existing_scripts = []\n    var scripts = document.getElementsByTagName('script')\n    for (var i = 0; i < scripts.length; i++) {\n      var script = scripts[i]\n      if (script.src != null) {\n\texisting_scripts.push(script.src)\n      }\n    }\n    for (var i = 0; i < js_urls.length; i++) {\n      var url = js_urls[i];\n      if (skip.indexOf(url) !== -1 || existing_scripts.indexOf(url) !== -1) {\n\tif (!window.requirejs) {\n\t  on_load();\n\t}\n\tcontinue;\n      }\n      var element = document.createElement('script');\n      element.onload = on_load;\n      element.onerror = on_error;\n      element.async = false;\n      element.src = url;\n      console.debug(\"Bokeh: injecting script tag for BokehJS library: \", url);\n      document.head.appendChild(element);\n    }\n    for (var i = 0; i < js_modules.length; i++) {\n      var url = js_modules[i];\n      if (skip.indexOf(url) !== -1 || existing_scripts.indexOf(url) !== -1) {\n\tif (!window.requirejs) {\n\t  on_load();\n\t}\n\tcontinue;\n      }\n      var element = document.createElement('script');\n      element.onload = on_load;\n      element.onerror = on_error;\n      element.async = false;\n      element.src = url;\n      element.type = \"module\";\n      console.debug(\"Bokeh: injecting script tag for BokehJS library: \", url);\n      document.head.appendChild(element);\n    }\n    for (const name in js_exports) {\n      var url = js_exports[name];\n      if (skip.indexOf(url) >= 0 || root[name] != null) {\n\tif (!window.requirejs) {\n\t  on_load();\n\t}\n\tcontinue;\n      }\n      var element = document.createElement('script');\n      element.onerror = on_error;\n      element.async = false;\n      element.type = \"module\";\n      console.debug(\"Bokeh: injecting script tag for BokehJS library: \", url);\n      element.textContent = `\n      import ${name} from \"${url}\"\n      window.${name} = ${name}\n      window._bokeh_on_load()\n      `\n      document.head.appendChild(element);\n    }\n    if (!js_urls.length && !js_modules.length) {\n      on_load()\n    }\n  };\n\n  function inject_raw_css(css) {\n    const element = document.createElement(\"style\");\n    element.appendChild(document.createTextNode(css));\n    document.body.appendChild(element);\n  }\n\n  var js_urls = [];\n  var js_modules = [];\n  var js_exports = {};\n  var css_urls = [];\n  var inline_js = [    function(Bokeh) {\n      Bokeh.set_log_level(\"info\");\n    },\nfunction(Bokeh) {} // ensure no trailing comma for IE\n  ];\n\n  function run_inline_js() {\n    if ((root.Bokeh !== undefined) || (force === true)) {\n      for (var i = 0; i < inline_js.length; i++) {\n\ttry {\n          inline_js[i].call(root, root.Bokeh);\n\t} catch(e) {\n\t  if (!reloading) {\n\t    throw e;\n\t  }\n\t}\n      }\n      // Cache old bokeh versions\n      if (Bokeh != undefined && !reloading) {\n\tvar NewBokeh = root.Bokeh;\n\tif (Bokeh.versions === undefined) {\n\t  Bokeh.versions = new Map();\n\t}\n\tif (NewBokeh.version !== Bokeh.version) {\n\t  Bokeh.versions.set(NewBokeh.version, NewBokeh)\n\t}\n\troot.Bokeh = Bokeh;\n      }} else if (Date.now() < root._bokeh_timeout) {\n      setTimeout(run_inline_js, 100);\n    } else if (!root._bokeh_failed_load) {\n      console.log(\"Bokeh: BokehJS failed to load within specified timeout.\");\n      root._bokeh_failed_load = true;\n    }\n    root._bokeh_is_initializing = false\n  }\n\n  function load_or_wait() {\n    // Implement a backoff loop that tries to ensure we do not load multiple\n    // versions of Bokeh and its dependencies at the same time.\n    // In recent versions we use the root._bokeh_is_initializing flag\n    // to determine whether there is an ongoing attempt to initialize\n    // bokeh, however for backward compatibility we also try to ensure\n    // that we do not start loading a newer (Panel>=1.0 and Bokeh>3) version\n    // before older versions are fully initialized.\n    if (root._bokeh_is_initializing && Date.now() > root._bokeh_timeout) {\n      root._bokeh_is_initializing = false;\n      root._bokeh_onload_callbacks = undefined;\n      console.log(\"Bokeh: BokehJS was loaded multiple times but one version failed to initialize.\");\n      load_or_wait();\n    } else if (root._bokeh_is_initializing || (typeof root._bokeh_is_initializing === \"undefined\" && root._bokeh_onload_callbacks !== undefined)) {\n      setTimeout(load_or_wait, 100);\n    } else {\n      root._bokeh_is_initializing = true\n      root._bokeh_onload_callbacks = []\n      var bokeh_loaded = Bokeh != null && (Bokeh.version === py_version || (Bokeh.versions !== undefined && Bokeh.versions.has(py_version)));\n      if (!reloading && !bokeh_loaded) {\n\troot.Bokeh = undefined;\n      }\n      load_libs(css_urls, js_urls, js_modules, js_exports, function() {\n\tconsole.debug(\"Bokeh: BokehJS plotting callback run at\", now());\n\trun_inline_js();\n      });\n    }\n  }\n  // Give older versions of the autoload script a head-start to ensure\n  // they initialize before we start loading newer version.\n  setTimeout(load_or_wait, 100)\n}(window));",
      "application/vnd.holoviews_load.v0+json": ""
     },
     "metadata": {},
     "output_type": "display_data"
    },
    {
     "data": {
      "application/javascript": "\nif ((window.PyViz === undefined) || (window.PyViz instanceof HTMLElement)) {\n  window.PyViz = {comms: {}, comm_status:{}, kernels:{}, receivers: {}, plot_index: []}\n}\n\n\n    function JupyterCommManager() {\n    }\n\n    JupyterCommManager.prototype.register_target = function(plot_id, comm_id, msg_handler) {\n      if (window.comm_manager || ((window.Jupyter !== undefined) && (Jupyter.notebook.kernel != null))) {\n        var comm_manager = window.comm_manager || Jupyter.notebook.kernel.comm_manager;\n        comm_manager.register_target(comm_id, function(comm) {\n          comm.on_msg(msg_handler);\n        });\n      } else if ((plot_id in window.PyViz.kernels) && (window.PyViz.kernels[plot_id])) {\n        window.PyViz.kernels[plot_id].registerCommTarget(comm_id, function(comm) {\n          comm.onMsg = msg_handler;\n        });\n      } else if (typeof google != 'undefined' && google.colab.kernel != null) {\n        google.colab.kernel.comms.registerTarget(comm_id, (comm) => {\n          var messages = comm.messages[Symbol.asyncIterator]();\n          function processIteratorResult(result) {\n            var message = result.value;\n            console.log(message)\n            var content = {data: message.data, comm_id};\n            var buffers = []\n            for (var buffer of message.buffers || []) {\n              buffers.push(new DataView(buffer))\n            }\n            var metadata = message.metadata || {};\n            var msg = {content, buffers, metadata}\n            msg_handler(msg);\n            return messages.next().then(processIteratorResult);\n          }\n          return messages.next().then(processIteratorResult);\n        })\n      }\n    }\n\n    JupyterCommManager.prototype.get_client_comm = function(plot_id, comm_id, msg_handler) {\n      if (comm_id in window.PyViz.comms) {\n        return window.PyViz.comms[comm_id];\n      } else if (window.comm_manager || ((window.Jupyter !== undefined) && (Jupyter.notebook.kernel != null))) {\n        var comm_manager = window.comm_manager || Jupyter.notebook.kernel.comm_manager;\n        var comm = comm_manager.new_comm(comm_id, {}, {}, {}, comm_id);\n        if (msg_handler) {\n          comm.on_msg(msg_handler);\n        }\n      } else if ((plot_id in window.PyViz.kernels) && (window.PyViz.kernels[plot_id])) {\n        var comm = window.PyViz.kernels[plot_id].connectToComm(comm_id);\n        comm.open();\n        if (msg_handler) {\n          comm.onMsg = msg_handler;\n        }\n      } else if (typeof google != 'undefined' && google.colab.kernel != null) {\n        var comm_promise = google.colab.kernel.comms.open(comm_id)\n        comm_promise.then((comm) => {\n          window.PyViz.comms[comm_id] = comm;\n          if (msg_handler) {\n            var messages = comm.messages[Symbol.asyncIterator]();\n            function processIteratorResult(result) {\n              var message = result.value;\n              var content = {data: message.data};\n              var metadata = message.metadata || {comm_id};\n              var msg = {content, metadata}\n              msg_handler(msg);\n              return messages.next().then(processIteratorResult);\n            }\n            return messages.next().then(processIteratorResult);\n          }\n        }) \n        var sendClosure = (data, metadata, buffers, disposeOnDone) => {\n          return comm_promise.then((comm) => {\n            comm.send(data, metadata, buffers, disposeOnDone);\n          });\n        };\n        var comm = {\n          send: sendClosure\n        };\n      }\n      window.PyViz.comms[comm_id] = comm;\n      return comm;\n    }\n    window.PyViz.comm_manager = new JupyterCommManager();\n    \n\n\nvar JS_MIME_TYPE = 'application/javascript';\nvar HTML_MIME_TYPE = 'text/html';\nvar EXEC_MIME_TYPE = 'application/vnd.holoviews_exec.v0+json';\nvar CLASS_NAME = 'output';\n\n/**\n * Render data to the DOM node\n */\nfunction render(props, node) {\n  var div = document.createElement(\"div\");\n  var script = document.createElement(\"script\");\n  node.appendChild(div);\n  node.appendChild(script);\n}\n\n/**\n * Handle when a new output is added\n */\nfunction handle_add_output(event, handle) {\n  var output_area = handle.output_area;\n  var output = handle.output;\n  if ((output.data == undefined) || (!output.data.hasOwnProperty(EXEC_MIME_TYPE))) {\n    return\n  }\n  var id = output.metadata[EXEC_MIME_TYPE][\"id\"];\n  var toinsert = output_area.element.find(\".\" + CLASS_NAME.split(' ')[0]);\n  if (id !== undefined) {\n    var nchildren = toinsert.length;\n    var html_node = toinsert[nchildren-1].children[0];\n    html_node.innerHTML = output.data[HTML_MIME_TYPE];\n    var scripts = [];\n    var nodelist = html_node.querySelectorAll(\"script\");\n    for (var i in nodelist) {\n      if (nodelist.hasOwnProperty(i)) {\n        scripts.push(nodelist[i])\n      }\n    }\n\n    scripts.forEach( function (oldScript) {\n      var newScript = document.createElement(\"script\");\n      var attrs = [];\n      var nodemap = oldScript.attributes;\n      for (var j in nodemap) {\n        if (nodemap.hasOwnProperty(j)) {\n          attrs.push(nodemap[j])\n        }\n      }\n      attrs.forEach(function(attr) { newScript.setAttribute(attr.name, attr.value) });\n      newScript.appendChild(document.createTextNode(oldScript.innerHTML));\n      oldScript.parentNode.replaceChild(newScript, oldScript);\n    });\n    if (JS_MIME_TYPE in output.data) {\n      toinsert[nchildren-1].children[1].textContent = output.data[JS_MIME_TYPE];\n    }\n    output_area._hv_plot_id = id;\n    if ((window.Bokeh !== undefined) && (id in Bokeh.index)) {\n      window.PyViz.plot_index[id] = Bokeh.index[id];\n    } else {\n      window.PyViz.plot_index[id] = null;\n    }\n  } else if (output.metadata[EXEC_MIME_TYPE][\"server_id\"] !== undefined) {\n    var bk_div = document.createElement(\"div\");\n    bk_div.innerHTML = output.data[HTML_MIME_TYPE];\n    var script_attrs = bk_div.children[0].attributes;\n    for (var i = 0; i < script_attrs.length; i++) {\n      toinsert[toinsert.length - 1].childNodes[1].setAttribute(script_attrs[i].name, script_attrs[i].value);\n    }\n    // store reference to server id on output_area\n    output_area._bokeh_server_id = output.metadata[EXEC_MIME_TYPE][\"server_id\"];\n  }\n}\n\n/**\n * Handle when an output is cleared or removed\n */\nfunction handle_clear_output(event, handle) {\n  var id = handle.cell.output_area._hv_plot_id;\n  var server_id = handle.cell.output_area._bokeh_server_id;\n  if (((id === undefined) || !(id in PyViz.plot_index)) && (server_id !== undefined)) { return; }\n  var comm = window.PyViz.comm_manager.get_client_comm(\"hv-extension-comm\", \"hv-extension-comm\", function () {});\n  if (server_id !== null) {\n    comm.send({event_type: 'server_delete', 'id': server_id});\n    return;\n  } else if (comm !== null) {\n    comm.send({event_type: 'delete', 'id': id});\n  }\n  delete PyViz.plot_index[id];\n  if ((window.Bokeh !== undefined) & (id in window.Bokeh.index)) {\n    var doc = window.Bokeh.index[id].model.document\n    doc.clear();\n    const i = window.Bokeh.documents.indexOf(doc);\n    if (i > -1) {\n      window.Bokeh.documents.splice(i, 1);\n    }\n  }\n}\n\n/**\n * Handle kernel restart event\n */\nfunction handle_kernel_cleanup(event, handle) {\n  delete PyViz.comms[\"hv-extension-comm\"];\n  window.PyViz.plot_index = {}\n}\n\n/**\n * Handle update_display_data messages\n */\nfunction handle_update_output(event, handle) {\n  handle_clear_output(event, {cell: {output_area: handle.output_area}})\n  handle_add_output(event, handle)\n}\n\nfunction register_renderer(events, OutputArea) {\n  function append_mime(data, metadata, element) {\n    // create a DOM node to render to\n    var toinsert = this.create_output_subarea(\n    metadata,\n    CLASS_NAME,\n    EXEC_MIME_TYPE\n    );\n    this.keyboard_manager.register_events(toinsert);\n    // Render to node\n    var props = {data: data, metadata: metadata[EXEC_MIME_TYPE]};\n    render(props, toinsert[0]);\n    element.append(toinsert);\n    return toinsert\n  }\n\n  events.on('output_added.OutputArea', handle_add_output);\n  events.on('output_updated.OutputArea', handle_update_output);\n  events.on('clear_output.CodeCell', handle_clear_output);\n  events.on('delete.Cell', handle_clear_output);\n  events.on('kernel_ready.Kernel', handle_kernel_cleanup);\n\n  OutputArea.prototype.register_mime_type(EXEC_MIME_TYPE, append_mime, {\n    safe: true,\n    index: 0\n  });\n}\n\nif (window.Jupyter !== undefined) {\n  try {\n    var events = require('base/js/events');\n    var OutputArea = require('notebook/js/outputarea').OutputArea;\n    if (OutputArea.prototype.mime_types().indexOf(EXEC_MIME_TYPE) == -1) {\n      register_renderer(events, OutputArea);\n    }\n  } catch(err) {\n  }\n}\n",
      "application/vnd.holoviews_load.v0+json": ""
     },
     "metadata": {},
     "output_type": "display_data"
    },
    {
     "data": {
      "text/html": [
       "<style>*[data-root-id],\n",
       "*[data-root-id] > * {\n",
       "  box-sizing: border-box;\n",
       "  font-family: var(--jp-ui-font-family);\n",
       "  font-size: var(--jp-ui-font-size1);\n",
       "  color: var(--vscode-editor-foreground, var(--jp-ui-font-color1));\n",
       "}\n",
       "\n",
       "/* Override VSCode background color */\n",
       ".cell-output-ipywidget-background:has(\n",
       "    > .cell-output-ipywidget-background > .lm-Widget > *[data-root-id]\n",
       "  ),\n",
       ".cell-output-ipywidget-background:has(> .lm-Widget > *[data-root-id]) {\n",
       "  background-color: transparent !important;\n",
       "}\n",
       "</style>"
      ]
     },
     "metadata": {},
     "output_type": "display_data"
    },
    {
     "name": "stdout",
     "output_type": "stream",
     "text": [
      "Launching server at http://localhost:43059\n"
     ]
    },
    {
     "data": {
      "application/javascript": "(function(root) {\n  function now() {\n    return new Date();\n  }\n\n  var force = true;\n  var py_version = '3.4.1'.replace('rc', '-rc.').replace('.dev', '-dev.');\n  var reloading = true;\n  var Bokeh = root.Bokeh;\n\n  if (typeof (root._bokeh_timeout) === \"undefined\" || force) {\n    root._bokeh_timeout = Date.now() + 5000;\n    root._bokeh_failed_load = false;\n  }\n\n  function run_callbacks() {\n    try {\n      root._bokeh_onload_callbacks.forEach(function(callback) {\n        if (callback != null)\n          callback();\n      });\n    } finally {\n      delete root._bokeh_onload_callbacks;\n    }\n    console.debug(\"Bokeh: all callbacks have finished\");\n  }\n\n  function load_libs(css_urls, js_urls, js_modules, js_exports, callback) {\n    if (css_urls == null) css_urls = [];\n    if (js_urls == null) js_urls = [];\n    if (js_modules == null) js_modules = [];\n    if (js_exports == null) js_exports = {};\n\n    root._bokeh_onload_callbacks.push(callback);\n\n    if (root._bokeh_is_loading > 0) {\n      console.debug(\"Bokeh: BokehJS is being loaded, scheduling callback at\", now());\n      return null;\n    }\n    if (js_urls.length === 0 && js_modules.length === 0 && Object.keys(js_exports).length === 0) {\n      run_callbacks();\n      return null;\n    }\n    if (!reloading) {\n      console.debug(\"Bokeh: BokehJS not loaded, scheduling load and callback at\", now());\n    }\n\n    function on_load() {\n      root._bokeh_is_loading--;\n      if (root._bokeh_is_loading === 0) {\n        console.debug(\"Bokeh: all BokehJS libraries/stylesheets loaded\");\n        run_callbacks()\n      }\n    }\n    window._bokeh_on_load = on_load\n\n    function on_error() {\n      console.error(\"failed to load \" + url);\n    }\n\n    var skip = [];\n    if (window.requirejs) {\n      window.requirejs.config({'packages': {}, 'paths': {}, 'shim': {}});\n      root._bokeh_is_loading = css_urls.length + 0;\n    } else {\n      root._bokeh_is_loading = css_urls.length + js_urls.length + js_modules.length + Object.keys(js_exports).length;\n    }\n\n    var existing_stylesheets = []\n    var links = document.getElementsByTagName('link')\n    for (var i = 0; i < links.length; i++) {\n      var link = links[i]\n      if (link.href != null) {\n\texisting_stylesheets.push(link.href)\n      }\n    }\n    for (var i = 0; i < css_urls.length; i++) {\n      var url = css_urls[i];\n      if (existing_stylesheets.indexOf(url) !== -1) {\n\ton_load()\n\tcontinue;\n      }\n      const element = document.createElement(\"link\");\n      element.onload = on_load;\n      element.onerror = on_error;\n      element.rel = \"stylesheet\";\n      element.type = \"text/css\";\n      element.href = url;\n      console.debug(\"Bokeh: injecting link tag for BokehJS stylesheet: \", url);\n      document.body.appendChild(element);\n    }    var existing_scripts = []\n    var scripts = document.getElementsByTagName('script')\n    for (var i = 0; i < scripts.length; i++) {\n      var script = scripts[i]\n      if (script.src != null) {\n\texisting_scripts.push(script.src)\n      }\n    }\n    for (var i = 0; i < js_urls.length; i++) {\n      var url = js_urls[i];\n      if (skip.indexOf(url) !== -1 || existing_scripts.indexOf(url) !== -1) {\n\tif (!window.requirejs) {\n\t  on_load();\n\t}\n\tcontinue;\n      }\n      var element = document.createElement('script');\n      element.onload = on_load;\n      element.onerror = on_error;\n      element.async = false;\n      element.src = url;\n      console.debug(\"Bokeh: injecting script tag for BokehJS library: \", url);\n      document.head.appendChild(element);\n    }\n    for (var i = 0; i < js_modules.length; i++) {\n      var url = js_modules[i];\n      if (skip.indexOf(url) !== -1 || existing_scripts.indexOf(url) !== -1) {\n\tif (!window.requirejs) {\n\t  on_load();\n\t}\n\tcontinue;\n      }\n      var element = document.createElement('script');\n      element.onload = on_load;\n      element.onerror = on_error;\n      element.async = false;\n      element.src = url;\n      element.type = \"module\";\n      console.debug(\"Bokeh: injecting script tag for BokehJS library: \", url);\n      document.head.appendChild(element);\n    }\n    for (const name in js_exports) {\n      var url = js_exports[name];\n      if (skip.indexOf(url) >= 0 || root[name] != null) {\n\tif (!window.requirejs) {\n\t  on_load();\n\t}\n\tcontinue;\n      }\n      var element = document.createElement('script');\n      element.onerror = on_error;\n      element.async = false;\n      element.type = \"module\";\n      console.debug(\"Bokeh: injecting script tag for BokehJS library: \", url);\n      element.textContent = `\n      import ${name} from \"${url}\"\n      window.${name} = ${name}\n      window._bokeh_on_load()\n      `\n      document.head.appendChild(element);\n    }\n    if (!js_urls.length && !js_modules.length) {\n      on_load()\n    }\n  };\n\n  function inject_raw_css(css) {\n    const element = document.createElement(\"style\");\n    element.appendChild(document.createTextNode(css));\n    document.body.appendChild(element);\n  }\n\n  var js_urls = [];\n  var js_modules = [];\n  var js_exports = {};\n  var css_urls = [];\n  var inline_js = [    function(Bokeh) {\n      Bokeh.set_log_level(\"info\");\n    },\nfunction(Bokeh) {} // ensure no trailing comma for IE\n  ];\n\n  function run_inline_js() {\n    if ((root.Bokeh !== undefined) || (force === true)) {\n      for (var i = 0; i < inline_js.length; i++) {\n\ttry {\n          inline_js[i].call(root, root.Bokeh);\n\t} catch(e) {\n\t  if (!reloading) {\n\t    throw e;\n\t  }\n\t}\n      }\n      // Cache old bokeh versions\n      if (Bokeh != undefined && !reloading) {\n\tvar NewBokeh = root.Bokeh;\n\tif (Bokeh.versions === undefined) {\n\t  Bokeh.versions = new Map();\n\t}\n\tif (NewBokeh.version !== Bokeh.version) {\n\t  Bokeh.versions.set(NewBokeh.version, NewBokeh)\n\t}\n\troot.Bokeh = Bokeh;\n      }} else if (Date.now() < root._bokeh_timeout) {\n      setTimeout(run_inline_js, 100);\n    } else if (!root._bokeh_failed_load) {\n      console.log(\"Bokeh: BokehJS failed to load within specified timeout.\");\n      root._bokeh_failed_load = true;\n    }\n    root._bokeh_is_initializing = false\n  }\n\n  function load_or_wait() {\n    // Implement a backoff loop that tries to ensure we do not load multiple\n    // versions of Bokeh and its dependencies at the same time.\n    // In recent versions we use the root._bokeh_is_initializing flag\n    // to determine whether there is an ongoing attempt to initialize\n    // bokeh, however for backward compatibility we also try to ensure\n    // that we do not start loading a newer (Panel>=1.0 and Bokeh>3) version\n    // before older versions are fully initialized.\n    if (root._bokeh_is_initializing && Date.now() > root._bokeh_timeout) {\n      root._bokeh_is_initializing = false;\n      root._bokeh_onload_callbacks = undefined;\n      console.log(\"Bokeh: BokehJS was loaded multiple times but one version failed to initialize.\");\n      load_or_wait();\n    } else if (root._bokeh_is_initializing || (typeof root._bokeh_is_initializing === \"undefined\" && root._bokeh_onload_callbacks !== undefined)) {\n      setTimeout(load_or_wait, 100);\n    } else {\n      root._bokeh_is_initializing = true\n      root._bokeh_onload_callbacks = []\n      var bokeh_loaded = Bokeh != null && (Bokeh.version === py_version || (Bokeh.versions !== undefined && Bokeh.versions.has(py_version)));\n      if (!reloading && !bokeh_loaded) {\n\troot.Bokeh = undefined;\n      }\n      load_libs(css_urls, js_urls, js_modules, js_exports, function() {\n\tconsole.debug(\"Bokeh: BokehJS plotting callback run at\", now());\n\trun_inline_js();\n      });\n    }\n  }\n  // Give older versions of the autoload script a head-start to ensure\n  // they initialize before we start loading newer version.\n  setTimeout(load_or_wait, 100)\n}(window));",
      "application/vnd.holoviews_load.v0+json": ""
     },
     "metadata": {},
     "output_type": "display_data"
    },
    {
     "data": {
      "application/javascript": "\nif ((window.PyViz === undefined) || (window.PyViz instanceof HTMLElement)) {\n  window.PyViz = {comms: {}, comm_status:{}, kernels:{}, receivers: {}, plot_index: []}\n}\n\n\n    function JupyterCommManager() {\n    }\n\n    JupyterCommManager.prototype.register_target = function(plot_id, comm_id, msg_handler) {\n      if (window.comm_manager || ((window.Jupyter !== undefined) && (Jupyter.notebook.kernel != null))) {\n        var comm_manager = window.comm_manager || Jupyter.notebook.kernel.comm_manager;\n        comm_manager.register_target(comm_id, function(comm) {\n          comm.on_msg(msg_handler);\n        });\n      } else if ((plot_id in window.PyViz.kernels) && (window.PyViz.kernels[plot_id])) {\n        window.PyViz.kernels[plot_id].registerCommTarget(comm_id, function(comm) {\n          comm.onMsg = msg_handler;\n        });\n      } else if (typeof google != 'undefined' && google.colab.kernel != null) {\n        google.colab.kernel.comms.registerTarget(comm_id, (comm) => {\n          var messages = comm.messages[Symbol.asyncIterator]();\n          function processIteratorResult(result) {\n            var message = result.value;\n            console.log(message)\n            var content = {data: message.data, comm_id};\n            var buffers = []\n            for (var buffer of message.buffers || []) {\n              buffers.push(new DataView(buffer))\n            }\n            var metadata = message.metadata || {};\n            var msg = {content, buffers, metadata}\n            msg_handler(msg);\n            return messages.next().then(processIteratorResult);\n          }\n          return messages.next().then(processIteratorResult);\n        })\n      }\n    }\n\n    JupyterCommManager.prototype.get_client_comm = function(plot_id, comm_id, msg_handler) {\n      if (comm_id in window.PyViz.comms) {\n        return window.PyViz.comms[comm_id];\n      } else if (window.comm_manager || ((window.Jupyter !== undefined) && (Jupyter.notebook.kernel != null))) {\n        var comm_manager = window.comm_manager || Jupyter.notebook.kernel.comm_manager;\n        var comm = comm_manager.new_comm(comm_id, {}, {}, {}, comm_id);\n        if (msg_handler) {\n          comm.on_msg(msg_handler);\n        }\n      } else if ((plot_id in window.PyViz.kernels) && (window.PyViz.kernels[plot_id])) {\n        var comm = window.PyViz.kernels[plot_id].connectToComm(comm_id);\n        comm.open();\n        if (msg_handler) {\n          comm.onMsg = msg_handler;\n        }\n      } else if (typeof google != 'undefined' && google.colab.kernel != null) {\n        var comm_promise = google.colab.kernel.comms.open(comm_id)\n        comm_promise.then((comm) => {\n          window.PyViz.comms[comm_id] = comm;\n          if (msg_handler) {\n            var messages = comm.messages[Symbol.asyncIterator]();\n            function processIteratorResult(result) {\n              var message = result.value;\n              var content = {data: message.data};\n              var metadata = message.metadata || {comm_id};\n              var msg = {content, metadata}\n              msg_handler(msg);\n              return messages.next().then(processIteratorResult);\n            }\n            return messages.next().then(processIteratorResult);\n          }\n        }) \n        var sendClosure = (data, metadata, buffers, disposeOnDone) => {\n          return comm_promise.then((comm) => {\n            comm.send(data, metadata, buffers, disposeOnDone);\n          });\n        };\n        var comm = {\n          send: sendClosure\n        };\n      }\n      window.PyViz.comms[comm_id] = comm;\n      return comm;\n    }\n    window.PyViz.comm_manager = new JupyterCommManager();\n    \n\n\nvar JS_MIME_TYPE = 'application/javascript';\nvar HTML_MIME_TYPE = 'text/html';\nvar EXEC_MIME_TYPE = 'application/vnd.holoviews_exec.v0+json';\nvar CLASS_NAME = 'output';\n\n/**\n * Render data to the DOM node\n */\nfunction render(props, node) {\n  var div = document.createElement(\"div\");\n  var script = document.createElement(\"script\");\n  node.appendChild(div);\n  node.appendChild(script);\n}\n\n/**\n * Handle when a new output is added\n */\nfunction handle_add_output(event, handle) {\n  var output_area = handle.output_area;\n  var output = handle.output;\n  if ((output.data == undefined) || (!output.data.hasOwnProperty(EXEC_MIME_TYPE))) {\n    return\n  }\n  var id = output.metadata[EXEC_MIME_TYPE][\"id\"];\n  var toinsert = output_area.element.find(\".\" + CLASS_NAME.split(' ')[0]);\n  if (id !== undefined) {\n    var nchildren = toinsert.length;\n    var html_node = toinsert[nchildren-1].children[0];\n    html_node.innerHTML = output.data[HTML_MIME_TYPE];\n    var scripts = [];\n    var nodelist = html_node.querySelectorAll(\"script\");\n    for (var i in nodelist) {\n      if (nodelist.hasOwnProperty(i)) {\n        scripts.push(nodelist[i])\n      }\n    }\n\n    scripts.forEach( function (oldScript) {\n      var newScript = document.createElement(\"script\");\n      var attrs = [];\n      var nodemap = oldScript.attributes;\n      for (var j in nodemap) {\n        if (nodemap.hasOwnProperty(j)) {\n          attrs.push(nodemap[j])\n        }\n      }\n      attrs.forEach(function(attr) { newScript.setAttribute(attr.name, attr.value) });\n      newScript.appendChild(document.createTextNode(oldScript.innerHTML));\n      oldScript.parentNode.replaceChild(newScript, oldScript);\n    });\n    if (JS_MIME_TYPE in output.data) {\n      toinsert[nchildren-1].children[1].textContent = output.data[JS_MIME_TYPE];\n    }\n    output_area._hv_plot_id = id;\n    if ((window.Bokeh !== undefined) && (id in Bokeh.index)) {\n      window.PyViz.plot_index[id] = Bokeh.index[id];\n    } else {\n      window.PyViz.plot_index[id] = null;\n    }\n  } else if (output.metadata[EXEC_MIME_TYPE][\"server_id\"] !== undefined) {\n    var bk_div = document.createElement(\"div\");\n    bk_div.innerHTML = output.data[HTML_MIME_TYPE];\n    var script_attrs = bk_div.children[0].attributes;\n    for (var i = 0; i < script_attrs.length; i++) {\n      toinsert[toinsert.length - 1].childNodes[1].setAttribute(script_attrs[i].name, script_attrs[i].value);\n    }\n    // store reference to server id on output_area\n    output_area._bokeh_server_id = output.metadata[EXEC_MIME_TYPE][\"server_id\"];\n  }\n}\n\n/**\n * Handle when an output is cleared or removed\n */\nfunction handle_clear_output(event, handle) {\n  var id = handle.cell.output_area._hv_plot_id;\n  var server_id = handle.cell.output_area._bokeh_server_id;\n  if (((id === undefined) || !(id in PyViz.plot_index)) && (server_id !== undefined)) { return; }\n  var comm = window.PyViz.comm_manager.get_client_comm(\"hv-extension-comm\", \"hv-extension-comm\", function () {});\n  if (server_id !== null) {\n    comm.send({event_type: 'server_delete', 'id': server_id});\n    return;\n  } else if (comm !== null) {\n    comm.send({event_type: 'delete', 'id': id});\n  }\n  delete PyViz.plot_index[id];\n  if ((window.Bokeh !== undefined) & (id in window.Bokeh.index)) {\n    var doc = window.Bokeh.index[id].model.document\n    doc.clear();\n    const i = window.Bokeh.documents.indexOf(doc);\n    if (i > -1) {\n      window.Bokeh.documents.splice(i, 1);\n    }\n  }\n}\n\n/**\n * Handle kernel restart event\n */\nfunction handle_kernel_cleanup(event, handle) {\n  delete PyViz.comms[\"hv-extension-comm\"];\n  window.PyViz.plot_index = {}\n}\n\n/**\n * Handle update_display_data messages\n */\nfunction handle_update_output(event, handle) {\n  handle_clear_output(event, {cell: {output_area: handle.output_area}})\n  handle_add_output(event, handle)\n}\n\nfunction register_renderer(events, OutputArea) {\n  function append_mime(data, metadata, element) {\n    // create a DOM node to render to\n    var toinsert = this.create_output_subarea(\n    metadata,\n    CLASS_NAME,\n    EXEC_MIME_TYPE\n    );\n    this.keyboard_manager.register_events(toinsert);\n    // Render to node\n    var props = {data: data, metadata: metadata[EXEC_MIME_TYPE]};\n    render(props, toinsert[0]);\n    element.append(toinsert);\n    return toinsert\n  }\n\n  events.on('output_added.OutputArea', handle_add_output);\n  events.on('output_updated.OutputArea', handle_update_output);\n  events.on('clear_output.CodeCell', handle_clear_output);\n  events.on('delete.Cell', handle_clear_output);\n  events.on('kernel_ready.Kernel', handle_kernel_cleanup);\n\n  OutputArea.prototype.register_mime_type(EXEC_MIME_TYPE, append_mime, {\n    safe: true,\n    index: 0\n  });\n}\n\nif (window.Jupyter !== undefined) {\n  try {\n    var events = require('base/js/events');\n    var OutputArea = require('notebook/js/outputarea').OutputArea;\n    if (OutputArea.prototype.mime_types().indexOf(EXEC_MIME_TYPE) == -1) {\n      register_renderer(events, OutputArea);\n    }\n  } catch(err) {\n  }\n}\n",
      "application/vnd.holoviews_load.v0+json": ""
     },
     "metadata": {},
     "output_type": "display_data"
    },
    {
     "data": {
      "text/html": [
       "<style>*[data-root-id],\n",
       "*[data-root-id] > * {\n",
       "  box-sizing: border-box;\n",
       "  font-family: var(--jp-ui-font-family);\n",
       "  font-size: var(--jp-ui-font-size1);\n",
       "  color: var(--vscode-editor-foreground, var(--jp-ui-font-color1));\n",
       "}\n",
       "\n",
       "/* Override VSCode background color */\n",
       ".cell-output-ipywidget-background:has(\n",
       "    > .cell-output-ipywidget-background > .lm-Widget > *[data-root-id]\n",
       "  ),\n",
       ".cell-output-ipywidget-background:has(> .lm-Widget > *[data-root-id]) {\n",
       "  background-color: transparent !important;\n",
       "}\n",
       "</style>"
      ]
     },
     "metadata": {},
     "output_type": "display_data"
    },
    {
     "name": "stdout",
     "output_type": "stream",
     "text": [
      "Launching server at http://localhost:33235\n"
     ]
    }
   ],
   "source": [
    "for y in targets:\n",
    "    s1, s2, s3, s4 = tuple(scores_dict[y].values())\n",
    "    panel = plot_scores(s1, s2, s3, s4)\n",
    "    panel.show()"
   ]
  },
  {
   "cell_type": "code",
   "execution_count": 23,
   "metadata": {},
   "outputs": [
    {
     "data": {
      "image/png": "[encoded data removed]",
      "text/plain": [
       "<Figure size 600x600 with 3 Axes>"
      ]
     },
     "metadata": {},
     "output_type": "display_data"
    },
    {
     "data": {
      "image/png": "[encoded data removed]",
      "text/plain": [
       "<Figure size 600x600 with 3 Axes>"
      ]
     },
     "metadata": {},
     "output_type": "display_data"
    },
    {
     "data": {
      "image/png": "[encoded data removed]",
      "text/plain": [
       "<Figure size 600x600 with 3 Axes>"
      ]
     },
     "metadata": {},
     "output_type": "display_data"
    },
    {
     "data": {
      "image/png": "[encoded data removed]",
      "text/plain": [
       "<Figure size 600x600 with 3 Axes>"
      ]
     },
     "metadata": {},
     "output_type": "display_data"
    }
   ],
   "source": [
    "for i, m_name in enumerate(models.keys()):\n",
    "    y_true = df_holdout['IST_intelligence_total']\n",
    "    y_pred_fluid = model_dict['IST_fluid'][m_name].predict(df_holdout[X])\n",
    "    y_pred_memory = model_dict['IST_memory'][m_name].predict(df_holdout[X])\n",
    "    y_pred_crystallised = model_dict['IST_crystallised'][m_name].predict(df_holdout[X])\n",
    "\n",
    "    y_pred = y_pred_fluid + y_pred_memory + y_pred_crystallised\n",
    "\n",
    "    df_plot = pd.DataFrame({\"y_true\": y_true, \"y_pred\": y_pred})\n",
    "    j = sns.jointplot(data=df_plot, x=\"y_true\", y=\"y_pred\", kind=\"reg\")\n",
    "    plt.suptitle(f'IST_intelligence_total vs {m_name} prediction')\n",
    "    j.fig.subplots_adjust(top=0.95)\n",
    "    j.savefig(f'./svg/Shen/IST_total_vs_{m_name}_pred.svg')"
   ]
  },
  {
   "cell_type": "code",
   "execution_count": 31,
   "metadata": {},
   "outputs": [],
   "source": [
    "for target, score_by_model_for_target in scores_dict.items():\n",
    "    for model_name, score_for_model in score_by_model_for_target.items():\n",
    "        score_for_model.to_csv(f'./scores/Shen/{target}_{model_name}.csv')"
   ]
  },
  {
   "cell_type": "code",
   "execution_count": 30,
   "metadata": {},
   "outputs": [
    {
     "name": "stdout",
     "output_type": "stream",
     "text": [
      "===================== SVM =====================\n",
      "IST_fluid MAE for SVM: 20.783632396699208\n",
      "IST_fluid mean_pred for SVM: 109.55495967775079\n",
      "IST_fluid std_pred for SVM: 4.588402147428429\n",
      "------------------------------------------\n",
      "IST_crystallised MAE for SVM: 7.742754719818841\n",
      "IST_crystallised mean_pred for SVM: 39.935568625368134\n",
      "IST_crystallised std_pred for SVM: 2.653124405008875\n",
      "------------------------------------------\n",
      "IST_memory MAE for SVM: 8.469266835394519\n",
      "IST_memory mean_pred for SVM: 55.52508116835946\n",
      "IST_memory std_pred for SVM: 1.6160613499824557\n",
      "===================== RF =====================\n",
      "IST_fluid MAE for RF: 20.828298594959456\n",
      "IST_fluid mean_pred for RF: 107.84927803115623\n",
      "IST_fluid std_pred for RF: 4.369836116163615\n",
      "------------------------------------------\n",
      "IST_crystallised MAE for RF: 7.777916819205103\n",
      "IST_crystallised mean_pred for RF: 39.79905399977199\n",
      "IST_crystallised std_pred for RF: 1.4335607935505805\n",
      "------------------------------------------\n",
      "IST_memory MAE for RF: 8.461263807195966\n",
      "IST_memory mean_pred for RF: 55.01567711709704\n",
      "IST_memory std_pred for RF: 1.576874987605617\n",
      "===================== XGBoost =====================\n",
      "IST_fluid MAE for XGBoost: 21.166584708037508\n",
      "IST_fluid mean_pred for XGBoost: 105.83165668771917\n",
      "IST_fluid std_pred for XGBoost: 6.831055647774854\n",
      "------------------------------------------\n",
      "IST_crystallised MAE for XGBoost: 7.9162048001672565\n",
      "IST_crystallised mean_pred for XGBoost: 39.991862057706996\n",
      "IST_crystallised std_pred for XGBoost: 2.163084035728917\n",
      "------------------------------------------\n",
      "IST_memory MAE for XGBoost: 8.427256633602939\n",
      "IST_memory mean_pred for XGBoost: 55.0762418414222\n",
      "IST_memory std_pred for XGBoost: 2.51066784740991\n",
      "===================== Dummy =====================\n",
      "IST_fluid MAE for Dummy: 20.983038376640977\n",
      "IST_fluid mean_pred for Dummy: 107.4741896758703\n",
      "IST_fluid std_pred for Dummy: 4.263256414560601e-14\n",
      "------------------------------------------\n",
      "IST_crystallised MAE for Dummy: 7.774154823219611\n",
      "IST_crystallised mean_pred for Dummy: 39.63985594237695\n",
      "IST_crystallised std_pred for Dummy: 7.105427357601002e-15\n",
      "------------------------------------------\n",
      "IST_memory MAE for Dummy: 8.221107797957893\n",
      "IST_memory mean_pred for Dummy: 54.63385354141659\n",
      "IST_memory std_pred for Dummy: 2.842170943040401e-14\n"
     ]
    }
   ],
   "source": [
    "for i, m_name in enumerate(models.keys()):\n",
    "    y_true_fluid = df_holdout['IST_fluid']\n",
    "    y_true_crystallised = df_holdout['IST_crystallised']\n",
    "    y_true_memory = df_holdout['IST_memory']\n",
    "    y_pred_fluid = model_dict['IST_fluid'][m_name].predict(df_holdout[X])\n",
    "    y_pred_crystallised = model_dict['IST_crystallised'][m_name].predict(df_holdout[X])\n",
    "    y_pred_memory = model_dict['IST_memory'][m_name].predict(df_holdout[X])\n",
    "\n",
    "    y_mae_fluid = np.mean(abs(y_true_fluid - y_pred_fluid))\n",
    "    y_mae_crystallised = np.mean(abs(y_true_crystallised - y_pred_crystallised))\n",
    "    y_mae_memory = np.mean(abs(y_true_memory - y_pred_memory))\n",
    "\n",
    "    np.savetxt(f\"shen_{m_name}_y_pred_fluid.csv\", y_pred_fluid, delimiter=\",\")\n",
    "    np.savetxt(f\"shen_{m_name}_y_pred_crystallised.csv\", y_pred_crystallised, delimiter=\",\")\n",
    "    np.savetxt(f\"shen_{m_name}_y_pred_memory.csv\", y_pred_memory, delimiter=\",\")\n",
    "    y_true_fluid.to_csv('shen_y_true_fluid.csv')\n",
    "    y_true_crystallised.to_csv('shen_y_true_crystallised.csv')\n",
    "    y_true_memory.to_csv('shen_y_true_memory.csv')\n",
    "\n",
    "    print(f'===================== {m_name} =====================')\n",
    "    print(f'IST_fluid MAE for {m_name}: {y_mae_fluid}')\n",
    "    print(f'IST_fluid mean_pred for {m_name}: {np.mean(y_pred_fluid)}')\n",
    "    print(f'IST_fluid std_pred for {m_name}: {np.std(y_pred_fluid)}')\n",
    "    print('------------------------------------------')\n",
    "    print(f'IST_crystallised MAE for {m_name}: {y_mae_crystallised}')\n",
    "    print(f'IST_crystallised mean_pred for {m_name}: {np.mean(y_pred_crystallised)}')\n",
    "    print(f'IST_crystallised std_pred for {m_name}: {np.std(y_pred_crystallised)}')\n",
    "    print('------------------------------------------')\n",
    "    print(f'IST_memory MAE for {m_name}: {y_mae_memory}')\n",
    "    print(f'IST_memory mean_pred for {m_name}: {np.mean(y_pred_memory)}')\n",
    "    print(f'IST_memory std_pred for {m_name}: {np.std(y_pred_memory)}')"
   ]
  },
  {
   "cell_type": "code",
   "execution_count": 32,
   "metadata": {},
   "outputs": [
    {
     "name": "stdout",
     "output_type": "stream",
     "text": [
      "IST_fluid\n",
      "107.47418967587035\n",
      "25.901829974193745\n",
      "IST_crystallised\n",
      "39.639855942376954\n",
      "10.263395298461262\n",
      "IST_memory\n",
      "54.63385354141656\n",
      "8.895236955379861\n"
     ]
    }
   ],
   "source": [
    "for y in targets:\n",
    "    print(y)\n",
    "    print(np.mean(df_full[y]))\n",
    "    print(np.std(df_full[y]))"
   ]
  },
  {
   "cell_type": "code",
   "execution_count": 25,
   "metadata": {},
   "outputs": [],
   "source": [
    "df_holdout.to_csv('shen_holdout.csv')"
   ]
  }
 ],
 "metadata": {
  "kernelspec": {
   "display_name": "neurodc",
   "language": "python",
   "name": "python3"
  },
  "language_info": {
   "codemirror_mode": {
    "name": "ipython",
    "version": 3
   },
   "file_extension": ".py",
   "mimetype": "text/x-python",
   "name": "python",
   "nbconvert_exporter": "python",
   "pygments_lexer": "ipython3",
   "version": "3.11.9"
  }
 },
 "nbformat": 4,
 "nbformat_minor": 2
}
